{
 "cells": [
  {
   "cell_type": "markdown",
   "metadata": {},
   "source": [
    "# **<p style=\"text-align: center;\">Анализ успешности игр в интернет-магазине</p>**"
   ]
  },
  {
   "cell_type": "markdown",
   "metadata": {},
   "source": [
    "## Откроем файл с данными и изучим общую информацию."
   ]
  },
  {
   "cell_type": "markdown",
   "metadata": {},
   "source": [
    "### Импорт необходимых библиотек:"
   ]
  },
  {
   "cell_type": "code",
   "execution_count": 1,
   "metadata": {},
   "outputs": [],
   "source": [
    "import pandas as pd\n",
    "import numpy as np\n",
    "import matplotlib.pyplot as plt\n",
    "import seaborn as sns\n",
    "import scipy.stats as stats\n",
    "from scipy.stats import ttest_ind\n",
    "import plotly.express as px"
   ]
  },
  {
   "cell_type": "markdown",
   "metadata": {},
   "source": [
    "### Загрузка данных."
   ]
  },
  {
   "cell_type": "code",
   "execution_count": 2,
   "metadata": {},
   "outputs": [
    {
     "data": {
      "text/html": [
       "<div>\n",
       "<style scoped>\n",
       "    .dataframe tbody tr th:only-of-type {\n",
       "        vertical-align: middle;\n",
       "    }\n",
       "\n",
       "    .dataframe tbody tr th {\n",
       "        vertical-align: top;\n",
       "    }\n",
       "\n",
       "    .dataframe thead th {\n",
       "        text-align: right;\n",
       "    }\n",
       "</style>\n",
       "<table border=\"1\" class=\"dataframe\">\n",
       "  <thead>\n",
       "    <tr style=\"text-align: right;\">\n",
       "      <th></th>\n",
       "      <th>Name</th>\n",
       "      <th>Platform</th>\n",
       "      <th>Year_of_Release</th>\n",
       "      <th>Genre</th>\n",
       "      <th>NA_sales</th>\n",
       "      <th>EU_sales</th>\n",
       "      <th>JP_sales</th>\n",
       "      <th>Other_sales</th>\n",
       "      <th>Critic_Score</th>\n",
       "      <th>User_Score</th>\n",
       "      <th>Rating</th>\n",
       "    </tr>\n",
       "  </thead>\n",
       "  <tbody>\n",
       "    <tr>\n",
       "      <th>0</th>\n",
       "      <td>Wii Sports</td>\n",
       "      <td>Wii</td>\n",
       "      <td>2006.0</td>\n",
       "      <td>Sports</td>\n",
       "      <td>41.36</td>\n",
       "      <td>28.96</td>\n",
       "      <td>3.77</td>\n",
       "      <td>8.45</td>\n",
       "      <td>76.0</td>\n",
       "      <td>8</td>\n",
       "      <td>E</td>\n",
       "    </tr>\n",
       "    <tr>\n",
       "      <th>1</th>\n",
       "      <td>Super Mario Bros.</td>\n",
       "      <td>NES</td>\n",
       "      <td>1985.0</td>\n",
       "      <td>Platform</td>\n",
       "      <td>29.08</td>\n",
       "      <td>3.58</td>\n",
       "      <td>6.81</td>\n",
       "      <td>0.77</td>\n",
       "      <td>NaN</td>\n",
       "      <td>NaN</td>\n",
       "      <td>NaN</td>\n",
       "    </tr>\n",
       "    <tr>\n",
       "      <th>2</th>\n",
       "      <td>Mario Kart Wii</td>\n",
       "      <td>Wii</td>\n",
       "      <td>2008.0</td>\n",
       "      <td>Racing</td>\n",
       "      <td>15.68</td>\n",
       "      <td>12.76</td>\n",
       "      <td>3.79</td>\n",
       "      <td>3.29</td>\n",
       "      <td>82.0</td>\n",
       "      <td>8.3</td>\n",
       "      <td>E</td>\n",
       "    </tr>\n",
       "    <tr>\n",
       "      <th>3</th>\n",
       "      <td>Wii Sports Resort</td>\n",
       "      <td>Wii</td>\n",
       "      <td>2009.0</td>\n",
       "      <td>Sports</td>\n",
       "      <td>15.61</td>\n",
       "      <td>10.93</td>\n",
       "      <td>3.28</td>\n",
       "      <td>2.95</td>\n",
       "      <td>80.0</td>\n",
       "      <td>8</td>\n",
       "      <td>E</td>\n",
       "    </tr>\n",
       "    <tr>\n",
       "      <th>4</th>\n",
       "      <td>Pokemon Red/Pokemon Blue</td>\n",
       "      <td>GB</td>\n",
       "      <td>1996.0</td>\n",
       "      <td>Role-Playing</td>\n",
       "      <td>11.27</td>\n",
       "      <td>8.89</td>\n",
       "      <td>10.22</td>\n",
       "      <td>1.00</td>\n",
       "      <td>NaN</td>\n",
       "      <td>NaN</td>\n",
       "      <td>NaN</td>\n",
       "    </tr>\n",
       "  </tbody>\n",
       "</table>\n",
       "</div>"
      ],
      "text/plain": [
       "                       Name Platform  Year_of_Release         Genre  NA_sales  \\\n",
       "0                Wii Sports      Wii           2006.0        Sports     41.36   \n",
       "1         Super Mario Bros.      NES           1985.0      Platform     29.08   \n",
       "2            Mario Kart Wii      Wii           2008.0        Racing     15.68   \n",
       "3         Wii Sports Resort      Wii           2009.0        Sports     15.61   \n",
       "4  Pokemon Red/Pokemon Blue       GB           1996.0  Role-Playing     11.27   \n",
       "\n",
       "   EU_sales  JP_sales  Other_sales  Critic_Score User_Score Rating  \n",
       "0     28.96      3.77         8.45          76.0          8      E  \n",
       "1      3.58      6.81         0.77           NaN        NaN    NaN  \n",
       "2     12.76      3.79         3.29          82.0        8.3      E  \n",
       "3     10.93      3.28         2.95          80.0          8      E  \n",
       "4      8.89     10.22         1.00           NaN        NaN    NaN  "
      ]
     },
     "execution_count": 2,
     "metadata": {},
     "output_type": "execute_result"
    }
   ],
   "source": [
    "games = pd.read_csv('/datasets/games.csv')\n",
    "games.head()"
   ]
  },
  {
   "cell_type": "markdown",
   "metadata": {},
   "source": [
    "Описание данных:\n",
    "\n",
    "- Name — название игры\n",
    "- Platform — платформа\n",
    "- Year_of_Release — год выпуска\n",
    "- Genre — жанр игры\n",
    "- NA_sales — продажи в Северной Америке (миллионы проданных копий)\n",
    "- EU_sales — продажи в Европе (миллионы проданных копий)\n",
    "- JP_sales — продажи в Японии (миллионы проданных копий)\n",
    "- Other_sales — продажи в других странах (миллионы проданных копий)\n",
    "- Critic_Score — оценка критиков (максимум 100)\n",
    "- User_Score — оценка пользователей (максимум 10)\n",
    "- Rating — рейтинг от организации ESRB (англ. Entertainment Software Rating Board). Эта ассоциация определяет рейтинг компьютерных игр и присваивает им подходящую возрастную категорию."
   ]
  },
  {
   "cell_type": "markdown",
   "metadata": {},
   "source": [
    "### Изучим общую информацию."
   ]
  },
  {
   "cell_type": "code",
   "execution_count": 3,
   "metadata": {},
   "outputs": [
    {
     "name": "stdout",
     "output_type": "stream",
     "text": [
      "<class 'pandas.core.frame.DataFrame'>\n",
      "RangeIndex: 16715 entries, 0 to 16714\n",
      "Data columns (total 11 columns):\n",
      " #   Column           Non-Null Count  Dtype  \n",
      "---  ------           --------------  -----  \n",
      " 0   Name             16713 non-null  object \n",
      " 1   Platform         16715 non-null  object \n",
      " 2   Year_of_Release  16446 non-null  float64\n",
      " 3   Genre            16713 non-null  object \n",
      " 4   NA_sales         16715 non-null  float64\n",
      " 5   EU_sales         16715 non-null  float64\n",
      " 6   JP_sales         16715 non-null  float64\n",
      " 7   Other_sales      16715 non-null  float64\n",
      " 8   Critic_Score     8137 non-null   float64\n",
      " 9   User_Score       10014 non-null  object \n",
      " 10  Rating           9949 non-null   object \n",
      "dtypes: float64(6), object(5)\n",
      "memory usage: 1.4+ MB\n"
     ]
    }
   ],
   "source": [
    "games.info()"
   ]
  },
  {
   "cell_type": "code",
   "execution_count": 4,
   "metadata": {},
   "outputs": [],
   "source": [
    "games.columns = games.columns.str.lower()"
   ]
  },
  {
   "cell_type": "code",
   "execution_count": 5,
   "metadata": {},
   "outputs": [
    {
     "name": "stdout",
     "output_type": "stream",
     "text": [
      "Количество явных дубликатов: 0\n"
     ]
    }
   ],
   "source": [
    "duplicate_rows = games.duplicated().sum()\n",
    "print(\"Количество явных дубликатов:\", duplicate_rows)"
   ]
  },
  {
   "cell_type": "code",
   "execution_count": 6,
   "metadata": {},
   "outputs": [
    {
     "name": "stdout",
     "output_type": "stream",
     "text": [
      "Количество неявных дубликатов: 2\n"
     ]
    }
   ],
   "source": [
    "duplicate_rows = games.duplicated(subset=['name', 'platform', 'year_of_release']).sum()\n",
    "print(\"Количество неявных дубликатов:\", duplicate_rows)"
   ]
  },
  {
   "cell_type": "code",
   "execution_count": 7,
   "metadata": {},
   "outputs": [],
   "source": [
    "games.drop_duplicates(subset=['name', 'platform', 'year_of_release'], inplace=True)"
   ]
  },
  {
   "cell_type": "markdown",
   "metadata": {},
   "source": [
    "В данных отсутствуют явные дубликаты строк.\n",
    "    \n",
    "Было обнаружено 2 неявных дубликата в данных, содержащих одинаковые значения для столбцов 'name', 'platform' и 'year_of_release'. Эти дубликаты были удалены из набора данных.\n"
   ]
  },
  {
   "cell_type": "markdown",
   "metadata": {},
   "source": [
    "## Подготовим данные."
   ]
  },
  {
   "cell_type": "markdown",
   "metadata": {},
   "source": [
    "### Заменим названия столбцов (приведем к нижнему регистру)."
   ]
  },
  {
   "cell_type": "code",
   "execution_count": 8,
   "metadata": {},
   "outputs": [
    {
     "data": {
      "text/plain": [
       "Index(['name', 'platform', 'year_of_release', 'genre', 'na_sales', 'eu_sales',\n",
       "       'jp_sales', 'other_sales', 'critic_score', 'user_score', 'rating'],\n",
       "      dtype='object')"
      ]
     },
     "execution_count": 8,
     "metadata": {},
     "output_type": "execute_result"
    }
   ],
   "source": [
    "games.rename(columns=lambda x: x.lower(), inplace=True)\n",
    "games.columns"
   ]
  },
  {
   "cell_type": "markdown",
   "metadata": {},
   "source": [
    "### Обработаем пропуски."
   ]
  },
  {
   "cell_type": "code",
   "execution_count": 9,
   "metadata": {},
   "outputs": [
    {
     "data": {
      "text/plain": [
       "name                  1\n",
       "platform              0\n",
       "year_of_release     269\n",
       "genre                 1\n",
       "na_sales              0\n",
       "eu_sales              0\n",
       "jp_sales              0\n",
       "other_sales           0\n",
       "critic_score       8577\n",
       "user_score         6700\n",
       "rating             6765\n",
       "dtype: int64"
      ]
     },
     "execution_count": 9,
     "metadata": {},
     "output_type": "execute_result"
    }
   ],
   "source": [
    "games.isnull().sum()"
   ]
  },
  {
   "cell_type": "code",
   "execution_count": 10,
   "metadata": {},
   "outputs": [],
   "source": [
    "games = games.dropna(subset=['name'])\n",
    "games = games.dropna(subset=['year_of_release'])"
   ]
  },
  {
   "cell_type": "code",
   "execution_count": 11,
   "metadata": {},
   "outputs": [
    {
     "data": {
      "text/plain": [
       "count    7982.000000\n",
       "mean       68.992608\n",
       "std        13.920049\n",
       "min        13.000000\n",
       "25%        60.000000\n",
       "50%        71.000000\n",
       "75%        79.000000\n",
       "max        98.000000\n",
       "Name: critic_score, dtype: float64"
      ]
     },
     "execution_count": 11,
     "metadata": {},
     "output_type": "execute_result"
    }
   ],
   "source": [
    "games['critic_score'].describe()"
   ]
  },
  {
   "cell_type": "code",
   "execution_count": 13,
   "metadata": {},
   "outputs": [],
   "source": [
    "games['critic_score'] = games['critic_score'].fillna(-1)"
   ]
  },
  {
   "cell_type": "markdown",
   "metadata": {},
   "source": [
    "    \n",
    "Пропуски в столбце 'critic_score' заполнены отрицательной цифрой, которая может служить в качестве заглушки для обозначения пропущенных данных.    \n"
   ]
  },
  {
   "cell_type": "code",
   "execution_count": 14,
   "metadata": {},
   "outputs": [
    {
     "data": {
      "text/html": [
       "<div>\n",
       "<style scoped>\n",
       "    .dataframe tbody tr th:only-of-type {\n",
       "        vertical-align: middle;\n",
       "    }\n",
       "\n",
       "    .dataframe tbody tr th {\n",
       "        vertical-align: top;\n",
       "    }\n",
       "\n",
       "    .dataframe thead th {\n",
       "        text-align: right;\n",
       "    }\n",
       "</style>\n",
       "<table border=\"1\" class=\"dataframe\">\n",
       "  <thead>\n",
       "    <tr style=\"text-align: right;\">\n",
       "      <th></th>\n",
       "      <th>name</th>\n",
       "      <th>platform</th>\n",
       "      <th>year_of_release</th>\n",
       "      <th>genre</th>\n",
       "      <th>na_sales</th>\n",
       "      <th>eu_sales</th>\n",
       "      <th>jp_sales</th>\n",
       "      <th>other_sales</th>\n",
       "      <th>critic_score</th>\n",
       "      <th>user_score</th>\n",
       "      <th>rating</th>\n",
       "    </tr>\n",
       "  </thead>\n",
       "  <tbody>\n",
       "    <tr>\n",
       "      <th>119</th>\n",
       "      <td>Zumba Fitness</td>\n",
       "      <td>Wii</td>\n",
       "      <td>2010.0</td>\n",
       "      <td>Sports</td>\n",
       "      <td>3.45</td>\n",
       "      <td>2.59</td>\n",
       "      <td>0.0</td>\n",
       "      <td>0.66</td>\n",
       "      <td>-1.0</td>\n",
       "      <td>tbd</td>\n",
       "      <td>E</td>\n",
       "    </tr>\n",
       "    <tr>\n",
       "      <th>301</th>\n",
       "      <td>Namco Museum: 50th Anniversary</td>\n",
       "      <td>PS2</td>\n",
       "      <td>2005.0</td>\n",
       "      <td>Misc</td>\n",
       "      <td>2.08</td>\n",
       "      <td>1.35</td>\n",
       "      <td>0.0</td>\n",
       "      <td>0.54</td>\n",
       "      <td>61.0</td>\n",
       "      <td>tbd</td>\n",
       "      <td>E10+</td>\n",
       "    </tr>\n",
       "    <tr>\n",
       "      <th>520</th>\n",
       "      <td>Zumba Fitness 2</td>\n",
       "      <td>Wii</td>\n",
       "      <td>2011.0</td>\n",
       "      <td>Sports</td>\n",
       "      <td>1.51</td>\n",
       "      <td>1.03</td>\n",
       "      <td>0.0</td>\n",
       "      <td>0.27</td>\n",
       "      <td>-1.0</td>\n",
       "      <td>tbd</td>\n",
       "      <td>T</td>\n",
       "    </tr>\n",
       "    <tr>\n",
       "      <th>645</th>\n",
       "      <td>uDraw Studio</td>\n",
       "      <td>Wii</td>\n",
       "      <td>2010.0</td>\n",
       "      <td>Misc</td>\n",
       "      <td>1.65</td>\n",
       "      <td>0.57</td>\n",
       "      <td>0.0</td>\n",
       "      <td>0.20</td>\n",
       "      <td>71.0</td>\n",
       "      <td>tbd</td>\n",
       "      <td>E</td>\n",
       "    </tr>\n",
       "    <tr>\n",
       "      <th>718</th>\n",
       "      <td>Just Dance Kids</td>\n",
       "      <td>Wii</td>\n",
       "      <td>2010.0</td>\n",
       "      <td>Misc</td>\n",
       "      <td>1.52</td>\n",
       "      <td>0.54</td>\n",
       "      <td>0.0</td>\n",
       "      <td>0.18</td>\n",
       "      <td>-1.0</td>\n",
       "      <td>tbd</td>\n",
       "      <td>E</td>\n",
       "    </tr>\n",
       "    <tr>\n",
       "      <th>...</th>\n",
       "      <td>...</td>\n",
       "      <td>...</td>\n",
       "      <td>...</td>\n",
       "      <td>...</td>\n",
       "      <td>...</td>\n",
       "      <td>...</td>\n",
       "      <td>...</td>\n",
       "      <td>...</td>\n",
       "      <td>...</td>\n",
       "      <td>...</td>\n",
       "      <td>...</td>\n",
       "    </tr>\n",
       "    <tr>\n",
       "      <th>16695</th>\n",
       "      <td>Planet Monsters</td>\n",
       "      <td>GBA</td>\n",
       "      <td>2001.0</td>\n",
       "      <td>Action</td>\n",
       "      <td>0.01</td>\n",
       "      <td>0.00</td>\n",
       "      <td>0.0</td>\n",
       "      <td>0.00</td>\n",
       "      <td>67.0</td>\n",
       "      <td>tbd</td>\n",
       "      <td>E</td>\n",
       "    </tr>\n",
       "    <tr>\n",
       "      <th>16697</th>\n",
       "      <td>Bust-A-Move 3000</td>\n",
       "      <td>GC</td>\n",
       "      <td>2003.0</td>\n",
       "      <td>Puzzle</td>\n",
       "      <td>0.01</td>\n",
       "      <td>0.00</td>\n",
       "      <td>0.0</td>\n",
       "      <td>0.00</td>\n",
       "      <td>53.0</td>\n",
       "      <td>tbd</td>\n",
       "      <td>E</td>\n",
       "    </tr>\n",
       "    <tr>\n",
       "      <th>16698</th>\n",
       "      <td>Mega Brain Boost</td>\n",
       "      <td>DS</td>\n",
       "      <td>2008.0</td>\n",
       "      <td>Puzzle</td>\n",
       "      <td>0.01</td>\n",
       "      <td>0.00</td>\n",
       "      <td>0.0</td>\n",
       "      <td>0.00</td>\n",
       "      <td>48.0</td>\n",
       "      <td>tbd</td>\n",
       "      <td>E</td>\n",
       "    </tr>\n",
       "    <tr>\n",
       "      <th>16704</th>\n",
       "      <td>Plushees</td>\n",
       "      <td>DS</td>\n",
       "      <td>2008.0</td>\n",
       "      <td>Simulation</td>\n",
       "      <td>0.01</td>\n",
       "      <td>0.00</td>\n",
       "      <td>0.0</td>\n",
       "      <td>0.00</td>\n",
       "      <td>-1.0</td>\n",
       "      <td>tbd</td>\n",
       "      <td>E</td>\n",
       "    </tr>\n",
       "    <tr>\n",
       "      <th>16706</th>\n",
       "      <td>Men in Black II: Alien Escape</td>\n",
       "      <td>GC</td>\n",
       "      <td>2003.0</td>\n",
       "      <td>Shooter</td>\n",
       "      <td>0.01</td>\n",
       "      <td>0.00</td>\n",
       "      <td>0.0</td>\n",
       "      <td>0.00</td>\n",
       "      <td>-1.0</td>\n",
       "      <td>tbd</td>\n",
       "      <td>T</td>\n",
       "    </tr>\n",
       "  </tbody>\n",
       "</table>\n",
       "<p>2376 rows × 11 columns</p>\n",
       "</div>"
      ],
      "text/plain": [
       "                                 name platform  year_of_release       genre  \\\n",
       "119                     Zumba Fitness      Wii           2010.0      Sports   \n",
       "301    Namco Museum: 50th Anniversary      PS2           2005.0        Misc   \n",
       "520                   Zumba Fitness 2      Wii           2011.0      Sports   \n",
       "645                      uDraw Studio      Wii           2010.0        Misc   \n",
       "718                   Just Dance Kids      Wii           2010.0        Misc   \n",
       "...                               ...      ...              ...         ...   \n",
       "16695                 Planet Monsters      GBA           2001.0      Action   \n",
       "16697                Bust-A-Move 3000       GC           2003.0      Puzzle   \n",
       "16698                Mega Brain Boost       DS           2008.0      Puzzle   \n",
       "16704                        Plushees       DS           2008.0  Simulation   \n",
       "16706   Men in Black II: Alien Escape       GC           2003.0     Shooter   \n",
       "\n",
       "       na_sales  eu_sales  jp_sales  other_sales  critic_score user_score  \\\n",
       "119        3.45      2.59       0.0         0.66          -1.0        tbd   \n",
       "301        2.08      1.35       0.0         0.54          61.0        tbd   \n",
       "520        1.51      1.03       0.0         0.27          -1.0        tbd   \n",
       "645        1.65      0.57       0.0         0.20          71.0        tbd   \n",
       "718        1.52      0.54       0.0         0.18          -1.0        tbd   \n",
       "...         ...       ...       ...          ...           ...        ...   \n",
       "16695      0.01      0.00       0.0         0.00          67.0        tbd   \n",
       "16697      0.01      0.00       0.0         0.00          53.0        tbd   \n",
       "16698      0.01      0.00       0.0         0.00          48.0        tbd   \n",
       "16704      0.01      0.00       0.0         0.00          -1.0        tbd   \n",
       "16706      0.01      0.00       0.0         0.00          -1.0        tbd   \n",
       "\n",
       "      rating  \n",
       "119        E  \n",
       "301     E10+  \n",
       "520        T  \n",
       "645        E  \n",
       "718        E  \n",
       "...      ...  \n",
       "16695      E  \n",
       "16697      E  \n",
       "16698      E  \n",
       "16704      E  \n",
       "16706      T  \n",
       "\n",
       "[2376 rows x 11 columns]"
      ]
     },
     "execution_count": 14,
     "metadata": {},
     "output_type": "execute_result"
    }
   ],
   "source": [
    "games.loc[(games['user_score'] == 'tbd')]"
   ]
  },
  {
   "cell_type": "code",
   "execution_count": 15,
   "metadata": {},
   "outputs": [
    {
     "data": {
      "text/plain": [
       "name                  0\n",
       "platform              0\n",
       "year_of_release       0\n",
       "genre                 0\n",
       "na_sales              0\n",
       "eu_sales              0\n",
       "jp_sales              0\n",
       "other_sales           0\n",
       "critic_score          0\n",
       "user_score         8981\n",
       "rating             6676\n",
       "dtype: int64"
      ]
     },
     "execution_count": 15,
     "metadata": {},
     "output_type": "execute_result"
    }
   ],
   "source": [
    "games['user_score'] = pd.to_numeric(games['user_score'], errors='coerce')\n",
    "games.isnull().sum()"
   ]
  },
  {
   "cell_type": "code",
   "execution_count": 16,
   "metadata": {},
   "outputs": [
    {
     "data": {
      "text/plain": [
       "count    7462.000000\n",
       "mean        7.126548\n",
       "std         1.499429\n",
       "min         0.000000\n",
       "25%         6.400000\n",
       "50%         7.500000\n",
       "75%         8.200000\n",
       "max         9.700000\n",
       "Name: user_score, dtype: float64"
      ]
     },
     "execution_count": 16,
     "metadata": {},
     "output_type": "execute_result"
    }
   ],
   "source": [
    "games['user_score'].describe()"
   ]
  },
  {
   "cell_type": "code",
   "execution_count": 18,
   "metadata": {},
   "outputs": [],
   "source": [
    "games['user_score'] = games['user_score'].fillna(-1)"
   ]
  },
  {
   "cell_type": "markdown",
   "metadata": {},
   "source": [
    "\n",
    "Пропуски в столбце 'user_score' заполнены отрицательной цифрой, которая может служить в качестве заглушки для обозначения пропущенных данных. \n",
    "    \n",
    "***Причины появления пропусков в столбцах 'critic_score' и 'user_score' могут быть следующими:***\n",
    "\n",
    "- Отсутствие оценки: Некоторые игры могут не иметь оценки от критиков или пользователей. Это может быть связано с тем, что игра была выпущена недавно или не привлекла достаточное внимание для получения оценки.\n",
    "\n",
    "- Ошибки в сборе данных: В процессе сбора данных могли возникнуть ошибки, в результате чего оценки не были записаны для некоторых игр.\n",
    "\n",
    "- Неполные данные: В некоторых случаях данные об оценках могут быть неполными или отсутствовать из-за технических проблем или ошибок при передаче или хранении данных.\n"
   ]
  },
  {
   "cell_type": "markdown",
   "metadata": {},
   "source": [
    "В столбце \"Critic_Score\" возможные причины пропусков могут быть следующими.Некоторые игры могут не иметь оценок со стороны критиков из-за своей низкой значимости или низкого профиля.\n",
    "\n",
    "В столбце \"User_Score\" возможные причины пропусков могут быть следующими:\n",
    "\n",
    "- Некоторые игры могут не иметь пользовательских оценок, поскольку они могут быть менее популярны или не привлекать достаточное количество пользователей для оценки.\n",
    "    \n",
    "- Пользовательские оценки могут быть добровольным вкладом пользователей, и не все игры могут быть оценены пользователями.\n",
    "    \n",
    "- Некоторые платформы или игровые сообщества могут предпочитать использовать другие ресурсы или формы обратной связи для выражения своего мнения о играх.\n",
    "    \n",
    "Важно отметить, что пропущенные значения в оценках критиков и пользователей могут влиять на анализ данных, тк имеют большой вес,поэтому мы поставим заглушку в виде -1 на пропуски в этих столбцах.\n"
   ]
  },
  {
   "cell_type": "code",
   "execution_count": 19,
   "metadata": {},
   "outputs": [],
   "source": [
    "games['rating'] = games['rating'].fillna('Unknown')"
   ]
  },
  {
   "cell_type": "markdown",
   "metadata": {},
   "source": [
    "\n",
    "Поставила заглушку в столбце 'rating',установив значение  Unknown.\n"
   ]
  },
  {
   "cell_type": "code",
   "execution_count": 20,
   "metadata": {},
   "outputs": [
    {
     "data": {
      "text/plain": [
       "name               0\n",
       "platform           0\n",
       "year_of_release    0\n",
       "genre              0\n",
       "na_sales           0\n",
       "eu_sales           0\n",
       "jp_sales           0\n",
       "other_sales        0\n",
       "critic_score       0\n",
       "user_score         0\n",
       "rating             0\n",
       "dtype: int64"
      ]
     },
     "execution_count": 20,
     "metadata": {},
     "output_type": "execute_result"
    }
   ],
   "source": [
    "games.isnull().sum()"
   ]
  },
  {
   "cell_type": "markdown",
   "metadata": {},
   "source": [
    "Появление пропусков в столбце 'rating' может быть обусловлено следующими причинами:\n",
    "\n",
    "- Отсутствие оценки: некоторые игры могут не иметь оценки рейтинговой организации ESRB. Это может быть связано с тем, что игра была выпущена недавно или не подлежит обязательной оценке со стороны ESRB.\n",
    "\n",
    "- Несоответствие региональным стандартам: рейтинг ESRB применяется преимущественно в Северной Америке, и игры, выпущенные в других регионах, могут не иметь оценки ESRB.\n",
    "\n",
    "- Отсутствие официальной классификации: некоторые игры не были отправлены на оценку ESRB или ожидают ее, что может привести к пропуску рейтинга в данных.\n"
   ]
  },
  {
   "cell_type": "code",
   "execution_count": 21,
   "metadata": {},
   "outputs": [
    {
     "data": {
      "text/plain": [
       "array(['E', 'Unknown', 'M', 'T', 'E10+', 'K-A', 'AO', 'EC', 'RP'],\n",
       "      dtype=object)"
      ]
     },
     "execution_count": 21,
     "metadata": {},
     "output_type": "execute_result"
    }
   ],
   "source": [
    "games.rating.unique ()"
   ]
  },
  {
   "cell_type": "markdown",
   "metadata": {},
   "source": [
    "### Преобразуем данные в нужные типы."
   ]
  },
  {
   "cell_type": "code",
   "execution_count": 22,
   "metadata": {},
   "outputs": [
    {
     "name": "stdout",
     "output_type": "stream",
     "text": [
      "<class 'pandas.core.frame.DataFrame'>\n",
      "Int64Index: 16443 entries, 0 to 16714\n",
      "Data columns (total 11 columns):\n",
      " #   Column           Non-Null Count  Dtype  \n",
      "---  ------           --------------  -----  \n",
      " 0   name             16443 non-null  object \n",
      " 1   platform         16443 non-null  object \n",
      " 2   year_of_release  16443 non-null  float64\n",
      " 3   genre            16443 non-null  object \n",
      " 4   na_sales         16443 non-null  float64\n",
      " 5   eu_sales         16443 non-null  float64\n",
      " 6   jp_sales         16443 non-null  float64\n",
      " 7   other_sales      16443 non-null  float64\n",
      " 8   critic_score     16443 non-null  float64\n",
      " 9   user_score       16443 non-null  float64\n",
      " 10  rating           16443 non-null  object \n",
      "dtypes: float64(7), object(4)\n",
      "memory usage: 1.5+ MB\n"
     ]
    }
   ],
   "source": [
    "games.info()"
   ]
  },
  {
   "cell_type": "code",
   "execution_count": 23,
   "metadata": {},
   "outputs": [],
   "source": [
    "games['year_of_release'] = games['year_of_release'].astype (int)"
   ]
  },
  {
   "cell_type": "code",
   "execution_count": 24,
   "metadata": {},
   "outputs": [
    {
     "data": {
      "text/html": [
       "<div>\n",
       "<style scoped>\n",
       "    .dataframe tbody tr th:only-of-type {\n",
       "        vertical-align: middle;\n",
       "    }\n",
       "\n",
       "    .dataframe tbody tr th {\n",
       "        vertical-align: top;\n",
       "    }\n",
       "\n",
       "    .dataframe thead th {\n",
       "        text-align: right;\n",
       "    }\n",
       "</style>\n",
       "<table border=\"1\" class=\"dataframe\">\n",
       "  <thead>\n",
       "    <tr style=\"text-align: right;\">\n",
       "      <th></th>\n",
       "      <th>name</th>\n",
       "      <th>platform</th>\n",
       "      <th>year_of_release</th>\n",
       "      <th>genre</th>\n",
       "      <th>na_sales</th>\n",
       "      <th>eu_sales</th>\n",
       "      <th>jp_sales</th>\n",
       "      <th>other_sales</th>\n",
       "      <th>critic_score</th>\n",
       "      <th>user_score</th>\n",
       "      <th>rating</th>\n",
       "    </tr>\n",
       "  </thead>\n",
       "  <tbody>\n",
       "    <tr>\n",
       "      <th>5350</th>\n",
       "      <td>SoulCalibur</td>\n",
       "      <td>DC</td>\n",
       "      <td>1999</td>\n",
       "      <td>Fighting</td>\n",
       "      <td>0.00</td>\n",
       "      <td>0.00</td>\n",
       "      <td>0.34</td>\n",
       "      <td>0.00</td>\n",
       "      <td>98.0</td>\n",
       "      <td>8.8</td>\n",
       "      <td>T</td>\n",
       "    </tr>\n",
       "    <tr>\n",
       "      <th>57</th>\n",
       "      <td>Grand Theft Auto IV</td>\n",
       "      <td>PS3</td>\n",
       "      <td>2008</td>\n",
       "      <td>Action</td>\n",
       "      <td>4.76</td>\n",
       "      <td>3.69</td>\n",
       "      <td>0.44</td>\n",
       "      <td>1.61</td>\n",
       "      <td>98.0</td>\n",
       "      <td>7.5</td>\n",
       "      <td>M</td>\n",
       "    </tr>\n",
       "    <tr>\n",
       "      <th>51</th>\n",
       "      <td>Grand Theft Auto IV</td>\n",
       "      <td>X360</td>\n",
       "      <td>2008</td>\n",
       "      <td>Action</td>\n",
       "      <td>6.76</td>\n",
       "      <td>3.07</td>\n",
       "      <td>0.14</td>\n",
       "      <td>1.03</td>\n",
       "      <td>98.0</td>\n",
       "      <td>7.9</td>\n",
       "      <td>M</td>\n",
       "    </tr>\n",
       "    <tr>\n",
       "      <th>227</th>\n",
       "      <td>Tony Hawk's Pro Skater 2</td>\n",
       "      <td>PS</td>\n",
       "      <td>2000</td>\n",
       "      <td>Sports</td>\n",
       "      <td>3.05</td>\n",
       "      <td>1.41</td>\n",
       "      <td>0.02</td>\n",
       "      <td>0.20</td>\n",
       "      <td>98.0</td>\n",
       "      <td>7.7</td>\n",
       "      <td>T</td>\n",
       "    </tr>\n",
       "    <tr>\n",
       "      <th>23</th>\n",
       "      <td>Grand Theft Auto V</td>\n",
       "      <td>X360</td>\n",
       "      <td>2013</td>\n",
       "      <td>Action</td>\n",
       "      <td>9.66</td>\n",
       "      <td>5.14</td>\n",
       "      <td>0.06</td>\n",
       "      <td>1.41</td>\n",
       "      <td>97.0</td>\n",
       "      <td>8.1</td>\n",
       "      <td>M</td>\n",
       "    </tr>\n",
       "    <tr>\n",
       "      <th>...</th>\n",
       "      <td>...</td>\n",
       "      <td>...</td>\n",
       "      <td>...</td>\n",
       "      <td>...</td>\n",
       "      <td>...</td>\n",
       "      <td>...</td>\n",
       "      <td>...</td>\n",
       "      <td>...</td>\n",
       "      <td>...</td>\n",
       "      <td>...</td>\n",
       "      <td>...</td>\n",
       "    </tr>\n",
       "    <tr>\n",
       "      <th>8794</th>\n",
       "      <td>Disney's The Lion King: Simba's Mighty Adventure</td>\n",
       "      <td>PS</td>\n",
       "      <td>2000</td>\n",
       "      <td>Action</td>\n",
       "      <td>0.08</td>\n",
       "      <td>0.06</td>\n",
       "      <td>0.00</td>\n",
       "      <td>0.01</td>\n",
       "      <td>30.0</td>\n",
       "      <td>6.9</td>\n",
       "      <td>E</td>\n",
       "    </tr>\n",
       "    <tr>\n",
       "      <th>15735</th>\n",
       "      <td>RoboCop</td>\n",
       "      <td>XB</td>\n",
       "      <td>2003</td>\n",
       "      <td>Shooter</td>\n",
       "      <td>0.01</td>\n",
       "      <td>0.00</td>\n",
       "      <td>0.00</td>\n",
       "      <td>0.00</td>\n",
       "      <td>30.0</td>\n",
       "      <td>3.6</td>\n",
       "      <td>M</td>\n",
       "    </tr>\n",
       "    <tr>\n",
       "      <th>1562</th>\n",
       "      <td>Jillian Michaels' Fitness Ultimatum 2009</td>\n",
       "      <td>Wii</td>\n",
       "      <td>2008</td>\n",
       "      <td>Sports</td>\n",
       "      <td>0.96</td>\n",
       "      <td>0.20</td>\n",
       "      <td>0.00</td>\n",
       "      <td>0.11</td>\n",
       "      <td>30.0</td>\n",
       "      <td>2.0</td>\n",
       "      <td>E</td>\n",
       "    </tr>\n",
       "    <tr>\n",
       "      <th>6038</th>\n",
       "      <td>Shrek Super Party</td>\n",
       "      <td>PS2</td>\n",
       "      <td>2002</td>\n",
       "      <td>Misc</td>\n",
       "      <td>0.14</td>\n",
       "      <td>0.11</td>\n",
       "      <td>0.00</td>\n",
       "      <td>0.04</td>\n",
       "      <td>30.0</td>\n",
       "      <td>5.1</td>\n",
       "      <td>E</td>\n",
       "    </tr>\n",
       "    <tr>\n",
       "      <th>9250</th>\n",
       "      <td>Fear Factor: Unleashed</td>\n",
       "      <td>GBA</td>\n",
       "      <td>2004</td>\n",
       "      <td>Action</td>\n",
       "      <td>0.10</td>\n",
       "      <td>0.04</td>\n",
       "      <td>0.00</td>\n",
       "      <td>0.00</td>\n",
       "      <td>30.0</td>\n",
       "      <td>3.0</td>\n",
       "      <td>T</td>\n",
       "    </tr>\n",
       "  </tbody>\n",
       "</table>\n",
       "<p>7923 rows × 11 columns</p>\n",
       "</div>"
      ],
      "text/plain": [
       "                                                   name platform  \\\n",
       "5350                                        SoulCalibur       DC   \n",
       "57                                  Grand Theft Auto IV      PS3   \n",
       "51                                  Grand Theft Auto IV     X360   \n",
       "227                            Tony Hawk's Pro Skater 2       PS   \n",
       "23                                   Grand Theft Auto V     X360   \n",
       "...                                                 ...      ...   \n",
       "8794   Disney's The Lion King: Simba's Mighty Adventure       PS   \n",
       "15735                                           RoboCop       XB   \n",
       "1562           Jillian Michaels' Fitness Ultimatum 2009      Wii   \n",
       "6038                                  Shrek Super Party      PS2   \n",
       "9250                             Fear Factor: Unleashed      GBA   \n",
       "\n",
       "       year_of_release     genre  na_sales  eu_sales  jp_sales  other_sales  \\\n",
       "5350              1999  Fighting      0.00      0.00      0.34         0.00   \n",
       "57                2008    Action      4.76      3.69      0.44         1.61   \n",
       "51                2008    Action      6.76      3.07      0.14         1.03   \n",
       "227               2000    Sports      3.05      1.41      0.02         0.20   \n",
       "23                2013    Action      9.66      5.14      0.06         1.41   \n",
       "...                ...       ...       ...       ...       ...          ...   \n",
       "8794              2000    Action      0.08      0.06      0.00         0.01   \n",
       "15735             2003   Shooter      0.01      0.00      0.00         0.00   \n",
       "1562              2008    Sports      0.96      0.20      0.00         0.11   \n",
       "6038              2002      Misc      0.14      0.11      0.00         0.04   \n",
       "9250              2004    Action      0.10      0.04      0.00         0.00   \n",
       "\n",
       "       critic_score  user_score rating  \n",
       "5350           98.0         8.8      T  \n",
       "57             98.0         7.5      M  \n",
       "51             98.0         7.9      M  \n",
       "227            98.0         7.7      T  \n",
       "23             97.0         8.1      M  \n",
       "...             ...         ...    ...  \n",
       "8794           30.0         6.9      E  \n",
       "15735          30.0         3.6      M  \n",
       "1562           30.0         2.0      E  \n",
       "6038           30.0         5.1      E  \n",
       "9250           30.0         3.0      T  \n",
       "\n",
       "[7923 rows x 11 columns]"
      ]
     },
     "execution_count": 24,
     "metadata": {},
     "output_type": "execute_result"
    }
   ],
   "source": [
    "games.loc[(games['critic_score'] >= 30)].sort_values(by='critic_score', ascending=False)"
   ]
  },
  {
   "cell_type": "code",
   "execution_count": 25,
   "metadata": {},
   "outputs": [
    {
     "data": {
      "text/plain": [
       "count    16443.000000\n",
       "mean        32.976829\n",
       "std         36.301955\n",
       "min         -1.000000\n",
       "25%         -1.000000\n",
       "50%         -1.000000\n",
       "75%         70.000000\n",
       "max         98.000000\n",
       "Name: critic_score, dtype: float64"
      ]
     },
     "execution_count": 25,
     "metadata": {},
     "output_type": "execute_result"
    }
   ],
   "source": [
    "games['critic_score'].describe()"
   ]
  },
  {
   "cell_type": "code",
   "execution_count": 26,
   "metadata": {},
   "outputs": [],
   "source": [
    "games['critic_score'] = games['critic_score'].astype (int)"
   ]
  },
  {
   "cell_type": "code",
   "execution_count": 27,
   "metadata": {},
   "outputs": [
    {
     "name": "stdout",
     "output_type": "stream",
     "text": [
      "<class 'pandas.core.frame.DataFrame'>\n",
      "Int64Index: 16443 entries, 0 to 16714\n",
      "Data columns (total 11 columns):\n",
      " #   Column           Non-Null Count  Dtype  \n",
      "---  ------           --------------  -----  \n",
      " 0   name             16443 non-null  object \n",
      " 1   platform         16443 non-null  object \n",
      " 2   year_of_release  16443 non-null  int64  \n",
      " 3   genre            16443 non-null  object \n",
      " 4   na_sales         16443 non-null  float64\n",
      " 5   eu_sales         16443 non-null  float64\n",
      " 6   jp_sales         16443 non-null  float64\n",
      " 7   other_sales      16443 non-null  float64\n",
      " 8   critic_score     16443 non-null  int64  \n",
      " 9   user_score       16443 non-null  float64\n",
      " 10  rating           16443 non-null  object \n",
      "dtypes: float64(5), int64(2), object(4)\n",
      "memory usage: 1.5+ MB\n"
     ]
    }
   ],
   "source": [
    "games.info()"
   ]
  },
  {
   "cell_type": "markdown",
   "metadata": {},
   "source": [
    "**Преобразование столбцов 'year_of_release' и 'critic_score' в тип данных 'int' (целые числа) оправдано следующими причинами:**\n",
    "\n",
    "**- Выполнение числовых операций: преобразование столбца 'year_of_release' в тип данных 'int' позволяет выполнить числовые операции, такие как арифметические вычисления или сравнения с другими числами.**\n",
    "\n",
    "**- Фильтрация и сортировка: преобразование столбца 'critic_score' в тип данных 'int' позволяет легко фильтровать и сортировать данные по этому столбцу, используя числовые условия. Проанализировав данные в этом столбце,чисел с плавающей точкой найдено не было,рейтин содержит только целые числа.**\n",
    "\n",
    "**- Удобочитаемость и удобство анализа: преобразование столбцов в числовой формат упрощает чтение и анализ данных. Числовые значения более понятны и позволяют использовать широкий спектр статистических методов и визуализаций для получения дополнительной информации и инсайтов.**"
   ]
  },
  {
   "cell_type": "markdown",
   "metadata": {},
   "source": [
    "### Посчитаем суммарные продажи во всех регионах и запишим их в отдельный столбец."
   ]
  },
  {
   "cell_type": "code",
   "execution_count": 29,
   "metadata": {},
   "outputs": [],
   "source": [
    "games['total_sales'] = games['na_sales'] + games['eu_sales'] + games['jp_sales'] + games['other_sales']"
   ]
  },
  {
   "cell_type": "markdown",
   "metadata": {},
   "source": [
    "   \n",
    "Создадим колонку с суммарными продажами по всем регионам и по всем играм, выпускаемым на разных платформах и в разные года."
   ]
  },
  {
   "cell_type": "markdown",
   "metadata": {},
   "source": [
    "## Проведем  исследовательский анализ данных"
   ]
  },
  {
   "cell_type": "markdown",
   "metadata": {},
   "source": [
    "### Посмотрим, сколько игр выпускалось в разные годы. Важны ли данные за все периоды?"
   ]
  },
  {
   "cell_type": "code",
   "execution_count": 32,
   "metadata": {},
   "outputs": [
    {
     "data": {
      "text/plain": [
       "1980       9\n",
       "1981      46\n",
       "1982      36\n",
       "1983      17\n",
       "1984      14\n",
       "1985      14\n",
       "1986      21\n",
       "1987      16\n",
       "1988      15\n",
       "1989      17\n",
       "1990      16\n",
       "1991      41\n",
       "1992      43\n",
       "1993      60\n",
       "1994     121\n",
       "1995     219\n",
       "1996     263\n",
       "1997     289\n",
       "1998     379\n",
       "1999     338\n",
       "2000     350\n",
       "2001     482\n",
       "2002     829\n",
       "2003     775\n",
       "2004     762\n",
       "2005     939\n",
       "2006    1006\n",
       "2007    1197\n",
       "2008    1427\n",
       "2009    1426\n",
       "2010    1255\n",
       "2011    1136\n",
       "2012     652\n",
       "2013     544\n",
       "2014     581\n",
       "2015     606\n",
       "2016     502\n",
       "Name: year_of_release, dtype: int64"
      ]
     },
     "execution_count": 32,
     "metadata": {},
     "output_type": "execute_result"
    }
   ],
   "source": [
    "game_counts = games['year_of_release'].value_counts().sort_index()\n",
    "game_counts"
   ]
  },
  {
   "cell_type": "code",
   "execution_count": 33,
   "metadata": {},
   "outputs": [
    {
     "data": {
      "image/png": "[encoded data removed]",
      "text/plain": [
       "<Figure size 720x432 with 1 Axes>"
      ]
     },
     "metadata": {
      "needs_background": "light"
     },
     "output_type": "display_data"
    }
   ],
   "source": [
    "plt.figure(figsize=(10, 6))\n",
    "plt.bar(game_counts.index, game_counts.values)\n",
    "plt.xlabel('Год релиза')\n",
    "plt.ylabel('Количество игр')\n",
    "plt.title('Количество выпущенных игр по годам')\n",
    "plt.xticks(rotation=90)\n",
    "plt.show()"
   ]
  },
  {
   "cell_type": "markdown",
   "metadata": {},
   "source": [
    "На графике видно,что основная часть (95 %) данных находится в диапазоне 1996-2016. Начиная с 1996 года наблюдается значительное увеличение выпуска игр. Пик популярности игр наблюдается в диапазоне 2001-2011 гг."
   ]
  },
  {
   "cell_type": "code",
   "execution_count": 34,
   "metadata": {},
   "outputs": [
    {
     "data": {
      "text/plain": [
       "1980        9\n",
       "1981       55\n",
       "1982       91\n",
       "1983      108\n",
       "1984      122\n",
       "1985      136\n",
       "1986      157\n",
       "1987      173\n",
       "1988      188\n",
       "1989      205\n",
       "1990      221\n",
       "1991      262\n",
       "1992      305\n",
       "1993      365\n",
       "1994      486\n",
       "1995      705\n",
       "1996      968\n",
       "1997     1257\n",
       "1998     1636\n",
       "1999     1974\n",
       "2000     2324\n",
       "2001     2806\n",
       "2002     3635\n",
       "2003     4410\n",
       "2004     5172\n",
       "2005     6111\n",
       "2006     7117\n",
       "2007     8314\n",
       "2008     9741\n",
       "2009    11167\n",
       "2010    12422\n",
       "2011    13558\n",
       "2012    14210\n",
       "2013    14754\n",
       "2014    15335\n",
       "2015    15941\n",
       "2016    16443\n",
       "Name: year_of_release, dtype: int64"
      ]
     },
     "execution_count": 34,
     "metadata": {},
     "output_type": "execute_result"
    }
   ],
   "source": [
    "cumulative_counts = game_counts.cumsum()\n",
    "cumulative_counts"
   ]
  },
  {
   "cell_type": "code",
   "execution_count": 35,
   "metadata": {},
   "outputs": [
    {
     "data": {
      "image/png": "[encoded data removed]",
      "text/plain": [
       "<Figure size 432x288 with 1 Axes>"
      ]
     },
     "metadata": {
      "needs_background": "light"
     },
     "output_type": "display_data"
    }
   ],
   "source": [
    "plt.plot(cumulative_counts.index, cumulative_counts.values)\n",
    "plt.title('Кумулятивное количество игр по годам')\n",
    "plt.xlabel('Год')\n",
    "plt.ylabel('Кумулятивное количество игр')\n",
    "plt.show()"
   ]
  },
  {
   "cell_type": "markdown",
   "metadata": {},
   "source": [
    "### Посмотрим, как менялись продажи по платформам. Выберите платформы с наибольшими суммарными продажами и построим распределение по годам. За какой характерный срок появляются новые и исчезают старые платформы?"
   ]
  },
  {
   "cell_type": "code",
   "execution_count": 36,
   "metadata": {},
   "outputs": [],
   "source": [
    "games = games.drop(games[(games['platform'] == 'DS') & (games['year_of_release'] == 1985)].index)"
   ]
  },
  {
   "cell_type": "code",
   "execution_count": 37,
   "metadata": {},
   "outputs": [
    {
     "data": {
      "text/html": [
       "<div>\n",
       "<style scoped>\n",
       "    .dataframe tbody tr th:only-of-type {\n",
       "        vertical-align: middle;\n",
       "    }\n",
       "\n",
       "    .dataframe tbody tr th {\n",
       "        vertical-align: top;\n",
       "    }\n",
       "\n",
       "    .dataframe thead th {\n",
       "        text-align: right;\n",
       "    }\n",
       "</style>\n",
       "<table border=\"1\" class=\"dataframe\">\n",
       "  <thead>\n",
       "    <tr style=\"text-align: right;\">\n",
       "      <th></th>\n",
       "      <th></th>\n",
       "      <th>na_sales</th>\n",
       "      <th>eu_sales</th>\n",
       "      <th>jp_sales</th>\n",
       "      <th>other_sales</th>\n",
       "      <th>total_sales</th>\n",
       "    </tr>\n",
       "    <tr>\n",
       "      <th>platform</th>\n",
       "      <th>year_of_release</th>\n",
       "      <th></th>\n",
       "      <th></th>\n",
       "      <th></th>\n",
       "      <th></th>\n",
       "      <th></th>\n",
       "    </tr>\n",
       "  </thead>\n",
       "  <tbody>\n",
       "    <tr>\n",
       "      <th rowspan=\"5\" valign=\"top\">2600</th>\n",
       "      <th>1980</th>\n",
       "      <td>10.59</td>\n",
       "      <td>0.67</td>\n",
       "      <td>0.00</td>\n",
       "      <td>0.12</td>\n",
       "      <td>11.38</td>\n",
       "    </tr>\n",
       "    <tr>\n",
       "      <th>1981</th>\n",
       "      <td>33.40</td>\n",
       "      <td>1.96</td>\n",
       "      <td>0.00</td>\n",
       "      <td>0.32</td>\n",
       "      <td>35.68</td>\n",
       "    </tr>\n",
       "    <tr>\n",
       "      <th>1982</th>\n",
       "      <td>26.92</td>\n",
       "      <td>1.65</td>\n",
       "      <td>0.00</td>\n",
       "      <td>0.31</td>\n",
       "      <td>28.88</td>\n",
       "    </tr>\n",
       "    <tr>\n",
       "      <th>1983</th>\n",
       "      <td>5.44</td>\n",
       "      <td>0.34</td>\n",
       "      <td>0.00</td>\n",
       "      <td>0.06</td>\n",
       "      <td>5.84</td>\n",
       "    </tr>\n",
       "    <tr>\n",
       "      <th>1984</th>\n",
       "      <td>0.26</td>\n",
       "      <td>0.01</td>\n",
       "      <td>0.00</td>\n",
       "      <td>0.00</td>\n",
       "      <td>0.27</td>\n",
       "    </tr>\n",
       "    <tr>\n",
       "      <th>...</th>\n",
       "      <th>...</th>\n",
       "      <td>...</td>\n",
       "      <td>...</td>\n",
       "      <td>...</td>\n",
       "      <td>...</td>\n",
       "      <td>...</td>\n",
       "    </tr>\n",
       "    <tr>\n",
       "      <th>XB</th>\n",
       "      <th>2008</th>\n",
       "      <td>0.13</td>\n",
       "      <td>0.04</td>\n",
       "      <td>0.00</td>\n",
       "      <td>0.01</td>\n",
       "      <td>0.18</td>\n",
       "    </tr>\n",
       "    <tr>\n",
       "      <th rowspan=\"4\" valign=\"top\">XOne</th>\n",
       "      <th>2013</th>\n",
       "      <td>11.85</td>\n",
       "      <td>5.34</td>\n",
       "      <td>0.02</td>\n",
       "      <td>1.75</td>\n",
       "      <td>18.96</td>\n",
       "    </tr>\n",
       "    <tr>\n",
       "      <th>2014</th>\n",
       "      <td>30.97</td>\n",
       "      <td>18.15</td>\n",
       "      <td>0.14</td>\n",
       "      <td>4.81</td>\n",
       "      <td>54.07</td>\n",
       "    </tr>\n",
       "    <tr>\n",
       "      <th>2015</th>\n",
       "      <td>36.03</td>\n",
       "      <td>18.47</td>\n",
       "      <td>0.17</td>\n",
       "      <td>5.47</td>\n",
       "      <td>60.14</td>\n",
       "    </tr>\n",
       "    <tr>\n",
       "      <th>2016</th>\n",
       "      <td>14.27</td>\n",
       "      <td>9.63</td>\n",
       "      <td>0.01</td>\n",
       "      <td>2.24</td>\n",
       "      <td>26.15</td>\n",
       "    </tr>\n",
       "  </tbody>\n",
       "</table>\n",
       "<p>237 rows × 5 columns</p>\n",
       "</div>"
      ],
      "text/plain": [
       "                          na_sales  eu_sales  jp_sales  other_sales  \\\n",
       "platform year_of_release                                              \n",
       "2600     1980                10.59      0.67      0.00         0.12   \n",
       "         1981                33.40      1.96      0.00         0.32   \n",
       "         1982                26.92      1.65      0.00         0.31   \n",
       "         1983                 5.44      0.34      0.00         0.06   \n",
       "         1984                 0.26      0.01      0.00         0.00   \n",
       "...                            ...       ...       ...          ...   \n",
       "XB       2008                 0.13      0.04      0.00         0.01   \n",
       "XOne     2013                11.85      5.34      0.02         1.75   \n",
       "         2014                30.97     18.15      0.14         4.81   \n",
       "         2015                36.03     18.47      0.17         5.47   \n",
       "         2016                14.27      9.63      0.01         2.24   \n",
       "\n",
       "                          total_sales  \n",
       "platform year_of_release               \n",
       "2600     1980                   11.38  \n",
       "         1981                   35.68  \n",
       "         1982                   28.88  \n",
       "         1983                    5.84  \n",
       "         1984                    0.27  \n",
       "...                               ...  \n",
       "XB       2008                    0.18  \n",
       "XOne     2013                   18.96  \n",
       "         2014                   54.07  \n",
       "         2015                   60.14  \n",
       "         2016                   26.15  \n",
       "\n",
       "[237 rows x 5 columns]"
      ]
     },
     "execution_count": 37,
     "metadata": {},
     "output_type": "execute_result"
    }
   ],
   "source": [
    "platform_sales = games.groupby(['platform', 'year_of_release']).sum()[['na_sales', 'eu_sales', 'jp_sales', 'other_sales']]\n",
    "platform_sales['total_sales'] = platform_sales.sum(axis=1)\n",
    "platform_sales"
   ]
  },
  {
   "cell_type": "code",
   "execution_count": 38,
   "metadata": {},
   "outputs": [
    {
     "data": {
      "text/html": [
       "<div>\n",
       "<style scoped>\n",
       "    .dataframe tbody tr th:only-of-type {\n",
       "        vertical-align: middle;\n",
       "    }\n",
       "\n",
       "    .dataframe tbody tr th {\n",
       "        vertical-align: top;\n",
       "    }\n",
       "\n",
       "    .dataframe thead th {\n",
       "        text-align: right;\n",
       "    }\n",
       "</style>\n",
       "<table border=\"1\" class=\"dataframe\">\n",
       "  <thead>\n",
       "    <tr style=\"text-align: right;\">\n",
       "      <th></th>\n",
       "      <th></th>\n",
       "      <th>na_sales</th>\n",
       "      <th>eu_sales</th>\n",
       "      <th>jp_sales</th>\n",
       "      <th>other_sales</th>\n",
       "      <th>total_sales</th>\n",
       "    </tr>\n",
       "    <tr>\n",
       "      <th>platform</th>\n",
       "      <th>year_of_release</th>\n",
       "      <th></th>\n",
       "      <th></th>\n",
       "      <th></th>\n",
       "      <th></th>\n",
       "      <th></th>\n",
       "    </tr>\n",
       "  </thead>\n",
       "  <tbody>\n",
       "    <tr>\n",
       "      <th rowspan=\"12\" valign=\"top\">PS2</th>\n",
       "      <th>2000</th>\n",
       "      <td>16.08</td>\n",
       "      <td>10.64</td>\n",
       "      <td>8.87</td>\n",
       "      <td>3.58</td>\n",
       "      <td>39.17</td>\n",
       "    </tr>\n",
       "    <tr>\n",
       "      <th>2001</th>\n",
       "      <td>79.49</td>\n",
       "      <td>52.37</td>\n",
       "      <td>17.79</td>\n",
       "      <td>16.78</td>\n",
       "      <td>166.43</td>\n",
       "    </tr>\n",
       "    <tr>\n",
       "      <th>2002</th>\n",
       "      <td>96.54</td>\n",
       "      <td>65.27</td>\n",
       "      <td>21.85</td>\n",
       "      <td>21.72</td>\n",
       "      <td>205.38</td>\n",
       "    </tr>\n",
       "    <tr>\n",
       "      <th>2003</th>\n",
       "      <td>83.54</td>\n",
       "      <td>61.20</td>\n",
       "      <td>18.88</td>\n",
       "      <td>20.69</td>\n",
       "      <td>184.31</td>\n",
       "    </tr>\n",
       "    <tr>\n",
       "      <th>2004</th>\n",
       "      <td>96.78</td>\n",
       "      <td>56.01</td>\n",
       "      <td>19.17</td>\n",
       "      <td>39.85</td>\n",
       "      <td>211.81</td>\n",
       "    </tr>\n",
       "    <tr>\n",
       "      <th>2005</th>\n",
       "      <td>85.60</td>\n",
       "      <td>40.86</td>\n",
       "      <td>15.05</td>\n",
       "      <td>19.15</td>\n",
       "      <td>160.66</td>\n",
       "    </tr>\n",
       "    <tr>\n",
       "      <th>2006</th>\n",
       "      <td>49.93</td>\n",
       "      <td>21.61</td>\n",
       "      <td>17.64</td>\n",
       "      <td>14.24</td>\n",
       "      <td>103.42</td>\n",
       "    </tr>\n",
       "    <tr>\n",
       "      <th>2007</th>\n",
       "      <td>32.05</td>\n",
       "      <td>10.43</td>\n",
       "      <td>9.82</td>\n",
       "      <td>23.69</td>\n",
       "      <td>75.99</td>\n",
       "    </tr>\n",
       "    <tr>\n",
       "      <th>2008</th>\n",
       "      <td>21.23</td>\n",
       "      <td>7.63</td>\n",
       "      <td>5.73</td>\n",
       "      <td>19.31</td>\n",
       "      <td>53.90</td>\n",
       "    </tr>\n",
       "    <tr>\n",
       "      <th>2009</th>\n",
       "      <td>9.36</td>\n",
       "      <td>4.94</td>\n",
       "      <td>1.94</td>\n",
       "      <td>10.16</td>\n",
       "      <td>26.40</td>\n",
       "    </tr>\n",
       "    <tr>\n",
       "      <th>2010</th>\n",
       "      <td>2.19</td>\n",
       "      <td>1.54</td>\n",
       "      <td>0.71</td>\n",
       "      <td>1.20</td>\n",
       "      <td>5.64</td>\n",
       "    </tr>\n",
       "    <tr>\n",
       "      <th>2011</th>\n",
       "      <td>0.13</td>\n",
       "      <td>0.13</td>\n",
       "      <td>0.09</td>\n",
       "      <td>0.10</td>\n",
       "      <td>0.45</td>\n",
       "    </tr>\n",
       "    <tr>\n",
       "      <th rowspan=\"12\" valign=\"top\">X360</th>\n",
       "      <th>2005</th>\n",
       "      <td>6.90</td>\n",
       "      <td>0.43</td>\n",
       "      <td>0.28</td>\n",
       "      <td>0.64</td>\n",
       "      <td>8.25</td>\n",
       "    </tr>\n",
       "    <tr>\n",
       "      <th>2006</th>\n",
       "      <td>35.16</td>\n",
       "      <td>10.84</td>\n",
       "      <td>1.20</td>\n",
       "      <td>4.42</td>\n",
       "      <td>51.62</td>\n",
       "    </tr>\n",
       "    <tr>\n",
       "      <th>2007</th>\n",
       "      <td>62.99</td>\n",
       "      <td>22.17</td>\n",
       "      <td>1.52</td>\n",
       "      <td>8.73</td>\n",
       "      <td>95.41</td>\n",
       "    </tr>\n",
       "    <tr>\n",
       "      <th>2008</th>\n",
       "      <td>82.51</td>\n",
       "      <td>38.16</td>\n",
       "      <td>1.89</td>\n",
       "      <td>12.70</td>\n",
       "      <td>135.26</td>\n",
       "    </tr>\n",
       "    <tr>\n",
       "      <th>2009</th>\n",
       "      <td>74.00</td>\n",
       "      <td>33.31</td>\n",
       "      <td>1.95</td>\n",
       "      <td>11.03</td>\n",
       "      <td>120.29</td>\n",
       "    </tr>\n",
       "    <tr>\n",
       "      <th>2010</th>\n",
       "      <td>107.38</td>\n",
       "      <td>46.31</td>\n",
       "      <td>2.11</td>\n",
       "      <td>14.23</td>\n",
       "      <td>170.03</td>\n",
       "    </tr>\n",
       "    <tr>\n",
       "      <th>2011</th>\n",
       "      <td>86.75</td>\n",
       "      <td>42.58</td>\n",
       "      <td>1.78</td>\n",
       "      <td>12.73</td>\n",
       "      <td>143.84</td>\n",
       "    </tr>\n",
       "    <tr>\n",
       "      <th>2012</th>\n",
       "      <td>58.39</td>\n",
       "      <td>32.00</td>\n",
       "      <td>1.06</td>\n",
       "      <td>8.29</td>\n",
       "      <td>99.74</td>\n",
       "    </tr>\n",
       "    <tr>\n",
       "      <th>2013</th>\n",
       "      <td>53.36</td>\n",
       "      <td>27.03</td>\n",
       "      <td>0.43</td>\n",
       "      <td>7.76</td>\n",
       "      <td>88.58</td>\n",
       "    </tr>\n",
       "    <tr>\n",
       "      <th>2014</th>\n",
       "      <td>20.25</td>\n",
       "      <td>11.28</td>\n",
       "      <td>0.08</td>\n",
       "      <td>3.13</td>\n",
       "      <td>34.74</td>\n",
       "    </tr>\n",
       "    <tr>\n",
       "      <th>2015</th>\n",
       "      <td>7.36</td>\n",
       "      <td>3.50</td>\n",
       "      <td>0.00</td>\n",
       "      <td>1.10</td>\n",
       "      <td>11.96</td>\n",
       "    </tr>\n",
       "    <tr>\n",
       "      <th>2016</th>\n",
       "      <td>0.69</td>\n",
       "      <td>0.71</td>\n",
       "      <td>0.00</td>\n",
       "      <td>0.12</td>\n",
       "      <td>1.52</td>\n",
       "    </tr>\n",
       "    <tr>\n",
       "      <th rowspan=\"11\" valign=\"top\">PS3</th>\n",
       "      <th>2006</th>\n",
       "      <td>8.84</td>\n",
       "      <td>7.38</td>\n",
       "      <td>1.08</td>\n",
       "      <td>3.66</td>\n",
       "      <td>20.96</td>\n",
       "    </tr>\n",
       "    <tr>\n",
       "      <th>2007</th>\n",
       "      <td>32.16</td>\n",
       "      <td>26.10</td>\n",
       "      <td>4.22</td>\n",
       "      <td>10.71</td>\n",
       "      <td>73.19</td>\n",
       "    </tr>\n",
       "    <tr>\n",
       "      <th>2008</th>\n",
       "      <td>57.23</td>\n",
       "      <td>38.73</td>\n",
       "      <td>5.82</td>\n",
       "      <td>16.74</td>\n",
       "      <td>118.52</td>\n",
       "    </tr>\n",
       "    <tr>\n",
       "      <th>2009</th>\n",
       "      <td>62.65</td>\n",
       "      <td>41.40</td>\n",
       "      <td>9.03</td>\n",
       "      <td>17.85</td>\n",
       "      <td>130.93</td>\n",
       "    </tr>\n",
       "    <tr>\n",
       "      <th>2010</th>\n",
       "      <td>60.99</td>\n",
       "      <td>50.50</td>\n",
       "      <td>9.87</td>\n",
       "      <td>20.81</td>\n",
       "      <td>142.17</td>\n",
       "    </tr>\n",
       "    <tr>\n",
       "      <th>2011</th>\n",
       "      <td>64.88</td>\n",
       "      <td>56.24</td>\n",
       "      <td>14.10</td>\n",
       "      <td>21.56</td>\n",
       "      <td>156.78</td>\n",
       "    </tr>\n",
       "    <tr>\n",
       "      <th>2012</th>\n",
       "      <td>39.88</td>\n",
       "      <td>39.04</td>\n",
       "      <td>11.94</td>\n",
       "      <td>16.49</td>\n",
       "      <td>107.35</td>\n",
       "    </tr>\n",
       "    <tr>\n",
       "      <th>2013</th>\n",
       "      <td>41.45</td>\n",
       "      <td>42.27</td>\n",
       "      <td>12.13</td>\n",
       "      <td>17.40</td>\n",
       "      <td>113.25</td>\n",
       "    </tr>\n",
       "    <tr>\n",
       "      <th>2014</th>\n",
       "      <td>16.39</td>\n",
       "      <td>18.24</td>\n",
       "      <td>6.25</td>\n",
       "      <td>6.88</td>\n",
       "      <td>47.76</td>\n",
       "    </tr>\n",
       "    <tr>\n",
       "      <th>2015</th>\n",
       "      <td>4.99</td>\n",
       "      <td>6.04</td>\n",
       "      <td>3.67</td>\n",
       "      <td>2.12</td>\n",
       "      <td>16.82</td>\n",
       "    </tr>\n",
       "    <tr>\n",
       "      <th>2016</th>\n",
       "      <td>0.67</td>\n",
       "      <td>1.26</td>\n",
       "      <td>1.30</td>\n",
       "      <td>0.37</td>\n",
       "      <td>3.60</td>\n",
       "    </tr>\n",
       "    <tr>\n",
       "      <th rowspan=\"11\" valign=\"top\">Wii</th>\n",
       "      <th>2006</th>\n",
       "      <td>70.86</td>\n",
       "      <td>43.62</td>\n",
       "      <td>9.15</td>\n",
       "      <td>13.52</td>\n",
       "      <td>137.15</td>\n",
       "    </tr>\n",
       "    <tr>\n",
       "      <th>2007</th>\n",
       "      <td>83.14</td>\n",
       "      <td>43.96</td>\n",
       "      <td>12.12</td>\n",
       "      <td>13.55</td>\n",
       "      <td>152.77</td>\n",
       "    </tr>\n",
       "    <tr>\n",
       "      <th>2008</th>\n",
       "      <td>97.12</td>\n",
       "      <td>46.52</td>\n",
       "      <td>12.69</td>\n",
       "      <td>14.99</td>\n",
       "      <td>171.32</td>\n",
       "    </tr>\n",
       "    <tr>\n",
       "      <th>2009</th>\n",
       "      <td>114.55</td>\n",
       "      <td>58.31</td>\n",
       "      <td>16.57</td>\n",
       "      <td>17.54</td>\n",
       "      <td>206.97</td>\n",
       "    </tr>\n",
       "    <tr>\n",
       "      <th>2010</th>\n",
       "      <td>72.64</td>\n",
       "      <td>36.31</td>\n",
       "      <td>8.78</td>\n",
       "      <td>10.22</td>\n",
       "      <td>127.95</td>\n",
       "    </tr>\n",
       "    <tr>\n",
       "      <th>2011</th>\n",
       "      <td>31.11</td>\n",
       "      <td>17.68</td>\n",
       "      <td>5.58</td>\n",
       "      <td>5.28</td>\n",
       "      <td>59.65</td>\n",
       "    </tr>\n",
       "    <tr>\n",
       "      <th>2012</th>\n",
       "      <td>10.89</td>\n",
       "      <td>5.99</td>\n",
       "      <td>3.34</td>\n",
       "      <td>1.49</td>\n",
       "      <td>21.71</td>\n",
       "    </tr>\n",
       "    <tr>\n",
       "      <th>2013</th>\n",
       "      <td>4.48</td>\n",
       "      <td>3.34</td>\n",
       "      <td>0.05</td>\n",
       "      <td>0.72</td>\n",
       "      <td>8.59</td>\n",
       "    </tr>\n",
       "    <tr>\n",
       "      <th>2014</th>\n",
       "      <td>1.59</td>\n",
       "      <td>1.86</td>\n",
       "      <td>0.00</td>\n",
       "      <td>0.30</td>\n",
       "      <td>3.75</td>\n",
       "    </tr>\n",
       "    <tr>\n",
       "      <th>2015</th>\n",
       "      <td>0.43</td>\n",
       "      <td>0.62</td>\n",
       "      <td>0.00</td>\n",
       "      <td>0.09</td>\n",
       "      <td>1.14</td>\n",
       "    </tr>\n",
       "    <tr>\n",
       "      <th>2016</th>\n",
       "      <td>0.06</td>\n",
       "      <td>0.11</td>\n",
       "      <td>0.00</td>\n",
       "      <td>0.01</td>\n",
       "      <td>0.18</td>\n",
       "    </tr>\n",
       "    <tr>\n",
       "      <th rowspan=\"10\" valign=\"top\">DS</th>\n",
       "      <th>2004</th>\n",
       "      <td>8.33</td>\n",
       "      <td>3.93</td>\n",
       "      <td>3.65</td>\n",
       "      <td>1.36</td>\n",
       "      <td>17.27</td>\n",
       "    </tr>\n",
       "    <tr>\n",
       "      <th>2005</th>\n",
       "      <td>47.99</td>\n",
       "      <td>41.49</td>\n",
       "      <td>29.86</td>\n",
       "      <td>10.80</td>\n",
       "      <td>130.14</td>\n",
       "    </tr>\n",
       "    <tr>\n",
       "      <th>2006</th>\n",
       "      <td>50.01</td>\n",
       "      <td>23.07</td>\n",
       "      <td>38.56</td>\n",
       "      <td>8.17</td>\n",
       "      <td>119.81</td>\n",
       "    </tr>\n",
       "    <tr>\n",
       "      <th>2007</th>\n",
       "      <td>75.25</td>\n",
       "      <td>33.79</td>\n",
       "      <td>26.81</td>\n",
       "      <td>11.09</td>\n",
       "      <td>146.94</td>\n",
       "    </tr>\n",
       "    <tr>\n",
       "      <th>2008</th>\n",
       "      <td>78.12</td>\n",
       "      <td>32.24</td>\n",
       "      <td>24.01</td>\n",
       "      <td>10.94</td>\n",
       "      <td>145.31</td>\n",
       "    </tr>\n",
       "    <tr>\n",
       "      <th>2009</th>\n",
       "      <td>60.95</td>\n",
       "      <td>25.83</td>\n",
       "      <td>24.21</td>\n",
       "      <td>8.55</td>\n",
       "      <td>119.54</td>\n",
       "    </tr>\n",
       "    <tr>\n",
       "      <th>2010</th>\n",
       "      <td>40.80</td>\n",
       "      <td>18.82</td>\n",
       "      <td>19.86</td>\n",
       "      <td>5.54</td>\n",
       "      <td>85.02</td>\n",
       "    </tr>\n",
       "    <tr>\n",
       "      <th>2011</th>\n",
       "      <td>14.27</td>\n",
       "      <td>5.71</td>\n",
       "      <td>4.32</td>\n",
       "      <td>1.88</td>\n",
       "      <td>26.18</td>\n",
       "    </tr>\n",
       "    <tr>\n",
       "      <th>2012</th>\n",
       "      <td>4.02</td>\n",
       "      <td>2.68</td>\n",
       "      <td>3.72</td>\n",
       "      <td>0.59</td>\n",
       "      <td>11.01</td>\n",
       "    </tr>\n",
       "    <tr>\n",
       "      <th>2013</th>\n",
       "      <td>0.57</td>\n",
       "      <td>0.85</td>\n",
       "      <td>0.00</td>\n",
       "      <td>0.12</td>\n",
       "      <td>1.54</td>\n",
       "    </tr>\n",
       "  </tbody>\n",
       "</table>\n",
       "</div>"
      ],
      "text/plain": [
       "                          na_sales  eu_sales  jp_sales  other_sales  \\\n",
       "platform year_of_release                                              \n",
       "PS2      2000                16.08     10.64      8.87         3.58   \n",
       "         2001                79.49     52.37     17.79        16.78   \n",
       "         2002                96.54     65.27     21.85        21.72   \n",
       "         2003                83.54     61.20     18.88        20.69   \n",
       "         2004                96.78     56.01     19.17        39.85   \n",
       "         2005                85.60     40.86     15.05        19.15   \n",
       "         2006                49.93     21.61     17.64        14.24   \n",
       "         2007                32.05     10.43      9.82        23.69   \n",
       "         2008                21.23      7.63      5.73        19.31   \n",
       "         2009                 9.36      4.94      1.94        10.16   \n",
       "         2010                 2.19      1.54      0.71         1.20   \n",
       "         2011                 0.13      0.13      0.09         0.10   \n",
       "X360     2005                 6.90      0.43      0.28         0.64   \n",
       "         2006                35.16     10.84      1.20         4.42   \n",
       "         2007                62.99     22.17      1.52         8.73   \n",
       "         2008                82.51     38.16      1.89        12.70   \n",
       "         2009                74.00     33.31      1.95        11.03   \n",
       "         2010               107.38     46.31      2.11        14.23   \n",
       "         2011                86.75     42.58      1.78        12.73   \n",
       "         2012                58.39     32.00      1.06         8.29   \n",
       "         2013                53.36     27.03      0.43         7.76   \n",
       "         2014                20.25     11.28      0.08         3.13   \n",
       "         2015                 7.36      3.50      0.00         1.10   \n",
       "         2016                 0.69      0.71      0.00         0.12   \n",
       "PS3      2006                 8.84      7.38      1.08         3.66   \n",
       "         2007                32.16     26.10      4.22        10.71   \n",
       "         2008                57.23     38.73      5.82        16.74   \n",
       "         2009                62.65     41.40      9.03        17.85   \n",
       "         2010                60.99     50.50      9.87        20.81   \n",
       "         2011                64.88     56.24     14.10        21.56   \n",
       "         2012                39.88     39.04     11.94        16.49   \n",
       "         2013                41.45     42.27     12.13        17.40   \n",
       "         2014                16.39     18.24      6.25         6.88   \n",
       "         2015                 4.99      6.04      3.67         2.12   \n",
       "         2016                 0.67      1.26      1.30         0.37   \n",
       "Wii      2006                70.86     43.62      9.15        13.52   \n",
       "         2007                83.14     43.96     12.12        13.55   \n",
       "         2008                97.12     46.52     12.69        14.99   \n",
       "         2009               114.55     58.31     16.57        17.54   \n",
       "         2010                72.64     36.31      8.78        10.22   \n",
       "         2011                31.11     17.68      5.58         5.28   \n",
       "         2012                10.89      5.99      3.34         1.49   \n",
       "         2013                 4.48      3.34      0.05         0.72   \n",
       "         2014                 1.59      1.86      0.00         0.30   \n",
       "         2015                 0.43      0.62      0.00         0.09   \n",
       "         2016                 0.06      0.11      0.00         0.01   \n",
       "DS       2004                 8.33      3.93      3.65         1.36   \n",
       "         2005                47.99     41.49     29.86        10.80   \n",
       "         2006                50.01     23.07     38.56         8.17   \n",
       "         2007                75.25     33.79     26.81        11.09   \n",
       "         2008                78.12     32.24     24.01        10.94   \n",
       "         2009                60.95     25.83     24.21         8.55   \n",
       "         2010                40.80     18.82     19.86         5.54   \n",
       "         2011                14.27      5.71      4.32         1.88   \n",
       "         2012                 4.02      2.68      3.72         0.59   \n",
       "         2013                 0.57      0.85      0.00         0.12   \n",
       "\n",
       "                          total_sales  \n",
       "platform year_of_release               \n",
       "PS2      2000                   39.17  \n",
       "         2001                  166.43  \n",
       "         2002                  205.38  \n",
       "         2003                  184.31  \n",
       "         2004                  211.81  \n",
       "         2005                  160.66  \n",
       "         2006                  103.42  \n",
       "         2007                   75.99  \n",
       "         2008                   53.90  \n",
       "         2009                   26.40  \n",
       "         2010                    5.64  \n",
       "         2011                    0.45  \n",
       "X360     2005                    8.25  \n",
       "         2006                   51.62  \n",
       "         2007                   95.41  \n",
       "         2008                  135.26  \n",
       "         2009                  120.29  \n",
       "         2010                  170.03  \n",
       "         2011                  143.84  \n",
       "         2012                   99.74  \n",
       "         2013                   88.58  \n",
       "         2014                   34.74  \n",
       "         2015                   11.96  \n",
       "         2016                    1.52  \n",
       "PS3      2006                   20.96  \n",
       "         2007                   73.19  \n",
       "         2008                  118.52  \n",
       "         2009                  130.93  \n",
       "         2010                  142.17  \n",
       "         2011                  156.78  \n",
       "         2012                  107.35  \n",
       "         2013                  113.25  \n",
       "         2014                   47.76  \n",
       "         2015                   16.82  \n",
       "         2016                    3.60  \n",
       "Wii      2006                  137.15  \n",
       "         2007                  152.77  \n",
       "         2008                  171.32  \n",
       "         2009                  206.97  \n",
       "         2010                  127.95  \n",
       "         2011                   59.65  \n",
       "         2012                   21.71  \n",
       "         2013                    8.59  \n",
       "         2014                    3.75  \n",
       "         2015                    1.14  \n",
       "         2016                    0.18  \n",
       "DS       2004                   17.27  \n",
       "         2005                  130.14  \n",
       "         2006                  119.81  \n",
       "         2007                  146.94  \n",
       "         2008                  145.31  \n",
       "         2009                  119.54  \n",
       "         2010                   85.02  \n",
       "         2011                   26.18  \n",
       "         2012                   11.01  \n",
       "         2013                    1.54  "
      ]
     },
     "execution_count": 38,
     "metadata": {},
     "output_type": "execute_result"
    }
   ],
   "source": [
    "top_platforms = platform_sales.groupby('platform')['total_sales'].sum().sort_values(ascending=False).head(5).index\n",
    "top_platform_sales = platform_sales.loc[top_platforms]\n",
    "top_platform_sales"
   ]
  },
  {
   "cell_type": "markdown",
   "metadata": {},
   "source": [
    "Разобрались с таким артефактом у платформы DS как год выпуска игры 1985. Это ошибка, так как в 1985 году этой платформы еще не существовало. Визуализация помогает не только определять закономерности, но еще и находить ошибки."
   ]
  },
  {
   "cell_type": "code",
   "execution_count": 39,
   "metadata": {},
   "outputs": [
    {
     "data": {
      "image/png": "[encoded data removed]",
      "text/plain": [
       "<Figure size 1224x432 with 1 Axes>"
      ]
     },
     "metadata": {
      "needs_background": "light"
     },
     "output_type": "display_data"
    }
   ],
   "source": [
    "top_platform_sales.unstack()['total_sales'].plot(kind='bar', figsize=(17, 6))\n",
    "plt.xlabel('Год выпуска')\n",
    "plt.ylabel('Суммарные продажи')\n",
    "plt.title('Распределение продаж по годам для выбранных платформ')\n",
    "plt.legend(loc='upper right')\n",
    "plt.show()"
   ]
  },
  {
   "cell_type": "markdown",
   "metadata": {},
   "source": [
    "***За какой характерный срок появляются новые и исчезают старые платформы?***\n",
    "\n",
    "- Появление новых платформ: на графике выше нужно обратить внимание на моменты, когда появляются новые платформы и начинаются их продажи .Это будет характеризоваться резким ростом продаж.\n",
    "\n",
    "- Пиковый период: определить пиковый период для каждой платформы, когда продажи достигают максимального значения. Этот период является самым успешным для платформы.\n",
    "\n",
    "- Снижение продаж: после пикового периода продажи платформы начинают снижаться. Нужно обратить внимание на моменты, когда продажи становятся ниже некоторого порога и продолжают падать.\n",
    "\n",
    "- Исчезновение платформы: когда продажи платформы достигают очень низкого уровня и продолжают падать, можно считать, что платформа исчезает с рынка."
   ]
  },
  {
   "cell_type": "code",
   "execution_count": 40,
   "metadata": {},
   "outputs": [
    {
     "name": "stdout",
     "output_type": "stream",
     "text": [
      "Средний срок жизни платформы: 7.0\n"
     ]
    }
   ],
   "source": [
    "platform_lifetime = games.groupby('platform')['year_of_release'].agg(['min', 'max'])\n",
    "platform_lifetime['lifetime'] = platform_lifetime['max'] - platform_lifetime['min']\n",
    "average_lifetime = platform_lifetime['lifetime'].mean()\n",
    "print(\"Средний срок жизни платформы:\", average_lifetime)"
   ]
  },
  {
   "cell_type": "markdown",
   "metadata": {},
   "source": [
    "  \n",
    "Средний срок жизни платформы составляет 7 лет. Это означает, что в игровой индустрии платформы обычно существуют в течение примерно 7 лет, после чего они выходят из активного производства и теряют популярность."
   ]
  },
  {
   "cell_type": "markdown",
   "metadata": {},
   "source": [
    "### Возьмите данные за соответствующий актуальный период. Актуальный период определите самостоятельно в результате исследования предыдущих вопросов. Основной фактор — эти данные помогут построить прогноз на 2017 год. Не учитывайте в работе данные за предыдущие годы.\n"
   ]
  },
  {
   "cell_type": "markdown",
   "metadata": {},
   "source": [
    "Если не учитывать данные за предыдущие годы и ограничиться только актуальным периодом, то в данном случае актуальным периодом будет рассматриваться период с 2012 по 2016 год. Этот период включает годы, в которых наблюдались пики продаж для выбранных платформ, и исключает предыдущие годы, которые уже не являются актуальными для прогнозирования продаж на 2017 год."
   ]
  },
  {
   "cell_type": "markdown",
   "metadata": {},
   "source": [
    "### Какие платформы лидируют по продажам, растут или падают? Выберите несколько потенциально прибыльных платформ."
   ]
  },
  {
   "cell_type": "code",
   "execution_count": 42,
   "metadata": {},
   "outputs": [
    {
     "data": {
      "image/png": "[encoded data removed]",
      "text/plain": [
       "<Figure size 864x432 with 1 Axes>"
      ]
     },
     "metadata": {
      "needs_background": "light"
     },
     "output_type": "display_data"
    }
   ],
   "source": [
    "actual_period = games[(games['year_of_release'] >= 2012) & (games['year_of_release'] <= 2016)]\n",
    "platform_sales = actual_period.groupby('platform')['total_sales'].sum().sort_values(ascending=False)\n",
    "plt.figure(figsize=(12, 6))\n",
    "platform_sales.plot(kind='bar', color='skyblue')\n",
    "plt.title('Продажи по платформам в период 2012-2016 гг.')\n",
    "plt.xlabel('Платформы')\n",
    "plt.ylabel('Общие продажи, млн копий')\n",
    "plt.xticks(rotation=90)\n",
    "plt.show()"
   ]
  },
  {
   "cell_type": "code",
   "execution_count": 43,
   "metadata": {},
   "outputs": [
    {
     "data": {
      "image/png": "[encoded data removed]",
      "text/plain": [
       "<Figure size 864x432 with 1 Axes>"
      ]
     },
     "metadata": {
      "needs_background": "light"
     },
     "output_type": "display_data"
    }
   ],
   "source": [
    "top_platforms = platform_sales.head(5).index\n",
    "top_platform_trends = actual_period[actual_period['platform'].isin(top_platforms)]\n",
    "\n",
    "plt.figure(figsize=(12, 6))\n",
    "sns.barplot(data=top_platform_trends, x='year_of_release', y='total_sales', hue='platform')\n",
    "plt.title('Изменение продаж по платформам в  2012-2016 гг.')\n",
    "plt.xlabel('Год выпуска')\n",
    "plt.ylabel('Продажи, млн копий')\n",
    "plt.xticks(rotation=45)\n",
    "plt.legend(title='Платформа')\n",
    "plt.show()"
   ]
  },
  {
   "cell_type": "markdown",
   "metadata": {},
   "source": [
    "\n",
    "С учетом данных о продажах по платформам в актуальном периоде, можно выделить 5 потенциально прибыльных платформ:\n",
    "PlayStation 3 (PS3), Xbox 360 (X360), PS4,3DS,XOne. "
   ]
  },
  {
   "cell_type": "markdown",
   "metadata": {},
   "source": [
    "### Постройте график «ящик с усами» по глобальным продажам игр в разбивке по платформам. Опишите результат."
   ]
  },
  {
   "cell_type": "code",
   "execution_count": 46,
   "metadata": {},
   "outputs": [
    {
     "data": {
      "image/png": "[encoded data removed]",
      "text/plain": [
       "<Figure size 1224x576 with 1 Axes>"
      ]
     },
     "metadata": {
      "needs_background": "light"
     },
     "output_type": "display_data"
    }
   ],
   "source": [
    "plt.figure(figsize=(17, 8))\n",
    "plt.boxplot([actual_period[actual_period['platform'] == platform]['total_sales'] for platform in actual_period['platform'].unique()])\n",
    "plt.title('Продажи игр по платформам в период 2012-2016 гг')\n",
    "plt.xlabel('Платформы')\n",
    "plt.ylabel('Общие продажи (млн. проданных копий)')\n",
    "plt.xticks(range(1, len(actual_period['platform'].unique()) + 1), actual_period['platform'].unique(), rotation=90)\n",
    "plt.show()"
   ]
  },
  {
   "cell_type": "code",
   "execution_count": 47,
   "metadata": {},
   "outputs": [
    {
     "data": {
      "image/png": "[encoded data removed]",
      "text/plain": [
       "<Figure size 1224x576 with 1 Axes>"
      ]
     },
     "metadata": {
      "needs_background": "light"
     },
     "output_type": "display_data"
    }
   ],
   "source": [
    "plt.figure(figsize=(17, 8))\n",
    "platforms = actual_period['platform'].unique()\n",
    "\n",
    "colors = plt.cm.Set3(np.linspace(0, 1, len(platforms)))\n",
    "\n",
    "boxplots = []\n",
    "\n",
    "for i, platform in enumerate(platforms):\n",
    "    platform_sales = actual_period[actual_period['platform'] == platform]['total_sales']\n",
    "    box = plt.boxplot(platform_sales, positions=[i + 1], patch_artist=True)\n",
    "    boxplots.append(box['boxes'][0])\n",
    "    box['boxes'][0].set_facecolor(colors[i])\n",
    "\n",
    "plt.title('Продажи игр по платформам в период 2012-2016 гг')\n",
    "plt.xlabel('Платформы')\n",
    "plt.ylabel('Общие продажи (млн. проданных копий)')\n",
    "plt.xticks(range(1, len(platforms) + 1), platforms, rotation=90)\n",
    "plt.yscale('log')\n",
    "\n",
    "plt.legend(boxplots, platforms)\n",
    "\n",
    "plt.show()"
   ]
  },
  {
   "cell_type": "markdown",
   "metadata": {},
   "source": [
    "***График \"ящик с усами\" (boxplot) для глобальных продаж игр в разбивке по платформам. Каждый ящик на графике представляет одну платформу, а его верхняя и нижняя границы показывают интерквартильный размах (межквартильный диапазон) данных. Линия внутри ящика представляет медиану (50-й процентиль), а \"усы\" указывают на область данных, не выходящих за пределы установленного диапазона.***\n",
    "\n",
    "***Выбросы могут также указывать на неравномерность данных или наличие необычных событий или факторов, влияющих на продажи. В этом случае, анализ этих выбросов может помочь идентифицировать особенности рынка или особые обстоятельства, которые могут влиять на успех игр.***\n",
    "\n",
    "***График \"ящик с усами\" позволяет визуально сравнивать продажи игр между разными платформами и оценивать их распределение и вариативность.***"
   ]
  },
  {
   "cell_type": "markdown",
   "metadata": {},
   "source": [
    "### Посмотрите, как влияют на продажи внутри одной популярной платформы отзывы пользователей и критиков. Постройте диаграмму рассеяния и посчитайте корреляцию между отзывами и продажами. Сформулируйте выводы."
   ]
  },
  {
   "cell_type": "code",
   "execution_count": 54,
   "metadata": {},
   "outputs": [
    {
     "data": {
      "image/png": "[encoded data removed]",
      "text/plain": [
       "<Figure size 1224x432 with 1 Axes>"
      ]
     },
     "metadata": {
      "needs_background": "light"
     },
     "output_type": "display_data"
    },
    {
     "name": "stdout",
     "output_type": "stream",
     "text": [
      "              critic_score  user_score  total_sales\n",
      "critic_score      1.000000    0.385579     0.350407\n",
      "user_score        0.385579    1.000000    -0.031957\n",
      "total_sales       0.350407   -0.031957     1.000000\n"
     ]
    }
   ],
   "source": [
    "ps4_user_scores = actual_period[(actual_period['platform'] == 'PS4') & (actual_period['user_score'] != -1)]\n",
    "ps4_critic_scores = actual_period[(actual_period['platform'] == 'PS4') & (actual_period['critic_score'] != -1)]\n",
    "\n",
    "plt.figure(figsize=(17, 6))\n",
    "plt.scatter(ps4_critic_scores['critic_score'], ps4_critic_scores['total_sales'], label='Critic Score')\n",
    "plt.scatter(ps4_user_scores['user_score'], ps4_user_scores['total_sales'], label='User Score')\n",
    "plt.title('Влияние отзывов пользователей и критиков на продажи платформы PS4')\n",
    "plt.xlabel('Отзывы пользователей и критиков')\n",
    "plt.ylabel('Продажи (млн. проданных копий)')\n",
    "plt.legend()\n",
    "plt.show()\n",
    "\n",
    "correlation = ps4_user_scores[['critic_score', 'user_score', 'total_sales']].corr()\n",
    "print(correlation)"
   ]
  },
  {
   "cell_type": "code",
   "execution_count": 55,
   "metadata": {},
   "outputs": [
    {
     "name": "stdout",
     "output_type": "stream",
     "text": [
      "1530\n",
      "1311\n",
      "1296\n"
     ]
    }
   ],
   "source": [
    "print(len(actual_period[(actual_period['user_score'] != -1)]))\n",
    "print(len(actual_period[(actual_period['critic_score'] != -1)]))\n",
    "print(len(actual_period[(actual_period['user_score'] != -1) & (actual_period['critic_score'] != -1)]))"
   ]
  },
  {
   "cell_type": "markdown",
   "metadata": {},
   "source": [
    "Можно сделать следующие выводы: для платформы PS4 между оценками критиков и общими продажами наблюдается слабая положительная корреляция (0.35). Это может указывать на то, что более высокие оценки критиков связаны с более высокими продажами игр на платформе PS4. Однако стоит отметить, что связь не является сильной.\n",
    "\n",
    "Между оценками пользователей и общими продажами наблюдается слабая отрицательная корреляция (-0.03). Это означает, что оценки пользователей не имеют сильного влияния на продажи игр на платформе PS4.\n",
    "\n",
    "В целом, на основе данного анализа можно сказать, что оценки критиков могут оказывать некоторое влияние на продажи игр на платформе PS4, в то время как мнение пользователей не имеет существенного влияния на продажи. Однако, следует учитывать, что корреляция не обязательно означает причинно-следственную связь, и другие факторы также могут влиять на продажи игр."
   ]
  },
  {
   "cell_type": "markdown",
   "metadata": {},
   "source": [
    "### Соотнесите выводы с продажами игр на других платформах."
   ]
  },
  {
   "cell_type": "code",
   "execution_count": 59,
   "metadata": {},
   "outputs": [
    {
     "data": {
      "image/png": "[encoded data removed]",
      "text/plain": [
       "<Figure size 864x1440 with 10 Axes>"
      ]
     },
     "metadata": {
      "needs_background": "light"
     },
     "output_type": "display_data"
    }
   ],
   "source": [
    "platforms = ['PS3', 'X360', 'PS4', '3DS', 'XOne']\n",
    "fig, axes = plt.subplots(len(platforms), 2, figsize=(12, 20))\n",
    "\n",
    "for i, platform in enumerate(platforms):\n",
    "    platform_data = actual_period[actual_period['platform'] == platform]\n",
    "    \n",
    "    user_scores = platform_data[(platform_data['user_score'] != -1)]\n",
    "    critic_scores = platform_data[(platform_data['critic_score'] != -1)]\n",
    "    \n",
    "    axes[i, 0].scatter(critic_scores['critic_score'], critic_scores['total_sales'])\n",
    "    axes[i, 0].set_title(f'{platform} - Отзывы критиков')\n",
    "    axes[i, 0].set_xlabel('Отзывы критиков')\n",
    "    axes[i, 0].set_ylabel('Продажи (млн. проданных копий)')\n",
    "   \n",
    "    axes[i, 1].scatter(user_scores['user_score'], user_scores['total_sales'])\n",
    "    axes[i, 1].set_title(f'{platform} - Отзывы пользователей')\n",
    "    axes[i, 1].set_xlabel('Отзывы пользователей')\n",
    "    axes[i, 1].set_ylabel('Продажи (млн. проданных копий)')\n",
    "\n",
    "plt.tight_layout()\n",
    "plt.show()"
   ]
  },
  {
   "cell_type": "code",
   "execution_count": 60,
   "metadata": {},
   "outputs": [
    {
     "data": {
      "image/png": "[encoded data removed]",
      "text/plain": [
       "<Figure size 432x288 with 2 Axes>"
      ]
     },
     "metadata": {
      "needs_background": "light"
     },
     "output_type": "display_data"
    }
   ],
   "source": [
    "correlation_matrix = np.zeros((len(platforms), 2))\n",
    "for i, platform in enumerate(platforms):\n",
    "    platform_data = actual_period[actual_period['platform'] == platform]\n",
    "    \n",
    "    user_scores = platform_data[(platform_data['user_score'] != -1)]\n",
    "    critic_scores = platform_data[(platform_data['critic_score'] != -1)]\n",
    "    \n",
    "    correlation_matrix[i, 0] = np.corrcoef(critic_scores['critic_score'], critic_scores['total_sales'])[0, 1]\n",
    "    correlation_matrix[i, 1] = np.corrcoef(user_scores['user_score'], user_scores['total_sales'])[0, 1]\n",
    "\n",
    "sns.heatmap(correlation_matrix, annot=True, fmt=\".2f\", xticklabels=['Отзывы критиков', 'Отзывы пользователей'],\n",
    "            yticklabels=platforms, cmap='coolwarm')\n",
    "plt.title('Тепловая карта корреляции отзывов и продаж по платформам')\n",
    "plt.show()\n",
    "\n",
    "ps4_user_scores = actual_period[(actual_period['platform'] == 'PS4') & (actual_period['user_score'] != -1)]\n",
    "ps4_critic_scores = actual_period[(actual_period['platform'] == 'PS4') & (actual_period['critic_score'] != -1)]"
   ]
  },
  {
   "cell_type": "markdown",
   "metadata": {},
   "source": [
    "   Для большинства платформ (PS3, X360, PS4, 3DS, XOne) корреляция между отзывами критиков и продажами находится в диапазоне от 0.32 до 0.42. Это указывает на наличие некоторой положительной связи между отзывами критиков и продажами игр на этих платформах.\n",
    "\n",
    "Корреляция между отзывами пользователей и продажами на данных платформах относительно низкая и близка к нулю (-0.07 до 0.20). Это говорит о том, что отзывы пользователей слабо связаны с объемом продаж игр.\n",
    "\n",
    "Наиболее сильная связь между отзывами и продажами наблюдается для платформы XOne, где корреляция отзывов критиков составляет 0.42. Однако, стоит отметить, что эта связь все равно не является очень сильной.\n",
    "\n",
    "Таким образом, результаты анализа указывают на то, что отзывы критиков могут иметь некоторое влияние на продажи игр на рассматриваемых платформах, в то время как отзывы пользователей имеют менее значимую связь с объемом продаж.\n"
   ]
  },
  {
   "cell_type": "markdown",
   "metadata": {},
   "source": [
    "### Посмотрите на общее распределение игр по жанрам. Что можно сказать о самых прибыльных жанрах? Выделяются ли жанры с высокими и низкими продажами?"
   ]
  },
  {
   "cell_type": "code",
   "execution_count": 62,
   "metadata": {},
   "outputs": [
    {
     "data": {
      "image/png": "[encoded data removed]",
      "text/plain": [
       "<Figure size 1224x432 with 1 Axes>"
      ]
     },
     "metadata": {
      "needs_background": "light"
     },
     "output_type": "display_data"
    }
   ],
   "source": [
    "genre_sales = actual_period.groupby('genre')['total_sales'].median().sort_values(ascending=False)\n",
    "\n",
    "plt.figure(figsize=(17, 6))\n",
    "sns.boxplot(x=actual_period['genre'], y=actual_period['total_sales'], order=genre_sales.index)\n",
    "plt.title('Сравнение медианных продаж по жанрам')\n",
    "plt.xlabel('Жанр')\n",
    "plt.ylabel('Продажи (млн. проданных копий)')\n",
    "plt.xticks(rotation=90)\n",
    "plt.yscale('log')\n",
    "plt.show()"
   ]
  },
  {
   "cell_type": "markdown",
   "metadata": {},
   "source": [
    "   Таким образом, основываясь на медианах продаж, можно выделить жанры Shooter, Sports и Platform как самые прибыльные, а жанры Puzzle и Adventure как наименее прибыльные. Остальные жанры находятся в промежуточной группе с разными уровнями медианных продаж.\n",
    "    \n",
    "Однако, стоит отметить, что на боксплотах жанры имеют выбросы, то есть отдельные игры с очень высокими продажами, что может искажать общую картину. Поэтому важно учитывать и другие факторы, такие как средние значения, доли продаж и тенденции в разных жанрах."
   ]
  },
  {
   "cell_type": "markdown",
   "metadata": {},
   "source": [
    "## Составьте портрет пользователя каждого региона"
   ]
  },
  {
   "cell_type": "markdown",
   "metadata": {},
   "source": [
    "### Определите для пользователя каждого региона (NA, EU, JP): Самые популярные платформы (топ-5). Опишите различия в долях продаж."
   ]
  },
  {
   "cell_type": "code",
   "execution_count": 67,
   "metadata": {},
   "outputs": [
    {
     "data": {
      "image/png": "[encoded data removed]",
      "text/plain": [
       "<Figure size 1296x432 with 3 Axes>"
      ]
     },
     "metadata": {},
     "output_type": "display_data"
    }
   ],
   "source": [
    "na_data = actual_period.groupby('platform')['na_sales'].sum().nlargest(5)\n",
    "eu_data = actual_period.groupby('platform')['eu_sales'].sum().nlargest(5)\n",
    "jp_data = actual_period.groupby('platform')['jp_sales'].sum().nlargest(5)\n",
    "\n",
    "na_other = actual_period['na_sales'].sum() - na_data.sum()\n",
    "eu_other = actual_period['eu_sales'].sum() - eu_data.sum()\n",
    "jp_other = actual_period['jp_sales'].sum() - jp_data.sum()\n",
    "\n",
    "fig, axes = plt.subplots(1, 3, figsize=(18, 6))\n",
    "\n",
    "na_labels = na_data.index.tolist() + ['Other']\n",
    "na_sizes = na_data.tolist() + [na_other]\n",
    "axes[0].pie(na_sizes, labels=na_labels, autopct='%1.1f%%', startangle=80)\n",
    "axes[0].set_title('Популярные платформы в Северной Америке')\n",
    "\n",
    "eu_labels = eu_data.index.tolist() + ['Other']\n",
    "eu_sizes = eu_data.tolist() + [eu_other]\n",
    "axes[1].pie(eu_sizes, labels=eu_labels, autopct='%1.1f%%', startangle=80)\n",
    "axes[1].set_title('Популярные платформы в Европе')\n",
    "\n",
    "jp_labels = jp_data.index.tolist() + ['Other']\n",
    "jp_sizes = jp_data.tolist() + [jp_other]\n",
    "axes[2].pie(jp_sizes, labels=jp_labels, autopct='%1.1f%%', startangle=80)\n",
    "axes[2].set_title('Популярные платформы в Японии')\n",
    "\n",
    "fig.suptitle('Топ-5 популярных платформ в регионах', fontsize=16, y=0.95)\n",
    "plt.show()"
   ]
  },
  {
   "cell_type": "markdown",
   "metadata": {},
   "source": [
    "- В регионе NA (Северная Америка) самыми популярными платформами являются X360, PS2, Wii, PS3 и DS. \n",
    "- В регионе EU (Европа) наиболее популярными платформами являются PS2, PS3, X360, Wii и PS.\n",
    "- В регионе JP (Япония) наибольшей популярностью пользуются платформы DS, PS, PS2, 3DS,PS3. \n",
    "\n",
    "В целом, можно заметить, что предпочтения в платформах различаются в разных регионах. Например, платформы X360 и Wii более популярны в Северной Америке, в то время как в Европе и Японии наиболее популярны платформы PS2, PS3 и DS. Эти различия могут быть связаны с предпочтениями и культурными особенностями игрового рынка в каждом регионе."
   ]
  },
  {
   "cell_type": "markdown",
   "metadata": {},
   "source": [
    "### Определите для пользователя каждого региона (NA, EU, JP): Самые популярные жанры (топ-5). Поясните разницу."
   ]
  },
  {
   "cell_type": "code",
   "execution_count": 72,
   "metadata": {},
   "outputs": [
    {
     "data": {
      "image/png": "[encoded data removed]",
      "text/plain": [
       "<Figure size 1080x360 with 3 Axes>"
      ]
     },
     "metadata": {},
     "output_type": "display_data"
    }
   ],
   "source": [
    "na_data = actual_period.groupby('genre')['na_sales'].sum().nlargest(5)\n",
    "eu_data = actual_period.groupby('genre')['eu_sales'].sum().nlargest(5)\n",
    "jp_data = actual_period.groupby('genre')['jp_sales'].sum().nlargest(5)\n",
    "\n",
    "na_other = actual_period['na_sales'].sum() - na_data.sum()\n",
    "eu_other = actual_period['eu_sales'].sum() - eu_data.sum()\n",
    "jp_other = actual_period['jp_sales'].sum() - jp_data.sum()\n",
    "\n",
    "fig, axes = plt.subplots(1, 3, figsize=(15, 5))\n",
    "\n",
    "na_labels = na_data.index.tolist() + ['Other']\n",
    "na_sizes = na_data.tolist() + [na_other]\n",
    "axes[0].pie(na_sizes, labels=na_labels, autopct='%1.1f%%', startangle=90)\n",
    "axes[0].set_title('NA')\n",
    "\n",
    "eu_labels = eu_data.index.tolist() + ['Other']\n",
    "eu_sizes = eu_data.tolist() + [eu_other]\n",
    "axes[1].pie(eu_sizes, labels=eu_labels, autopct='%1.1f%%', startangle=90)\n",
    "axes[1].set_title('EU')\n",
    "\n",
    "jp_labels = jp_data.index.tolist() + ['Other']\n",
    "jp_sizes = jp_data.tolist() + [jp_other]\n",
    "axes[2].pie(jp_sizes, labels=jp_labels, autopct='%1.1f%%', startangle=90)\n",
    "axes[2].set_title('JP')\n",
    "\n",
    "fig.suptitle('Топ-5 жанров в регионах', fontsize=16)\n",
    "plt.show()"
   ]
  },
  {
   "cell_type": "markdown",
   "metadata": {},
   "source": [
    "В регионе NA (Северная Америка) самыми популярными жанрами являются Action, Sports, Shooter,Misc,Racing. Это указывает на то, что игроки в Северной Америке предпочитают игры с динамичным геймплеем, спортивные симуляторы, шутеры, гонки и игры из разных жанров (Misc).\n",
    "\n",
    "В регионе EU (Европа) самыми популярными жанрами также являются Action, Sports, Shooter, Racing и Misc. Это указывает на схожие предпочтения с регионом NA, где игроки в Европе также предпочитают динамичные игры, спортивные симуляторы, шутеры, гонки и игры из разных жанров.\n",
    "\n",
    "В регионе JP (Япония) самыми популярными жанрами являются Role-Playing, Action, Sports, Platform и Misc. Здесь мы видим некоторые различия в предпочтениях, где японские игроки больше склонны к играм ролевого жанра (Role-Playing), а также предпочитают игры с динамичным геймплеем (Action), спортивные игры (Sports), платформеры (Platform) и игры из разных жанров (Misc).\n",
    "\n",
    "Таким образом, различия в популярных жанрах в каждом регионе отражают предпочтения игроков и культурные особенности каждого региона."
   ]
  },
  {
   "cell_type": "markdown",
   "metadata": {},
   "source": [
    "### Влияет ли рейтинг ESRB на продажи в отдельном регионе?"
   ]
  },
  {
   "cell_type": "code",
   "execution_count": 81,
   "metadata": {},
   "outputs": [
    {
     "data": {
      "image/png": "[encoded data removed]",
      "text/plain": [
       "<Figure size 576x432 with 1 Axes>"
      ]
     },
     "metadata": {
      "needs_background": "light"
     },
     "output_type": "display_data"
    }
   ],
   "source": [
    "esrb_sales = actual_period.groupby('rating')['na_sales'].sum()\n",
    "\n",
    "missing_sales = actual_period.loc[actual_period['rating'] == 'Unknown', 'na_sales'].sum()\n",
    "esrb_sales.loc['Unknown'] = missing_sales\n",
    "\n",
    "plt.figure(figsize=(8, 6))\n",
    "plt.bar(esrb_sales.index.astype(str), esrb_sales)\n",
    "plt.xlabel('Рейтинг ESRB')\n",
    "plt.ylabel('Продажи (млн. проданных копий)')\n",
    "plt.title('Распределение продаж по рейтингу ESRB (NA)')\n",
    "plt.xticks(rotation=90)\n",
    "\n",
    "plt.text('Unknown', missing_sales, 'Missing', ha='center')\n",
    "plt.show()"
   ]
  },
  {
   "cell_type": "code",
   "execution_count": 83,
   "metadata": {},
   "outputs": [
    {
     "data": {
      "image/png": "[encoded data removed]",
      "text/plain": [
       "<Figure size 576x432 with 1 Axes>"
      ]
     },
     "metadata": {
      "needs_background": "light"
     },
     "output_type": "display_data"
    }
   ],
   "source": [
    "esrb_sales = actual_period.groupby('rating')['eu_sales'].sum()\n",
    "\n",
    "missing_sales = actual_period.loc[actual_period['rating'] == 'Unknown', 'na_sales'].sum()\n",
    "esrb_sales.loc['Unknown'] = missing_sales\n",
    "\n",
    "plt.figure(figsize=(8, 6))\n",
    "plt.bar(esrb_sales.index.astype(str), esrb_sales)\n",
    "plt.xlabel('Рейтинг ESRB')\n",
    "plt.ylabel('Продажи (млн. проданных копий)')\n",
    "plt.title('Распределение продаж по рейтингу ESRB (NA)')\n",
    "plt.xticks(rotation=90)\n",
    "\n",
    "plt.text('Unknown', missing_sales, 'Missing', ha='center')\n",
    "plt.show()"
   ]
  },
  {
   "cell_type": "code",
   "execution_count": 84,
   "metadata": {},
   "outputs": [
    {
     "data": {
      "image/png": "[encoded data removed]",
      "text/plain": [
       "<Figure size 576x432 with 1 Axes>"
      ]
     },
     "metadata": {
      "needs_background": "light"
     },
     "output_type": "display_data"
    }
   ],
   "source": [
    "esrb_sales = actual_period.groupby('rating')['jp_sales'].sum()\n",
    "\n",
    "missing_sales = actual_period.loc[actual_period['rating'] == 'Unknown', 'na_sales'].sum()\n",
    "esrb_sales.loc['Unknown'] = missing_sales\n",
    "\n",
    "plt.figure(figsize=(8, 6))\n",
    "plt.bar(esrb_sales.index.astype(str), esrb_sales)\n",
    "plt.xlabel('Рейтинг ESRB')\n",
    "plt.ylabel('Продажи (млн. проданных копий)')\n",
    "plt.title('Распределение продаж по рейтингу ESRB (NA)')\n",
    "plt.xticks(rotation=90)\n",
    "\n",
    "plt.text('Unknown', missing_sales, 'Missing', ha='center')\n",
    "plt.show()"
   ]
  },
  {
   "cell_type": "markdown",
   "metadata": {},
   "source": [
    "    \n",
    "Самыми продаваемыми играми являются игры с рейтингом E (Everyone).За играми с рейтингом T (Teen) также наблюдается значительный спрос.Игры с рейтингом M (Mature) имеют более низкие продажи.Таким образом, можно сделать вывод, что рейтинг ESRB влияет на предпочтения игроков и продажи игр в отдельном регионе. Различные регионы могут иметь разные предпочтения и спрос на игры с определенными рейтингами.\n"
   ]
  },
  {
   "cell_type": "markdown",
   "metadata": {},
   "source": [
    "## Проверьте гипотезы"
   ]
  },
  {
   "cell_type": "markdown",
   "metadata": {},
   "source": [
    "### Средние пользовательские рейтинги платформ Xbox One и PC одинаковые"
   ]
  },
  {
   "cell_type": "markdown",
   "metadata": {},
   "source": [
    "**Нулевая гипотеза (H0):** Средние пользовательские рейтинги платформ Xbox One и PC одинаковые.\n",
    "\n",
    "**Альтернативная гипотеза (H1):** Средние пользовательские рейтинги платформ Xbox One и PC различаются.\n",
    "\n",
    "Выбираем уровень значимости 0.05.\n",
    "\n",
    "Выполним статистический тест t-тест Стьюдента для независимых выборок. В данном случае, сравниваются две независимые выборки (рейтинги для Xbox One и PC)."
   ]
  },
  {
   "cell_type": "code",
   "execution_count": 87,
   "metadata": {},
   "outputs": [
    {
     "name": "stdout",
     "output_type": "stream",
     "text": [
      "p-value: 0.5489537965134912\n",
      "Не отвергаем нулевую гипотезу. Средние пользовательские рейтинги платформ Xbox One и PC одинаковые.\n"
     ]
    }
   ],
   "source": [
    "xbox_one_ratings = actual_period[(actual_period['platform'] == 'XOne') & (actual_period['user_score'] != -1)]['user_score']\n",
    "pc_ratings = actual_period[(actual_period['platform'] == 'PC') & (actual_period['user_score'] != -1)]['user_score']\n",
    "\n",
    "results = stats.ttest_ind(xbox_one_ratings, pc_ratings, equal_var=False)\n",
    "\n",
    "p_value = results.pvalue\n",
    "print(\"p-value:\", p_value)\n",
    "\n",
    "alpha = 0.05\n",
    "if p_value < alpha:\n",
    "    print(\"Отвергаем нулевую гипотезу. Средние пользовательские рейтинги платформ Xbox One и PC различаются.\")\n",
    "else:\n",
    "    print(\"Не отвергаем нулевую гипотезу. Средние пользовательские рейтинги платформ Xbox One и PC одинаковые.\")"
   ]
  },
  {
   "cell_type": "markdown",
   "metadata": {},
   "source": [
    "### Средние пользовательские рейтинги жанров Action (англ. «действие», экшен-игры) и Sports (англ. «спортивные соревнования») разные.\n"
   ]
  },
  {
   "cell_type": "markdown",
   "metadata": {},
   "source": [
    "**Нулевая гипотеза (H0):** Средние пользовательские рейтинги жанров Action и Sports одинаковы.\n",
    "\n",
    "**Альтернативная гипотеза (H1):** Средние пользовательские рейтинги жанров Action и Sports различаются.\n",
    "\n",
    "Выбираем уровень значимости 0.05\n",
    "\n",
    "Для проверки гипотез использован критерий t-теста (Student's t-test) для двух независимых выборок. Мы выбрали данный критерий, потому что у нас есть две независимые выборки (рейтинги для жанров Action и Sports) и мы хотим сравнить средние значения между ними. Параметр equal_var=False указывает на то, что мы предполагаем, что дисперсии выборок различны.\n",
    "\n",
    "Для принятия решения о принятии или отвержении нулевой гипотезы, мы сравниваем полученное p-value со значением alpha. Если p-value меньше alpha, то мы отвергаем нулевую гипотезу и делаем вывод о наличии статистически значимого различия между средними значениями пользовательских рейтингов для жанров Action и Sports."
   ]
  },
  {
   "cell_type": "code",
   "execution_count": 89,
   "metadata": {},
   "outputs": [
    {
     "name": "stdout",
     "output_type": "stream",
     "text": [
      "Средний пользовательский рейтинг для жанра Action: 6.825047801147227\n",
      "Средний пользовательский рейтинг для жанра Sports: 5.455670103092784\n",
      "\n",
      "p-value: 5.989458066467418e-20\n",
      "Отвергаем нулевую гипотезу. Средние пользовательские рейтинги жанров Action и Sports разные.\n"
     ]
    }
   ],
   "source": [
    "action_ratings = actual_period[(actual_period['genre'] == 'Action') & (actual_period['user_score'] != -1)]['user_score']\n",
    "sports_ratings = actual_period[(actual_period['genre'] == 'Sports') & (actual_period['user_score'] != -1)]['user_score']\n",
    "\n",
    "alpha = 0.05\n",
    "\n",
    "t_statistic, p_value = stats.ttest_ind(action_ratings, sports_ratings, equal_var=False)\n",
    "\n",
    "print(\"Средний пользовательский рейтинг для жанра Action:\", action_ratings.mean())\n",
    "print(\"Средний пользовательский рейтинг для жанра Sports:\", sports_ratings.mean())\n",
    "print()\n",
    "\n",
    "print(\"p-value:\", p_value)\n",
    "if p_value < alpha:\n",
    "    print(\"Отвергаем нулевую гипотезу. Средние пользовательские рейтинги жанров Action и Sports разные.\")\n",
    "else:\n",
    "    print(\"Не отвергаем нулевую гипотезу. Средние пользовательские рейтинги жанров Action и Sports одинаковые.\")"
   ]
  },
  {
   "cell_type": "markdown",
   "metadata": {},
   "source": [
    "Используя заданный пороговый уровень значимости alpha = 0.05, и получив p-value = 0.5697, мы не можем отвергнуть нулевую гипотезу. Это означает, что нет статистически значимых доказательств, чтобы считать, что средние пользовательские рейтинги жанров Action и Sports различаются. Мы не можем сделать вывод о том, что существует значимая разница в рейтингах между этими жанрами на основе проведенного теста."
   ]
  },
  {
   "cell_type": "code",
   "execution_count": 90,
   "metadata": {},
   "outputs": [
    {
     "name": "stdout",
     "output_type": "stream",
     "text": [
      "Средний пользовательский рейтинг для жанра Action: 6.825047801147227\n",
      "Средний пользовательский рейтинг для жанра Sports: 5.455670103092784\n",
      "\n",
      "Средний пользовательский рейтинг для платформы Xbox One: 6.521428571428572\n",
      "Средний пользовательский рейтинг для платформы PC: 6.4286407766990274\n",
      "\n"
     ]
    }
   ],
   "source": [
    "print(\"Средний пользовательский рейтинг для жанра Action:\", action_ratings.mean())\n",
    "print(\"Средний пользовательский рейтинг для жанра Sports:\", sports_ratings.mean())\n",
    "print()\n",
    "print(\"Средний пользовательский рейтинг для платформы Xbox One:\", xbox_one_ratings.mean())\n",
    "print(\"Средний пользовательский рейтинг для платформы PC:\", pc_ratings.mean())\n",
    "print()"
   ]
  },
  {
   "cell_type": "markdown",
   "metadata": {},
   "source": [
    "Средний пользовательский рейтинг для жанра Action составляет примерно 6.82, в то время как для жанра Sports - около 5.45. Это указывает на  различие в предпочтениях пользователей между этими жанрами. Жанр Action имеет немного более высокий рейтинг.\n",
    "\n",
    "Средний пользовательский рейтинг для платформы Xbox One составляет около 6.52, в то время как для платформы PC - около 6.42. Это указывает на различия в оценке пользователей для этих двух платформ. Пользователи PC склонны давать немного более высокие рейтинги по сравнению с пользователями Xbox One.\n",
    "\n",
    "Таким образом, можно сказать, что существуют некоторые различия в средних пользовательских рейтингах между жанрами Action и Sports, а также между платформами Xbox One и PC."
   ]
  },
  {
   "cell_type": "markdown",
   "metadata": {},
   "source": [
    "### **<p style=\"text-align: center;\">Итоговый вывод.</p>**\n",
    "    \n",
    "***Мы можем использовать результаты анализа, чтобы определить, на какие игры следует потратить рекламный бюджет. Вот предложения, которые могут помочь в принятии решения:***\n",
    "\n",
    "- **Платформы.** Исходя из анализа, рекомендуется сосредоточиться на платформах Xbox One и PS4. Эти платформы являются одними из самых популярных в целевых регионах (Северная Америка, Европа). Они имеют большую базу пользователей и потенциал для успешных продаж игр.\n",
    "\n",
    "- **Жанры.** Популярные жанры, на которые стоит обратить внимание, включают Action, Sports, Shooter и Racing. Эти жанры имеют высокий спрос в Северной Америке и Европе. Игры в этих жанрах обычно имеют динамичный геймплей и широкую аудиторию.\n",
    "\n",
    "- **Рейтинг ESRB.** Рекомендуется обращать внимание на игры с рейтингом E (Everyone) и T (Teen). Эти рейтинги наиболее популярны среди игроков и имеют больший потенциал для успешных продаж.\n",
    "\n",
    "- **Регионы.** Северная Америка и Европа являются наиболее перспективными регионами для рекламы игр. Обратите особое внимание на эти регионы при планировании рекламной кампании.\n",
    "\n",
    "- **Отзывы.** Отзывы пользователей могут дать дополнительную информацию о качестве игр. Рекомендуется учитывать положительные отзывы и высокие пользовательские рейтинги при выборе игр для рекламы. Хорошие отзывы могут помочь привлечь больше пользователей и увеличить продажи.\n",
    "\n",
    "Итак, при планировании рекламного бюджета рекомендуется сфокусироваться на играх для платформ Xbox One и PS4 в жанрах Action, Sports, Shooter и Racing с рейтингами E и T. Северная Америка и Европа будут приоритетными регионами для рекламы. Учитывайте также положительные пользовательские отзывы для выбора успешных игр.    \n"
   ]
  }
 ],
 "metadata": {
  "ExecuteTimeLog": [
   {
    "duration": 555,
    "start_time": "2023-06-03T14:37:57.628Z"
   },
   {
    "duration": 310,
    "start_time": "2023-06-03T14:38:25.340Z"
   },
   {
    "duration": 25,
    "start_time": "2023-06-03T14:44:53.793Z"
   },
   {
    "duration": 5,
    "start_time": "2023-06-03T14:54:11.153Z"
   },
   {
    "duration": 99,
    "start_time": "2023-06-03T15:08:36.692Z"
   },
   {
    "duration": 133,
    "start_time": "2023-06-03T15:08:48.236Z"
   },
   {
    "duration": 92,
    "start_time": "2023-06-03T15:10:57.135Z"
   },
   {
    "duration": 128,
    "start_time": "2023-06-03T15:11:17.902Z"
   },
   {
    "duration": 128,
    "start_time": "2023-06-03T15:12:33.741Z"
   },
   {
    "duration": 49,
    "start_time": "2023-06-03T15:13:44.028Z"
   },
   {
    "duration": 74,
    "start_time": "2023-06-03T15:14:22.801Z"
   },
   {
    "duration": 56,
    "start_time": "2023-06-03T15:14:33.712Z"
   },
   {
    "duration": 68,
    "start_time": "2023-06-03T15:16:10.491Z"
   },
   {
    "duration": 126,
    "start_time": "2023-06-03T15:16:26.440Z"
   },
   {
    "duration": 17,
    "start_time": "2023-06-03T15:16:34.029Z"
   },
   {
    "duration": 10,
    "start_time": "2023-06-03T15:16:40.847Z"
   },
   {
    "duration": 610,
    "start_time": "2023-06-03T15:16:57.541Z"
   },
   {
    "duration": 180,
    "start_time": "2023-06-03T15:16:58.154Z"
   },
   {
    "duration": 27,
    "start_time": "2023-06-03T15:16:58.343Z"
   },
   {
    "duration": 25,
    "start_time": "2023-06-03T15:16:58.372Z"
   },
   {
    "duration": 2552,
    "start_time": "2023-06-03T15:16:58.408Z"
   },
   {
    "duration": 2326,
    "start_time": "2023-06-03T15:17:31.754Z"
   },
   {
    "duration": 40,
    "start_time": "2023-06-03T15:17:51.416Z"
   },
   {
    "duration": 58,
    "start_time": "2023-06-03T15:18:15.207Z"
   },
   {
    "duration": 17,
    "start_time": "2023-06-03T15:28:18.504Z"
   },
   {
    "duration": 728,
    "start_time": "2023-06-03T15:28:33.998Z"
   },
   {
    "duration": 609,
    "start_time": "2023-06-03T15:30:08.099Z"
   },
   {
    "duration": 24,
    "start_time": "2023-06-03T15:32:03.309Z"
   },
   {
    "duration": 601,
    "start_time": "2023-06-03T15:33:08.003Z"
   },
   {
    "duration": 20,
    "start_time": "2023-06-03T15:33:30.830Z"
   },
   {
    "duration": 11,
    "start_time": "2023-06-03T15:36:12.622Z"
   },
   {
    "duration": 496,
    "start_time": "2023-06-03T15:37:03.148Z"
   },
   {
    "duration": 96,
    "start_time": "2023-06-03T15:37:03.647Z"
   },
   {
    "duration": 34,
    "start_time": "2023-06-03T15:37:03.745Z"
   },
   {
    "duration": 12,
    "start_time": "2023-06-03T15:37:03.785Z"
   },
   {
    "duration": 44,
    "start_time": "2023-06-03T15:37:03.802Z"
   },
   {
    "duration": 9,
    "start_time": "2023-06-03T15:37:03.848Z"
   },
   {
    "duration": 16,
    "start_time": "2023-06-03T15:39:17.189Z"
   },
   {
    "duration": 119,
    "start_time": "2023-06-03T15:40:02.394Z"
   },
   {
    "duration": 19,
    "start_time": "2023-06-03T15:41:13.596Z"
   },
   {
    "duration": 38,
    "start_time": "2023-06-03T15:41:26.550Z"
   },
   {
    "duration": 12,
    "start_time": "2023-06-03T15:41:37.232Z"
   },
   {
    "duration": 25,
    "start_time": "2023-06-03T15:41:42.278Z"
   },
   {
    "duration": 18,
    "start_time": "2023-06-03T16:25:26.627Z"
   },
   {
    "duration": 73,
    "start_time": "2023-06-03T17:11:28.072Z"
   },
   {
    "duration": 15,
    "start_time": "2023-06-03T17:11:42.233Z"
   },
   {
    "duration": 492,
    "start_time": "2023-06-03T17:12:05.405Z"
   },
   {
    "duration": 101,
    "start_time": "2023-06-03T17:12:05.903Z"
   },
   {
    "duration": 23,
    "start_time": "2023-06-03T17:12:06.009Z"
   },
   {
    "duration": 34,
    "start_time": "2023-06-03T17:12:06.034Z"
   },
   {
    "duration": 19,
    "start_time": "2023-06-03T17:12:06.075Z"
   },
   {
    "duration": 36,
    "start_time": "2023-06-03T17:12:06.096Z"
   },
   {
    "duration": 15,
    "start_time": "2023-06-03T17:12:06.134Z"
   },
   {
    "duration": 61,
    "start_time": "2023-06-03T17:12:06.151Z"
   },
   {
    "duration": 12,
    "start_time": "2023-06-03T17:12:06.215Z"
   },
   {
    "duration": 11,
    "start_time": "2023-06-03T17:12:29.455Z"
   },
   {
    "duration": 15,
    "start_time": "2023-06-03T17:12:32.858Z"
   },
   {
    "duration": 25,
    "start_time": "2023-06-03T17:13:52.063Z"
   },
   {
    "duration": 16,
    "start_time": "2023-06-03T17:13:54.600Z"
   },
   {
    "duration": 11,
    "start_time": "2023-06-03T17:19:49.296Z"
   },
   {
    "duration": 7,
    "start_time": "2023-06-03T17:21:09.527Z"
   },
   {
    "duration": 15,
    "start_time": "2023-06-03T17:21:19.635Z"
   },
   {
    "duration": 117,
    "start_time": "2023-06-03T17:22:16.966Z"
   },
   {
    "duration": 22,
    "start_time": "2023-06-03T17:22:23.532Z"
   },
   {
    "duration": 11,
    "start_time": "2023-06-03T17:29:40.026Z"
   },
   {
    "duration": 21,
    "start_time": "2023-06-03T17:40:40.650Z"
   },
   {
    "duration": 44,
    "start_time": "2023-06-03T19:58:49.068Z"
   },
   {
    "duration": 357,
    "start_time": "2023-06-03T19:59:01.109Z"
   },
   {
    "duration": 103,
    "start_time": "2023-06-03T19:59:01.468Z"
   },
   {
    "duration": 13,
    "start_time": "2023-06-03T19:59:01.572Z"
   },
   {
    "duration": 53,
    "start_time": "2023-06-03T19:59:01.587Z"
   },
   {
    "duration": 27,
    "start_time": "2023-06-03T19:59:01.641Z"
   },
   {
    "duration": 34,
    "start_time": "2023-06-03T19:59:01.669Z"
   },
   {
    "duration": 26,
    "start_time": "2023-06-03T19:59:01.705Z"
   },
   {
    "duration": 15,
    "start_time": "2023-06-03T19:59:01.732Z"
   },
   {
    "duration": 32,
    "start_time": "2023-06-03T19:59:01.748Z"
   },
   {
    "duration": 47,
    "start_time": "2023-06-03T19:59:01.781Z"
   },
   {
    "duration": 93,
    "start_time": "2023-06-03T19:59:01.829Z"
   },
   {
    "duration": 0,
    "start_time": "2023-06-03T19:59:01.924Z"
   },
   {
    "duration": 0,
    "start_time": "2023-06-03T19:59:01.925Z"
   },
   {
    "duration": 5,
    "start_time": "2023-06-03T19:59:13.964Z"
   },
   {
    "duration": 22,
    "start_time": "2023-06-03T19:59:33.585Z"
   },
   {
    "duration": 7,
    "start_time": "2023-06-03T19:59:51.912Z"
   },
   {
    "duration": 9,
    "start_time": "2023-06-03T20:00:11.780Z"
   },
   {
    "duration": 12,
    "start_time": "2023-06-03T20:01:35.580Z"
   },
   {
    "duration": 9,
    "start_time": "2023-06-03T20:02:37.060Z"
   },
   {
    "duration": 8,
    "start_time": "2023-06-03T20:03:46.682Z"
   },
   {
    "duration": 4,
    "start_time": "2023-06-03T20:04:23.288Z"
   },
   {
    "duration": 11,
    "start_time": "2023-06-03T20:04:38.230Z"
   },
   {
    "duration": 7,
    "start_time": "2023-06-03T20:26:04.926Z"
   },
   {
    "duration": 4,
    "start_time": "2023-06-03T20:26:15.368Z"
   },
   {
    "duration": 10,
    "start_time": "2023-06-03T20:26:46.941Z"
   },
   {
    "duration": 5,
    "start_time": "2023-06-03T20:26:54.702Z"
   },
   {
    "duration": 415,
    "start_time": "2023-06-03T20:42:54.872Z"
   },
   {
    "duration": 65,
    "start_time": "2023-06-03T20:42:55.288Z"
   },
   {
    "duration": 12,
    "start_time": "2023-06-03T20:42:55.354Z"
   },
   {
    "duration": 3,
    "start_time": "2023-06-03T20:42:55.369Z"
   },
   {
    "duration": 11,
    "start_time": "2023-06-03T20:42:55.374Z"
   },
   {
    "duration": 10,
    "start_time": "2023-06-03T20:42:55.387Z"
   },
   {
    "duration": 7,
    "start_time": "2023-06-03T20:42:55.398Z"
   },
   {
    "duration": 7,
    "start_time": "2023-06-03T20:42:55.406Z"
   },
   {
    "duration": 12,
    "start_time": "2023-06-03T20:42:55.414Z"
   },
   {
    "duration": 20,
    "start_time": "2023-06-03T20:42:55.428Z"
   },
   {
    "duration": 12,
    "start_time": "2023-06-03T20:42:55.449Z"
   },
   {
    "duration": 26,
    "start_time": "2023-06-03T20:42:55.462Z"
   },
   {
    "duration": 3,
    "start_time": "2023-06-03T20:42:55.490Z"
   },
   {
    "duration": 11,
    "start_time": "2023-06-03T20:42:55.494Z"
   },
   {
    "duration": 4,
    "start_time": "2023-06-03T20:42:55.507Z"
   },
   {
    "duration": 40,
    "start_time": "2023-06-03T20:42:55.513Z"
   },
   {
    "duration": 4,
    "start_time": "2023-06-03T20:42:55.554Z"
   },
   {
    "duration": 11,
    "start_time": "2023-06-03T20:44:23.644Z"
   },
   {
    "duration": 3,
    "start_time": "2023-06-03T20:46:22.205Z"
   },
   {
    "duration": 19,
    "start_time": "2023-06-03T20:47:33.355Z"
   },
   {
    "duration": 8,
    "start_time": "2023-06-03T20:48:24.409Z"
   },
   {
    "duration": 7,
    "start_time": "2023-06-03T20:48:45.010Z"
   },
   {
    "duration": 4,
    "start_time": "2023-06-03T20:49:28.039Z"
   },
   {
    "duration": 12,
    "start_time": "2023-06-03T20:49:35.781Z"
   },
   {
    "duration": 70,
    "start_time": "2023-06-03T21:01:34.427Z"
   },
   {
    "duration": 30,
    "start_time": "2023-06-03T21:03:22.035Z"
   },
   {
    "duration": 30,
    "start_time": "2023-06-03T21:04:45.083Z"
   },
   {
    "duration": 29,
    "start_time": "2023-06-03T21:13:24.993Z"
   },
   {
    "duration": 406,
    "start_time": "2023-06-03T21:16:53.854Z"
   },
   {
    "duration": 73,
    "start_time": "2023-06-03T21:16:54.261Z"
   },
   {
    "duration": 14,
    "start_time": "2023-06-03T21:16:54.335Z"
   },
   {
    "duration": 14,
    "start_time": "2023-06-03T21:16:54.351Z"
   },
   {
    "duration": 17,
    "start_time": "2023-06-03T21:16:54.368Z"
   },
   {
    "duration": 22,
    "start_time": "2023-06-03T21:16:54.386Z"
   },
   {
    "duration": 11,
    "start_time": "2023-06-03T21:16:54.410Z"
   },
   {
    "duration": 6,
    "start_time": "2023-06-03T21:16:54.423Z"
   },
   {
    "duration": 19,
    "start_time": "2023-06-03T21:16:54.431Z"
   },
   {
    "duration": 26,
    "start_time": "2023-06-03T21:16:54.452Z"
   },
   {
    "duration": 13,
    "start_time": "2023-06-03T21:16:54.479Z"
   },
   {
    "duration": 11,
    "start_time": "2023-06-03T21:16:54.493Z"
   },
   {
    "duration": 29,
    "start_time": "2023-06-03T21:16:54.506Z"
   },
   {
    "duration": 11,
    "start_time": "2023-06-03T21:16:54.538Z"
   },
   {
    "duration": 8,
    "start_time": "2023-06-03T21:16:54.551Z"
   },
   {
    "duration": 26,
    "start_time": "2023-06-03T21:16:54.560Z"
   },
   {
    "duration": 4,
    "start_time": "2023-06-03T21:16:54.588Z"
   },
   {
    "duration": 42,
    "start_time": "2023-06-03T21:16:54.593Z"
   },
   {
    "duration": 7,
    "start_time": "2023-06-03T21:16:54.637Z"
   },
   {
    "duration": 10,
    "start_time": "2023-06-03T21:16:54.646Z"
   },
   {
    "duration": 17,
    "start_time": "2023-06-03T21:16:54.657Z"
   },
   {
    "duration": 31,
    "start_time": "2023-06-03T21:16:54.676Z"
   },
   {
    "duration": 6,
    "start_time": "2023-06-03T21:23:12.888Z"
   },
   {
    "duration": 51,
    "start_time": "2023-06-03T21:47:31.514Z"
   },
   {
    "duration": 19,
    "start_time": "2023-06-03T21:50:21.782Z"
   },
   {
    "duration": 7,
    "start_time": "2023-06-03T21:50:54.121Z"
   },
   {
    "duration": 26,
    "start_time": "2023-06-03T21:52:50.459Z"
   },
   {
    "duration": 769,
    "start_time": "2023-06-03T21:57:02.454Z"
   },
   {
    "duration": 3,
    "start_time": "2023-06-03T21:57:47.159Z"
   },
   {
    "duration": 355,
    "start_time": "2023-06-03T21:57:55.448Z"
   },
   {
    "duration": 359,
    "start_time": "2023-06-03T21:58:05.946Z"
   },
   {
    "duration": 357,
    "start_time": "2023-06-03T21:59:18.466Z"
   },
   {
    "duration": 318,
    "start_time": "2023-06-03T21:59:41.471Z"
   },
   {
    "duration": 1148,
    "start_time": "2023-06-03T22:39:11.305Z"
   },
   {
    "duration": 15,
    "start_time": "2023-06-03T22:39:43.353Z"
   },
   {
    "duration": 4,
    "start_time": "2023-06-03T22:40:07.083Z"
   },
   {
    "duration": 4,
    "start_time": "2023-06-03T22:40:48.469Z"
   },
   {
    "duration": 931,
    "start_time": "2023-06-03T22:42:35.707Z"
   },
   {
    "duration": 3,
    "start_time": "2023-06-03T22:44:21.276Z"
   },
   {
    "duration": 4,
    "start_time": "2023-06-03T22:45:52.596Z"
   },
   {
    "duration": 13,
    "start_time": "2023-06-03T22:49:11.903Z"
   },
   {
    "duration": 14,
    "start_time": "2023-06-03T22:49:51.934Z"
   },
   {
    "duration": 13,
    "start_time": "2023-06-03T22:51:27.178Z"
   },
   {
    "duration": 787,
    "start_time": "2023-06-04T05:45:13.309Z"
   },
   {
    "duration": 186,
    "start_time": "2023-06-04T05:45:14.101Z"
   },
   {
    "duration": 15,
    "start_time": "2023-06-04T05:45:14.289Z"
   },
   {
    "duration": 5,
    "start_time": "2023-06-04T05:45:14.307Z"
   },
   {
    "duration": 26,
    "start_time": "2023-06-04T05:45:14.315Z"
   },
   {
    "duration": 39,
    "start_time": "2023-06-04T05:45:14.344Z"
   },
   {
    "duration": 12,
    "start_time": "2023-06-04T05:45:14.385Z"
   },
   {
    "duration": 5,
    "start_time": "2023-06-04T05:45:14.399Z"
   },
   {
    "duration": 18,
    "start_time": "2023-06-04T05:45:14.407Z"
   },
   {
    "duration": 22,
    "start_time": "2023-06-04T05:45:14.426Z"
   },
   {
    "duration": 21,
    "start_time": "2023-06-04T05:45:14.478Z"
   },
   {
    "duration": 10,
    "start_time": "2023-06-04T05:45:14.501Z"
   },
   {
    "duration": 4,
    "start_time": "2023-06-04T05:45:14.513Z"
   },
   {
    "duration": 28,
    "start_time": "2023-06-04T05:45:14.519Z"
   },
   {
    "duration": 44,
    "start_time": "2023-06-04T05:45:14.549Z"
   },
   {
    "duration": 59,
    "start_time": "2023-06-04T05:45:14.595Z"
   },
   {
    "duration": 4,
    "start_time": "2023-06-04T05:45:14.656Z"
   },
   {
    "duration": 31,
    "start_time": "2023-06-04T05:45:14.662Z"
   },
   {
    "duration": 11,
    "start_time": "2023-06-04T05:45:14.696Z"
   },
   {
    "duration": 5,
    "start_time": "2023-06-04T05:45:14.710Z"
   },
   {
    "duration": 20,
    "start_time": "2023-06-04T05:45:14.717Z"
   },
   {
    "duration": 78,
    "start_time": "2023-06-04T05:45:14.739Z"
   },
   {
    "duration": 8,
    "start_time": "2023-06-04T05:45:14.820Z"
   },
   {
    "duration": 51,
    "start_time": "2023-06-04T05:45:14.830Z"
   },
   {
    "duration": 32,
    "start_time": "2023-06-04T05:45:14.883Z"
   },
   {
    "duration": 440,
    "start_time": "2023-06-04T05:45:14.917Z"
   },
   {
    "duration": 90,
    "start_time": "2023-06-04T05:45:15.359Z"
   },
   {
    "duration": 13,
    "start_time": "2023-06-04T05:48:24.635Z"
   },
   {
    "duration": 22,
    "start_time": "2023-06-04T05:48:44.416Z"
   },
   {
    "duration": 14,
    "start_time": "2023-06-04T05:51:04.287Z"
   },
   {
    "duration": 603,
    "start_time": "2023-06-04T05:51:34.001Z"
   },
   {
    "duration": 73,
    "start_time": "2023-06-04T05:51:34.607Z"
   },
   {
    "duration": 14,
    "start_time": "2023-06-04T05:51:34.681Z"
   },
   {
    "duration": 5,
    "start_time": "2023-06-04T05:51:34.697Z"
   },
   {
    "duration": 11,
    "start_time": "2023-06-04T05:51:34.704Z"
   },
   {
    "duration": 11,
    "start_time": "2023-06-04T05:51:34.717Z"
   },
   {
    "duration": 9,
    "start_time": "2023-06-04T05:51:34.730Z"
   },
   {
    "duration": 4,
    "start_time": "2023-06-04T05:51:34.740Z"
   },
   {
    "duration": 9,
    "start_time": "2023-06-04T05:51:34.779Z"
   },
   {
    "duration": 24,
    "start_time": "2023-06-04T05:51:34.789Z"
   },
   {
    "duration": 14,
    "start_time": "2023-06-04T05:51:34.815Z"
   },
   {
    "duration": 11,
    "start_time": "2023-06-04T05:51:34.830Z"
   },
   {
    "duration": 37,
    "start_time": "2023-06-04T05:51:34.843Z"
   },
   {
    "duration": 14,
    "start_time": "2023-06-04T05:51:34.884Z"
   },
   {
    "duration": 6,
    "start_time": "2023-06-04T05:51:34.900Z"
   },
   {
    "duration": 14,
    "start_time": "2023-06-04T05:51:34.907Z"
   },
   {
    "duration": 4,
    "start_time": "2023-06-04T05:51:34.923Z"
   },
   {
    "duration": 54,
    "start_time": "2023-06-04T05:51:34.929Z"
   },
   {
    "duration": 9,
    "start_time": "2023-06-04T05:51:34.984Z"
   },
   {
    "duration": 3,
    "start_time": "2023-06-04T05:51:34.995Z"
   },
   {
    "duration": 20,
    "start_time": "2023-06-04T05:51:35.000Z"
   },
   {
    "duration": 58,
    "start_time": "2023-06-04T05:51:35.021Z"
   },
   {
    "duration": 8,
    "start_time": "2023-06-04T05:51:35.081Z"
   },
   {
    "duration": 57,
    "start_time": "2023-06-04T05:51:35.091Z"
   },
   {
    "duration": 33,
    "start_time": "2023-06-04T05:51:35.150Z"
   },
   {
    "duration": 457,
    "start_time": "2023-06-04T05:51:35.185Z"
   },
   {
    "duration": 17,
    "start_time": "2023-06-04T05:51:35.644Z"
   },
   {
    "duration": 639,
    "start_time": "2023-06-04T05:55:07.944Z"
   },
   {
    "duration": 61,
    "start_time": "2023-06-04T05:55:08.585Z"
   },
   {
    "duration": 13,
    "start_time": "2023-06-04T05:55:08.648Z"
   },
   {
    "duration": 4,
    "start_time": "2023-06-04T05:55:08.663Z"
   },
   {
    "duration": 10,
    "start_time": "2023-06-04T05:55:08.668Z"
   },
   {
    "duration": 10,
    "start_time": "2023-06-04T05:55:08.680Z"
   },
   {
    "duration": 8,
    "start_time": "2023-06-04T05:55:08.691Z"
   },
   {
    "duration": 5,
    "start_time": "2023-06-04T05:55:08.700Z"
   },
   {
    "duration": 8,
    "start_time": "2023-06-04T05:55:08.706Z"
   },
   {
    "duration": 21,
    "start_time": "2023-06-04T05:55:08.716Z"
   },
   {
    "duration": 46,
    "start_time": "2023-06-04T05:55:08.739Z"
   },
   {
    "duration": 8,
    "start_time": "2023-06-04T05:55:08.786Z"
   },
   {
    "duration": 7,
    "start_time": "2023-06-04T05:55:08.796Z"
   },
   {
    "duration": 9,
    "start_time": "2023-06-04T05:55:08.804Z"
   },
   {
    "duration": 5,
    "start_time": "2023-06-04T05:55:08.814Z"
   },
   {
    "duration": 18,
    "start_time": "2023-06-04T05:55:08.820Z"
   },
   {
    "duration": 3,
    "start_time": "2023-06-04T05:55:08.840Z"
   },
   {
    "duration": 52,
    "start_time": "2023-06-04T05:55:08.844Z"
   },
   {
    "duration": 8,
    "start_time": "2023-06-04T05:55:08.898Z"
   },
   {
    "duration": 7,
    "start_time": "2023-06-04T05:55:08.908Z"
   },
   {
    "duration": 13,
    "start_time": "2023-06-04T05:55:08.916Z"
   },
   {
    "duration": 53,
    "start_time": "2023-06-04T05:55:08.931Z"
   },
   {
    "duration": 7,
    "start_time": "2023-06-04T05:55:08.986Z"
   },
   {
    "duration": 26,
    "start_time": "2023-06-04T05:55:08.995Z"
   },
   {
    "duration": 24,
    "start_time": "2023-06-04T05:55:09.022Z"
   },
   {
    "duration": 391,
    "start_time": "2023-06-04T05:55:09.047Z"
   },
   {
    "duration": 14,
    "start_time": "2023-06-04T05:55:09.440Z"
   },
   {
    "duration": 70,
    "start_time": "2023-06-04T05:58:29.880Z"
   },
   {
    "duration": 17,
    "start_time": "2023-06-04T06:02:39.759Z"
   },
   {
    "duration": 122,
    "start_time": "2023-06-04T06:03:21.747Z"
   },
   {
    "duration": 109,
    "start_time": "2023-06-04T06:04:58.219Z"
   },
   {
    "duration": 4,
    "start_time": "2023-06-04T06:05:21.339Z"
   },
   {
    "duration": 478,
    "start_time": "2023-06-04T06:05:55.519Z"
   },
   {
    "duration": 396,
    "start_time": "2023-06-04T06:06:13.442Z"
   },
   {
    "duration": 438,
    "start_time": "2023-06-04T06:06:23.291Z"
   },
   {
    "duration": 18,
    "start_time": "2023-06-04T06:08:08.522Z"
   },
   {
    "duration": 21,
    "start_time": "2023-06-04T06:20:14.550Z"
   },
   {
    "duration": 4,
    "start_time": "2023-06-04T06:27:11.927Z"
   },
   {
    "duration": 24,
    "start_time": "2023-06-04T06:31:16.915Z"
   },
   {
    "duration": 8,
    "start_time": "2023-06-04T06:32:29.009Z"
   },
   {
    "duration": 21,
    "start_time": "2023-06-04T06:34:30.915Z"
   },
   {
    "duration": 7,
    "start_time": "2023-06-04T06:34:42.582Z"
   },
   {
    "duration": 75,
    "start_time": "2023-06-04T06:40:53.773Z"
   },
   {
    "duration": 24,
    "start_time": "2023-06-04T06:41:28.962Z"
   },
   {
    "duration": 23,
    "start_time": "2023-06-04T06:43:22.423Z"
   },
   {
    "duration": 578,
    "start_time": "2023-06-04T06:44:08.816Z"
   },
   {
    "duration": 65,
    "start_time": "2023-06-04T06:44:09.396Z"
   },
   {
    "duration": 15,
    "start_time": "2023-06-04T06:44:09.462Z"
   },
   {
    "duration": 7,
    "start_time": "2023-06-04T06:44:09.479Z"
   },
   {
    "duration": 9,
    "start_time": "2023-06-04T06:44:09.488Z"
   },
   {
    "duration": 13,
    "start_time": "2023-06-04T06:44:09.498Z"
   },
   {
    "duration": 11,
    "start_time": "2023-06-04T06:44:09.513Z"
   },
   {
    "duration": 22,
    "start_time": "2023-06-04T06:44:09.526Z"
   },
   {
    "duration": 28,
    "start_time": "2023-06-04T06:44:09.551Z"
   },
   {
    "duration": 23,
    "start_time": "2023-06-04T06:44:09.580Z"
   },
   {
    "duration": 13,
    "start_time": "2023-06-04T06:44:09.605Z"
   },
   {
    "duration": 9,
    "start_time": "2023-06-04T06:44:09.619Z"
   },
   {
    "duration": 4,
    "start_time": "2023-06-04T06:44:09.629Z"
   },
   {
    "duration": 7,
    "start_time": "2023-06-04T06:44:09.636Z"
   },
   {
    "duration": 6,
    "start_time": "2023-06-04T06:44:09.677Z"
   },
   {
    "duration": 16,
    "start_time": "2023-06-04T06:44:09.684Z"
   },
   {
    "duration": 5,
    "start_time": "2023-06-04T06:44:09.702Z"
   },
   {
    "duration": 30,
    "start_time": "2023-06-04T06:44:09.708Z"
   },
   {
    "duration": 41,
    "start_time": "2023-06-04T06:44:09.739Z"
   },
   {
    "duration": 4,
    "start_time": "2023-06-04T06:44:09.782Z"
   },
   {
    "duration": 12,
    "start_time": "2023-06-04T06:44:09.788Z"
   },
   {
    "duration": 37,
    "start_time": "2023-06-04T06:44:09.802Z"
   },
   {
    "duration": 6,
    "start_time": "2023-06-04T06:44:09.840Z"
   },
   {
    "duration": 51,
    "start_time": "2023-06-04T06:44:09.848Z"
   },
   {
    "duration": 26,
    "start_time": "2023-06-04T06:44:09.901Z"
   },
   {
    "duration": 449,
    "start_time": "2023-06-04T06:44:09.929Z"
   },
   {
    "duration": 17,
    "start_time": "2023-06-04T06:44:10.379Z"
   },
   {
    "duration": 18,
    "start_time": "2023-06-04T06:44:10.397Z"
   },
   {
    "duration": 546,
    "start_time": "2023-06-04T06:44:10.417Z"
   },
   {
    "duration": 30,
    "start_time": "2023-06-04T06:44:10.964Z"
   },
   {
    "duration": 21,
    "start_time": "2023-06-04T06:44:10.996Z"
   },
   {
    "duration": 633,
    "start_time": "2023-06-04T06:45:39.473Z"
   },
   {
    "duration": 62,
    "start_time": "2023-06-04T06:45:40.108Z"
   },
   {
    "duration": 14,
    "start_time": "2023-06-04T06:45:40.172Z"
   },
   {
    "duration": 25,
    "start_time": "2023-06-04T06:45:40.188Z"
   },
   {
    "duration": 15,
    "start_time": "2023-06-04T06:45:40.215Z"
   },
   {
    "duration": 18,
    "start_time": "2023-06-04T06:45:40.231Z"
   },
   {
    "duration": 23,
    "start_time": "2023-06-04T06:45:40.251Z"
   },
   {
    "duration": 8,
    "start_time": "2023-06-04T06:45:40.275Z"
   },
   {
    "duration": 17,
    "start_time": "2023-06-04T06:45:40.284Z"
   },
   {
    "duration": 23,
    "start_time": "2023-06-04T06:45:40.303Z"
   },
   {
    "duration": 14,
    "start_time": "2023-06-04T06:45:40.328Z"
   },
   {
    "duration": 29,
    "start_time": "2023-06-04T06:45:40.343Z"
   },
   {
    "duration": 5,
    "start_time": "2023-06-04T06:45:40.374Z"
   },
   {
    "duration": 8,
    "start_time": "2023-06-04T06:45:40.382Z"
   },
   {
    "duration": 14,
    "start_time": "2023-06-04T06:45:40.392Z"
   },
   {
    "duration": 14,
    "start_time": "2023-06-04T06:45:40.408Z"
   },
   {
    "duration": 5,
    "start_time": "2023-06-04T06:45:40.423Z"
   },
   {
    "duration": 49,
    "start_time": "2023-06-04T06:45:40.430Z"
   },
   {
    "duration": 9,
    "start_time": "2023-06-04T06:45:40.482Z"
   },
   {
    "duration": 17,
    "start_time": "2023-06-04T06:45:40.492Z"
   },
   {
    "duration": 24,
    "start_time": "2023-06-04T06:45:40.511Z"
   },
   {
    "duration": 43,
    "start_time": "2023-06-04T06:45:40.537Z"
   },
   {
    "duration": 6,
    "start_time": "2023-06-04T06:45:40.582Z"
   },
   {
    "duration": 39,
    "start_time": "2023-06-04T06:45:40.590Z"
   },
   {
    "duration": 36,
    "start_time": "2023-06-04T06:45:40.630Z"
   },
   {
    "duration": 406,
    "start_time": "2023-06-04T06:45:40.668Z"
   },
   {
    "duration": 16,
    "start_time": "2023-06-04T06:45:41.078Z"
   },
   {
    "duration": 16,
    "start_time": "2023-06-04T06:45:41.095Z"
   },
   {
    "duration": 529,
    "start_time": "2023-06-04T06:45:41.112Z"
   },
   {
    "duration": 21,
    "start_time": "2023-06-04T06:45:41.643Z"
   },
   {
    "duration": 35,
    "start_time": "2023-06-04T06:45:41.666Z"
   },
   {
    "duration": 29,
    "start_time": "2023-06-04T06:47:03.859Z"
   },
   {
    "duration": 632,
    "start_time": "2023-06-04T06:47:16.568Z"
   },
   {
    "duration": 63,
    "start_time": "2023-06-04T06:47:17.201Z"
   },
   {
    "duration": 13,
    "start_time": "2023-06-04T06:47:17.266Z"
   },
   {
    "duration": 4,
    "start_time": "2023-06-04T06:47:17.281Z"
   },
   {
    "duration": 9,
    "start_time": "2023-06-04T06:47:17.288Z"
   },
   {
    "duration": 19,
    "start_time": "2023-06-04T06:47:17.299Z"
   },
   {
    "duration": 31,
    "start_time": "2023-06-04T06:47:17.319Z"
   },
   {
    "duration": 5,
    "start_time": "2023-06-04T06:47:17.352Z"
   },
   {
    "duration": 9,
    "start_time": "2023-06-04T06:47:17.358Z"
   },
   {
    "duration": 23,
    "start_time": "2023-06-04T06:47:17.377Z"
   },
   {
    "duration": 13,
    "start_time": "2023-06-04T06:47:17.402Z"
   },
   {
    "duration": 10,
    "start_time": "2023-06-04T06:47:17.416Z"
   },
   {
    "duration": 5,
    "start_time": "2023-06-04T06:47:17.427Z"
   },
   {
    "duration": 45,
    "start_time": "2023-06-04T06:47:17.435Z"
   },
   {
    "duration": 7,
    "start_time": "2023-06-04T06:47:17.482Z"
   },
   {
    "duration": 22,
    "start_time": "2023-06-04T06:47:17.490Z"
   },
   {
    "duration": 3,
    "start_time": "2023-06-04T06:47:17.514Z"
   },
   {
    "duration": 31,
    "start_time": "2023-06-04T06:47:17.519Z"
   },
   {
    "duration": 30,
    "start_time": "2023-06-04T06:47:17.552Z"
   },
   {
    "duration": 5,
    "start_time": "2023-06-04T06:47:17.584Z"
   },
   {
    "duration": 15,
    "start_time": "2023-06-04T06:47:17.591Z"
   },
   {
    "duration": 43,
    "start_time": "2023-06-04T06:47:17.607Z"
   },
   {
    "duration": 7,
    "start_time": "2023-06-04T06:47:17.677Z"
   },
   {
    "duration": 29,
    "start_time": "2023-06-04T06:47:17.686Z"
   },
   {
    "duration": 61,
    "start_time": "2023-06-04T06:47:17.717Z"
   },
   {
    "duration": 372,
    "start_time": "2023-06-04T06:47:17.780Z"
   },
   {
    "duration": 28,
    "start_time": "2023-06-04T06:47:18.154Z"
   },
   {
    "duration": 15,
    "start_time": "2023-06-04T06:47:18.183Z"
   },
   {
    "duration": 498,
    "start_time": "2023-06-04T06:47:18.199Z"
   },
   {
    "duration": 24,
    "start_time": "2023-06-04T06:47:18.698Z"
   },
   {
    "duration": 32,
    "start_time": "2023-06-04T06:47:18.723Z"
   },
   {
    "duration": 27,
    "start_time": "2023-06-04T06:47:44.168Z"
   },
   {
    "duration": 26,
    "start_time": "2023-06-04T06:48:58.725Z"
   },
   {
    "duration": 654,
    "start_time": "2023-06-04T06:49:30.274Z"
   },
   {
    "duration": 62,
    "start_time": "2023-06-04T06:49:30.930Z"
   },
   {
    "duration": 13,
    "start_time": "2023-06-04T06:49:30.993Z"
   },
   {
    "duration": 19,
    "start_time": "2023-06-04T06:49:31.009Z"
   },
   {
    "duration": 37,
    "start_time": "2023-06-04T06:49:31.030Z"
   },
   {
    "duration": 18,
    "start_time": "2023-06-04T06:49:31.069Z"
   },
   {
    "duration": 20,
    "start_time": "2023-06-04T06:49:31.089Z"
   },
   {
    "duration": 18,
    "start_time": "2023-06-04T06:49:31.110Z"
   },
   {
    "duration": 29,
    "start_time": "2023-06-04T06:49:31.130Z"
   },
   {
    "duration": 26,
    "start_time": "2023-06-04T06:49:31.162Z"
   },
   {
    "duration": 14,
    "start_time": "2023-06-04T06:49:31.189Z"
   },
   {
    "duration": 20,
    "start_time": "2023-06-04T06:49:31.205Z"
   },
   {
    "duration": 18,
    "start_time": "2023-06-04T06:49:31.226Z"
   },
   {
    "duration": 21,
    "start_time": "2023-06-04T06:49:31.245Z"
   },
   {
    "duration": 28,
    "start_time": "2023-06-04T06:49:31.267Z"
   },
   {
    "duration": 40,
    "start_time": "2023-06-04T06:49:31.297Z"
   },
   {
    "duration": 30,
    "start_time": "2023-06-04T06:49:31.338Z"
   },
   {
    "duration": 32,
    "start_time": "2023-06-04T06:49:31.370Z"
   },
   {
    "duration": 8,
    "start_time": "2023-06-04T06:49:31.404Z"
   },
   {
    "duration": 13,
    "start_time": "2023-06-04T06:49:31.414Z"
   },
   {
    "duration": 18,
    "start_time": "2023-06-04T06:49:31.429Z"
   },
   {
    "duration": 32,
    "start_time": "2023-06-04T06:49:31.449Z"
   },
   {
    "duration": 5,
    "start_time": "2023-06-04T06:49:31.483Z"
   },
   {
    "duration": 39,
    "start_time": "2023-06-04T06:49:31.489Z"
   },
   {
    "duration": 33,
    "start_time": "2023-06-04T06:49:31.530Z"
   },
   {
    "duration": 442,
    "start_time": "2023-06-04T06:49:31.565Z"
   },
   {
    "duration": 16,
    "start_time": "2023-06-04T06:49:32.008Z"
   },
   {
    "duration": 27,
    "start_time": "2023-06-04T06:49:32.027Z"
   },
   {
    "duration": 479,
    "start_time": "2023-06-04T06:49:32.056Z"
   },
   {
    "duration": 19,
    "start_time": "2023-06-04T06:49:32.536Z"
   },
   {
    "duration": 41,
    "start_time": "2023-06-04T06:49:32.557Z"
   },
   {
    "duration": 261,
    "start_time": "2023-06-04T06:54:23.722Z"
   },
   {
    "duration": 6,
    "start_time": "2023-06-04T06:55:04.624Z"
   },
   {
    "duration": 621,
    "start_time": "2023-06-04T06:55:41.096Z"
   },
   {
    "duration": 61,
    "start_time": "2023-06-04T06:55:41.719Z"
   },
   {
    "duration": 13,
    "start_time": "2023-06-04T06:55:41.781Z"
   },
   {
    "duration": 4,
    "start_time": "2023-06-04T06:55:41.796Z"
   },
   {
    "duration": 8,
    "start_time": "2023-06-04T06:55:41.802Z"
   },
   {
    "duration": 10,
    "start_time": "2023-06-04T06:55:41.812Z"
   },
   {
    "duration": 8,
    "start_time": "2023-06-04T06:55:41.823Z"
   },
   {
    "duration": 5,
    "start_time": "2023-06-04T06:55:41.832Z"
   },
   {
    "duration": 47,
    "start_time": "2023-06-04T06:55:41.838Z"
   },
   {
    "duration": 22,
    "start_time": "2023-06-04T06:55:41.887Z"
   },
   {
    "duration": 30,
    "start_time": "2023-06-04T06:55:41.911Z"
   },
   {
    "duration": 22,
    "start_time": "2023-06-04T06:55:41.942Z"
   },
   {
    "duration": 15,
    "start_time": "2023-06-04T06:55:41.966Z"
   },
   {
    "duration": 22,
    "start_time": "2023-06-04T06:55:41.982Z"
   },
   {
    "duration": 6,
    "start_time": "2023-06-04T06:55:42.006Z"
   },
   {
    "duration": 26,
    "start_time": "2023-06-04T06:55:42.013Z"
   },
   {
    "duration": 8,
    "start_time": "2023-06-04T06:55:42.041Z"
   },
   {
    "duration": 35,
    "start_time": "2023-06-04T06:55:42.050Z"
   },
   {
    "duration": 9,
    "start_time": "2023-06-04T06:55:42.087Z"
   },
   {
    "duration": 13,
    "start_time": "2023-06-04T06:55:42.097Z"
   },
   {
    "duration": 26,
    "start_time": "2023-06-04T06:55:42.111Z"
   },
   {
    "duration": 30,
    "start_time": "2023-06-04T06:55:42.138Z"
   },
   {
    "duration": 10,
    "start_time": "2023-06-04T06:55:42.170Z"
   },
   {
    "duration": 30,
    "start_time": "2023-06-04T06:55:42.182Z"
   },
   {
    "duration": 26,
    "start_time": "2023-06-04T06:55:42.213Z"
   },
   {
    "duration": 392,
    "start_time": "2023-06-04T06:55:42.241Z"
   },
   {
    "duration": 15,
    "start_time": "2023-06-04T06:55:42.634Z"
   },
   {
    "duration": 31,
    "start_time": "2023-06-04T06:55:42.651Z"
   },
   {
    "duration": 555,
    "start_time": "2023-06-04T06:55:42.683Z"
   },
   {
    "duration": 23,
    "start_time": "2023-06-04T06:55:43.239Z"
   },
   {
    "duration": 35,
    "start_time": "2023-06-04T06:55:43.263Z"
   },
   {
    "duration": 307,
    "start_time": "2023-06-04T06:55:43.300Z"
   },
   {
    "duration": 7,
    "start_time": "2023-06-04T06:55:43.609Z"
   },
   {
    "duration": 691,
    "start_time": "2023-06-04T09:53:10.759Z"
   },
   {
    "duration": 124,
    "start_time": "2023-06-04T09:53:11.451Z"
   },
   {
    "duration": 19,
    "start_time": "2023-06-04T09:53:11.576Z"
   },
   {
    "duration": 8,
    "start_time": "2023-06-04T09:53:11.598Z"
   },
   {
    "duration": 15,
    "start_time": "2023-06-04T09:53:11.607Z"
   },
   {
    "duration": 10,
    "start_time": "2023-06-04T09:53:11.623Z"
   },
   {
    "duration": 27,
    "start_time": "2023-06-04T09:53:11.635Z"
   },
   {
    "duration": 13,
    "start_time": "2023-06-04T09:53:11.663Z"
   },
   {
    "duration": 20,
    "start_time": "2023-06-04T09:53:11.677Z"
   },
   {
    "duration": 33,
    "start_time": "2023-06-04T09:53:11.700Z"
   },
   {
    "duration": 16,
    "start_time": "2023-06-04T09:53:11.735Z"
   },
   {
    "duration": 9,
    "start_time": "2023-06-04T09:53:11.753Z"
   },
   {
    "duration": 5,
    "start_time": "2023-06-04T09:53:11.763Z"
   },
   {
    "duration": 26,
    "start_time": "2023-06-04T09:53:11.769Z"
   },
   {
    "duration": 24,
    "start_time": "2023-06-04T09:53:11.797Z"
   },
   {
    "duration": 15,
    "start_time": "2023-06-04T09:53:11.823Z"
   },
   {
    "duration": 5,
    "start_time": "2023-06-04T09:53:11.840Z"
   },
   {
    "duration": 20,
    "start_time": "2023-06-04T09:53:11.846Z"
   },
   {
    "duration": 6,
    "start_time": "2023-06-04T09:53:11.867Z"
   },
   {
    "duration": 9,
    "start_time": "2023-06-04T09:53:11.874Z"
   },
   {
    "duration": 27,
    "start_time": "2023-06-04T09:53:11.884Z"
   },
   {
    "duration": 31,
    "start_time": "2023-06-04T09:53:11.912Z"
   },
   {
    "duration": 5,
    "start_time": "2023-06-04T09:53:11.944Z"
   },
   {
    "duration": 27,
    "start_time": "2023-06-04T09:53:11.950Z"
   },
   {
    "duration": 31,
    "start_time": "2023-06-04T09:53:11.978Z"
   },
   {
    "duration": 347,
    "start_time": "2023-06-04T09:53:12.011Z"
   },
   {
    "duration": 14,
    "start_time": "2023-06-04T09:53:12.359Z"
   },
   {
    "duration": 16,
    "start_time": "2023-06-04T09:53:12.394Z"
   },
   {
    "duration": 447,
    "start_time": "2023-06-04T09:53:12.411Z"
   },
   {
    "duration": 17,
    "start_time": "2023-06-04T09:53:12.860Z"
   },
   {
    "duration": 27,
    "start_time": "2023-06-04T09:53:12.884Z"
   },
   {
    "duration": 239,
    "start_time": "2023-06-04T09:53:12.913Z"
   },
   {
    "duration": 4,
    "start_time": "2023-06-04T09:53:13.154Z"
   },
   {
    "duration": 25,
    "start_time": "2023-06-04T09:58:52.165Z"
   },
   {
    "duration": 14,
    "start_time": "2023-06-04T10:00:32.517Z"
   },
   {
    "duration": 23,
    "start_time": "2023-06-04T10:04:15.482Z"
   },
   {
    "duration": 5,
    "start_time": "2023-06-04T10:12:32.107Z"
   },
   {
    "duration": 16,
    "start_time": "2023-06-04T10:13:26.895Z"
   },
   {
    "duration": 18,
    "start_time": "2023-06-04T10:13:33.594Z"
   },
   {
    "duration": 18,
    "start_time": "2023-06-04T10:17:01.343Z"
   },
   {
    "duration": 4,
    "start_time": "2023-06-04T10:27:36.273Z"
   },
   {
    "duration": 23,
    "start_time": "2023-06-04T10:36:08.958Z"
   },
   {
    "duration": 29,
    "start_time": "2023-06-04T10:38:09.419Z"
   },
   {
    "duration": 724,
    "start_time": "2023-06-04T10:43:40.544Z"
   },
   {
    "duration": 497,
    "start_time": "2023-06-04T10:46:22.852Z"
   },
   {
    "duration": 2295,
    "start_time": "2023-06-04T10:49:36.942Z"
   },
   {
    "duration": 5,
    "start_time": "2023-06-04T10:50:58.532Z"
   },
   {
    "duration": 16,
    "start_time": "2023-06-04T10:54:47.509Z"
   },
   {
    "duration": 50,
    "start_time": "2023-06-04T10:58:34.606Z"
   },
   {
    "duration": 106,
    "start_time": "2023-06-04T11:03:13.610Z"
   },
   {
    "duration": 107,
    "start_time": "2023-06-04T11:04:31.823Z"
   },
   {
    "duration": 105,
    "start_time": "2023-06-04T11:07:07.476Z"
   },
   {
    "duration": 99,
    "start_time": "2023-06-04T11:08:23.316Z"
   },
   {
    "duration": 548,
    "start_time": "2023-06-04T11:09:17.122Z"
   },
   {
    "duration": 62,
    "start_time": "2023-06-04T11:09:17.672Z"
   },
   {
    "duration": 12,
    "start_time": "2023-06-04T11:09:17.735Z"
   },
   {
    "duration": 20,
    "start_time": "2023-06-04T11:09:17.748Z"
   },
   {
    "duration": 33,
    "start_time": "2023-06-04T11:09:17.769Z"
   },
   {
    "duration": 22,
    "start_time": "2023-06-04T11:09:17.803Z"
   },
   {
    "duration": 17,
    "start_time": "2023-06-04T11:09:17.826Z"
   },
   {
    "duration": 10,
    "start_time": "2023-06-04T11:09:17.844Z"
   },
   {
    "duration": 15,
    "start_time": "2023-06-04T11:09:17.855Z"
   },
   {
    "duration": 24,
    "start_time": "2023-06-04T11:09:17.873Z"
   },
   {
    "duration": 17,
    "start_time": "2023-06-04T11:09:17.899Z"
   },
   {
    "duration": 7,
    "start_time": "2023-06-04T11:09:17.917Z"
   },
   {
    "duration": 14,
    "start_time": "2023-06-04T11:09:17.925Z"
   },
   {
    "duration": 15,
    "start_time": "2023-06-04T11:09:17.940Z"
   },
   {
    "duration": 5,
    "start_time": "2023-06-04T11:09:17.956Z"
   },
   {
    "duration": 26,
    "start_time": "2023-06-04T11:09:17.962Z"
   },
   {
    "duration": 4,
    "start_time": "2023-06-04T11:09:17.989Z"
   },
   {
    "duration": 23,
    "start_time": "2023-06-04T11:09:17.994Z"
   },
   {
    "duration": 7,
    "start_time": "2023-06-04T11:09:18.018Z"
   },
   {
    "duration": 3,
    "start_time": "2023-06-04T11:09:18.026Z"
   },
   {
    "duration": 13,
    "start_time": "2023-06-04T11:09:18.030Z"
   },
   {
    "duration": 46,
    "start_time": "2023-06-04T11:09:18.044Z"
   },
   {
    "duration": 5,
    "start_time": "2023-06-04T11:09:18.091Z"
   },
   {
    "duration": 33,
    "start_time": "2023-06-04T11:09:18.097Z"
   },
   {
    "duration": 22,
    "start_time": "2023-06-04T11:09:18.131Z"
   },
   {
    "duration": 355,
    "start_time": "2023-06-04T11:09:18.154Z"
   },
   {
    "duration": 15,
    "start_time": "2023-06-04T11:09:18.511Z"
   },
   {
    "duration": 16,
    "start_time": "2023-06-04T11:09:18.530Z"
   },
   {
    "duration": 428,
    "start_time": "2023-06-04T11:09:18.548Z"
   },
   {
    "duration": 21,
    "start_time": "2023-06-04T11:09:18.978Z"
   },
   {
    "duration": 21,
    "start_time": "2023-06-04T11:09:19.000Z"
   },
   {
    "duration": 262,
    "start_time": "2023-06-04T11:09:19.022Z"
   },
   {
    "duration": 6,
    "start_time": "2023-06-04T11:09:19.285Z"
   },
   {
    "duration": 27,
    "start_time": "2023-06-04T11:09:19.292Z"
   },
   {
    "duration": 6,
    "start_time": "2023-06-04T11:09:19.321Z"
   },
   {
    "duration": 23,
    "start_time": "2023-06-04T11:09:19.328Z"
   },
   {
    "duration": 3,
    "start_time": "2023-06-04T11:09:19.353Z"
   },
   {
    "duration": 50,
    "start_time": "2023-06-04T11:09:19.358Z"
   },
   {
    "duration": 126,
    "start_time": "2023-06-04T11:09:19.409Z"
   },
   {
    "duration": 117,
    "start_time": "2023-06-04T11:09:19.536Z"
   },
   {
    "duration": 125,
    "start_time": "2023-06-04T11:09:19.654Z"
   },
   {
    "duration": 27,
    "start_time": "2023-06-04T11:14:55.112Z"
   },
   {
    "duration": 32,
    "start_time": "2023-06-04T11:16:38.914Z"
   },
   {
    "duration": 87,
    "start_time": "2023-06-04T11:19:08.683Z"
   },
   {
    "duration": 83,
    "start_time": "2023-06-04T11:19:39.220Z"
   },
   {
    "duration": 81,
    "start_time": "2023-06-04T11:19:46.937Z"
   },
   {
    "duration": 100,
    "start_time": "2023-06-04T11:19:52.624Z"
   },
   {
    "duration": 135,
    "start_time": "2023-06-04T11:21:11.237Z"
   },
   {
    "duration": 84,
    "start_time": "2023-06-04T11:23:12.984Z"
   },
   {
    "duration": 87,
    "start_time": "2023-06-04T11:24:37.829Z"
   },
   {
    "duration": 15,
    "start_time": "2023-06-04T11:30:13.341Z"
   },
   {
    "duration": 178,
    "start_time": "2023-06-04T11:31:22.728Z"
   },
   {
    "duration": 125,
    "start_time": "2023-06-04T11:31:36.567Z"
   },
   {
    "duration": 15,
    "start_time": "2023-06-04T11:39:41.083Z"
   },
   {
    "duration": 135,
    "start_time": "2023-06-04T11:39:58.145Z"
   },
   {
    "duration": 144,
    "start_time": "2023-06-04T11:40:08.132Z"
   },
   {
    "duration": 14,
    "start_time": "2023-06-04T11:40:47.806Z"
   },
   {
    "duration": 125,
    "start_time": "2023-06-04T11:42:24.167Z"
   },
   {
    "duration": 158,
    "start_time": "2023-06-04T11:57:01.731Z"
   },
   {
    "duration": 149,
    "start_time": "2023-06-04T12:00:33.080Z"
   },
   {
    "duration": 15,
    "start_time": "2023-06-04T12:00:58.242Z"
   },
   {
    "duration": 15,
    "start_time": "2023-06-04T12:01:25.709Z"
   },
   {
    "duration": 138,
    "start_time": "2023-06-04T12:01:35.654Z"
   },
   {
    "duration": 202,
    "start_time": "2023-06-04T12:06:49.218Z"
   },
   {
    "duration": 13,
    "start_time": "2023-06-04T12:07:17.423Z"
   },
   {
    "duration": 171,
    "start_time": "2023-06-04T12:07:23.858Z"
   },
   {
    "duration": 113,
    "start_time": "2023-06-04T12:07:29.732Z"
   },
   {
    "duration": 152,
    "start_time": "2023-06-04T12:07:48.896Z"
   },
   {
    "duration": 387,
    "start_time": "2023-06-04T12:18:02.973Z"
   },
   {
    "duration": 11,
    "start_time": "2023-06-04T12:18:16.350Z"
   },
   {
    "duration": 8,
    "start_time": "2023-06-04T12:19:54.142Z"
   },
   {
    "duration": 9,
    "start_time": "2023-06-04T12:21:36.020Z"
   },
   {
    "duration": 5,
    "start_time": "2023-06-04T12:23:26.668Z"
   },
   {
    "duration": 5,
    "start_time": "2023-06-04T12:25:53.765Z"
   },
   {
    "duration": 2,
    "start_time": "2023-06-04T12:29:00.540Z"
   },
   {
    "duration": 106,
    "start_time": "2023-06-04T12:32:57.440Z"
   },
   {
    "duration": 12,
    "start_time": "2023-06-04T12:33:16.086Z"
   },
   {
    "duration": 1000,
    "start_time": "2023-06-04T12:44:57.082Z"
   },
   {
    "duration": 63,
    "start_time": "2023-06-04T12:44:58.085Z"
   },
   {
    "duration": 14,
    "start_time": "2023-06-04T12:44:58.150Z"
   },
   {
    "duration": 45,
    "start_time": "2023-06-04T12:44:58.167Z"
   },
   {
    "duration": 21,
    "start_time": "2023-06-04T12:44:58.214Z"
   },
   {
    "duration": 14,
    "start_time": "2023-06-04T12:44:58.237Z"
   },
   {
    "duration": 8,
    "start_time": "2023-06-04T12:44:58.253Z"
   },
   {
    "duration": 4,
    "start_time": "2023-06-04T12:44:58.262Z"
   },
   {
    "duration": 26,
    "start_time": "2023-06-04T12:44:58.267Z"
   },
   {
    "duration": 47,
    "start_time": "2023-06-04T12:44:58.296Z"
   },
   {
    "duration": 23,
    "start_time": "2023-06-04T12:44:58.345Z"
   },
   {
    "duration": 8,
    "start_time": "2023-06-04T12:44:58.371Z"
   },
   {
    "duration": 15,
    "start_time": "2023-06-04T12:44:58.381Z"
   },
   {
    "duration": 26,
    "start_time": "2023-06-04T12:44:58.397Z"
   },
   {
    "duration": 13,
    "start_time": "2023-06-04T12:44:58.425Z"
   },
   {
    "duration": 29,
    "start_time": "2023-06-04T12:44:58.439Z"
   },
   {
    "duration": 21,
    "start_time": "2023-06-04T12:44:58.470Z"
   },
   {
    "duration": 35,
    "start_time": "2023-06-04T12:44:58.493Z"
   },
   {
    "duration": 9,
    "start_time": "2023-06-04T12:44:58.529Z"
   },
   {
    "duration": 7,
    "start_time": "2023-06-04T12:44:58.540Z"
   },
   {
    "duration": 23,
    "start_time": "2023-06-04T12:44:58.548Z"
   },
   {
    "duration": 45,
    "start_time": "2023-06-04T12:44:58.572Z"
   },
   {
    "duration": 6,
    "start_time": "2023-06-04T12:44:58.619Z"
   },
   {
    "duration": 31,
    "start_time": "2023-06-04T12:44:58.627Z"
   },
   {
    "duration": 44,
    "start_time": "2023-06-04T12:44:58.660Z"
   },
   {
    "duration": 399,
    "start_time": "2023-06-04T12:44:58.706Z"
   },
   {
    "duration": 20,
    "start_time": "2023-06-04T12:44:59.107Z"
   },
   {
    "duration": 19,
    "start_time": "2023-06-04T12:44:59.131Z"
   },
   {
    "duration": 504,
    "start_time": "2023-06-04T12:44:59.152Z"
   },
   {
    "duration": 19,
    "start_time": "2023-06-04T12:44:59.657Z"
   },
   {
    "duration": 29,
    "start_time": "2023-06-04T12:44:59.685Z"
   },
   {
    "duration": 347,
    "start_time": "2023-06-04T12:44:59.716Z"
   },
   {
    "duration": 7,
    "start_time": "2023-06-04T12:45:00.065Z"
   },
   {
    "duration": 81,
    "start_time": "2023-06-04T12:45:00.074Z"
   },
   {
    "duration": 48,
    "start_time": "2023-06-04T12:45:00.157Z"
   },
   {
    "duration": 71,
    "start_time": "2023-06-04T12:45:00.207Z"
   },
   {
    "duration": 50,
    "start_time": "2023-06-04T12:45:00.281Z"
   },
   {
    "duration": 75,
    "start_time": "2023-06-04T12:45:00.333Z"
   },
   {
    "duration": 181,
    "start_time": "2023-06-04T12:45:00.410Z"
   },
   {
    "duration": 157,
    "start_time": "2023-06-04T12:45:00.593Z"
   },
   {
    "duration": 127,
    "start_time": "2023-06-04T12:45:00.752Z"
   },
   {
    "duration": 40,
    "start_time": "2023-06-04T12:45:00.880Z"
   },
   {
    "duration": 153,
    "start_time": "2023-06-04T12:45:00.922Z"
   },
   {
    "duration": 128,
    "start_time": "2023-06-04T12:45:01.077Z"
   },
   {
    "duration": 99,
    "start_time": "2023-06-04T12:45:01.207Z"
   },
   {
    "duration": 14,
    "start_time": "2023-06-04T12:45:01.308Z"
   },
   {
    "duration": 171,
    "start_time": "2023-06-04T12:45:01.325Z"
   },
   {
    "duration": 16,
    "start_time": "2023-06-04T12:45:01.498Z"
   },
   {
    "duration": 152,
    "start_time": "2023-06-04T12:45:01.515Z"
   },
   {
    "duration": 22,
    "start_time": "2023-06-04T12:45:01.668Z"
   },
   {
    "duration": 203,
    "start_time": "2023-06-04T12:45:01.691Z"
   },
   {
    "duration": 12,
    "start_time": "2023-06-04T12:45:01.895Z"
   },
   {
    "duration": 27,
    "start_time": "2023-06-04T12:45:01.910Z"
   },
   {
    "duration": 1030,
    "start_time": "2023-06-04T12:57:38.260Z"
   },
   {
    "duration": 76,
    "start_time": "2023-06-04T12:57:39.291Z"
   },
   {
    "duration": 13,
    "start_time": "2023-06-04T12:57:39.369Z"
   },
   {
    "duration": 37,
    "start_time": "2023-06-04T12:57:39.384Z"
   },
   {
    "duration": 12,
    "start_time": "2023-06-04T12:57:39.423Z"
   },
   {
    "duration": 14,
    "start_time": "2023-06-04T12:57:39.436Z"
   },
   {
    "duration": 13,
    "start_time": "2023-06-04T12:57:39.452Z"
   },
   {
    "duration": 9,
    "start_time": "2023-06-04T12:57:39.467Z"
   },
   {
    "duration": 34,
    "start_time": "2023-06-04T12:57:39.477Z"
   },
   {
    "duration": 25,
    "start_time": "2023-06-04T12:57:39.513Z"
   },
   {
    "duration": 22,
    "start_time": "2023-06-04T12:57:39.540Z"
   },
   {
    "duration": 7,
    "start_time": "2023-06-04T12:57:39.564Z"
   },
   {
    "duration": 4,
    "start_time": "2023-06-04T12:57:39.573Z"
   },
   {
    "duration": 13,
    "start_time": "2023-06-04T12:57:39.578Z"
   },
   {
    "duration": 18,
    "start_time": "2023-06-04T12:57:39.592Z"
   },
   {
    "duration": 25,
    "start_time": "2023-06-04T12:57:39.611Z"
   },
   {
    "duration": 4,
    "start_time": "2023-06-04T12:57:39.638Z"
   },
   {
    "duration": 28,
    "start_time": "2023-06-04T12:57:39.643Z"
   },
   {
    "duration": 8,
    "start_time": "2023-06-04T12:57:39.672Z"
   },
   {
    "duration": 10,
    "start_time": "2023-06-04T12:57:39.681Z"
   },
   {
    "duration": 32,
    "start_time": "2023-06-04T12:57:39.695Z"
   },
   {
    "duration": 36,
    "start_time": "2023-06-04T12:57:39.729Z"
   },
   {
    "duration": 6,
    "start_time": "2023-06-04T12:57:39.766Z"
   },
   {
    "duration": 30,
    "start_time": "2023-06-04T12:57:39.773Z"
   },
   {
    "duration": 34,
    "start_time": "2023-06-04T12:57:39.805Z"
   },
   {
    "duration": 367,
    "start_time": "2023-06-04T12:57:39.841Z"
   },
   {
    "duration": 14,
    "start_time": "2023-06-04T12:57:40.209Z"
   },
   {
    "duration": 18,
    "start_time": "2023-06-04T12:57:40.225Z"
   },
   {
    "duration": 430,
    "start_time": "2023-06-04T12:57:40.244Z"
   },
   {
    "duration": 30,
    "start_time": "2023-06-04T12:57:40.676Z"
   },
   {
    "duration": 33,
    "start_time": "2023-06-04T12:57:40.708Z"
   },
   {
    "duration": 256,
    "start_time": "2023-06-04T12:57:40.742Z"
   },
   {
    "duration": 9,
    "start_time": "2023-06-04T12:57:41.000Z"
   },
   {
    "duration": 21,
    "start_time": "2023-06-04T12:57:41.011Z"
   },
   {
    "duration": 4,
    "start_time": "2023-06-04T12:57:41.033Z"
   },
   {
    "duration": 23,
    "start_time": "2023-06-04T12:57:41.039Z"
   },
   {
    "duration": 26,
    "start_time": "2023-06-04T12:57:41.064Z"
   },
   {
    "duration": 28,
    "start_time": "2023-06-04T12:57:41.091Z"
   },
   {
    "duration": 93,
    "start_time": "2023-06-04T12:57:41.121Z"
   },
   {
    "duration": 151,
    "start_time": "2023-06-04T12:57:41.216Z"
   },
   {
    "duration": 103,
    "start_time": "2023-06-04T12:57:41.368Z"
   },
   {
    "duration": 30,
    "start_time": "2023-06-04T12:57:41.473Z"
   },
   {
    "duration": 100,
    "start_time": "2023-06-04T12:57:41.505Z"
   },
   {
    "duration": 110,
    "start_time": "2023-06-04T12:57:41.606Z"
   },
   {
    "duration": 105,
    "start_time": "2023-06-04T12:57:41.717Z"
   },
   {
    "duration": 17,
    "start_time": "2023-06-04T12:57:41.823Z"
   },
   {
    "duration": 147,
    "start_time": "2023-06-04T12:57:41.842Z"
   },
   {
    "duration": 12,
    "start_time": "2023-06-04T12:57:42.003Z"
   },
   {
    "duration": 127,
    "start_time": "2023-06-04T12:57:42.017Z"
   },
   {
    "duration": 13,
    "start_time": "2023-06-04T12:57:42.145Z"
   },
   {
    "duration": 154,
    "start_time": "2023-06-04T12:57:42.159Z"
   },
   {
    "duration": 10,
    "start_time": "2023-06-04T12:57:42.315Z"
   },
   {
    "duration": 13,
    "start_time": "2023-06-04T12:57:42.326Z"
   },
   {
    "duration": 1720,
    "start_time": "2023-06-04T13:01:39.446Z"
   },
   {
    "duration": 699,
    "start_time": "2023-06-04T13:01:41.178Z"
   },
   {
    "duration": 39,
    "start_time": "2023-06-04T13:01:41.886Z"
   },
   {
    "duration": 20,
    "start_time": "2023-06-04T13:01:41.927Z"
   },
   {
    "duration": 16,
    "start_time": "2023-06-04T13:01:41.952Z"
   },
   {
    "duration": 35,
    "start_time": "2023-06-04T13:01:41.970Z"
   },
   {
    "duration": 27,
    "start_time": "2023-06-04T13:01:42.010Z"
   },
   {
    "duration": 17,
    "start_time": "2023-06-04T13:01:42.043Z"
   },
   {
    "duration": 19,
    "start_time": "2023-06-04T13:01:42.071Z"
   },
   {
    "duration": 38,
    "start_time": "2023-06-04T13:01:42.095Z"
   },
   {
    "duration": 31,
    "start_time": "2023-06-04T13:01:42.138Z"
   },
   {
    "duration": 23,
    "start_time": "2023-06-04T13:01:42.174Z"
   },
   {
    "duration": 6,
    "start_time": "2023-06-04T13:01:42.203Z"
   },
   {
    "duration": 32,
    "start_time": "2023-06-04T13:01:42.217Z"
   },
   {
    "duration": 13,
    "start_time": "2023-06-04T13:01:42.262Z"
   },
   {
    "duration": 55,
    "start_time": "2023-06-04T13:01:42.278Z"
   },
   {
    "duration": 14,
    "start_time": "2023-06-04T13:01:42.335Z"
   },
   {
    "duration": 105,
    "start_time": "2023-06-04T13:01:42.351Z"
   },
   {
    "duration": 23,
    "start_time": "2023-06-04T13:01:42.466Z"
   },
   {
    "duration": 7,
    "start_time": "2023-06-04T13:01:42.494Z"
   },
   {
    "duration": 81,
    "start_time": "2023-06-04T13:01:42.508Z"
   },
   {
    "duration": 139,
    "start_time": "2023-06-04T13:01:42.594Z"
   },
   {
    "duration": 18,
    "start_time": "2023-06-04T13:01:42.755Z"
   },
   {
    "duration": 50,
    "start_time": "2023-06-04T13:01:42.775Z"
   },
   {
    "duration": 39,
    "start_time": "2023-06-04T13:01:42.827Z"
   },
   {
    "duration": 616,
    "start_time": "2023-06-04T13:01:42.869Z"
   },
   {
    "duration": 27,
    "start_time": "2023-06-04T13:01:43.487Z"
   },
   {
    "duration": 30,
    "start_time": "2023-06-04T13:01:43.517Z"
   },
   {
    "duration": 723,
    "start_time": "2023-06-04T13:01:43.550Z"
   },
   {
    "duration": 33,
    "start_time": "2023-06-04T13:01:44.278Z"
   },
   {
    "duration": 54,
    "start_time": "2023-06-04T13:01:44.317Z"
   },
   {
    "duration": 389,
    "start_time": "2023-06-04T13:01:44.374Z"
   },
   {
    "duration": 8,
    "start_time": "2023-06-04T13:01:44.768Z"
   },
   {
    "duration": 56,
    "start_time": "2023-06-04T13:01:44.777Z"
   },
   {
    "duration": 8,
    "start_time": "2023-06-04T13:01:44.836Z"
   },
   {
    "duration": 44,
    "start_time": "2023-06-04T13:01:44.845Z"
   },
   {
    "duration": 10,
    "start_time": "2023-06-04T13:01:44.895Z"
   },
   {
    "duration": 91,
    "start_time": "2023-06-04T13:01:44.910Z"
   },
   {
    "duration": 197,
    "start_time": "2023-06-04T13:01:45.008Z"
   },
   {
    "duration": 323,
    "start_time": "2023-06-04T13:01:45.211Z"
   },
   {
    "duration": 187,
    "start_time": "2023-06-04T13:01:45.546Z"
   },
   {
    "duration": 50,
    "start_time": "2023-06-04T13:01:45.738Z"
   },
   {
    "duration": 211,
    "start_time": "2023-06-04T13:01:45.800Z"
   },
   {
    "duration": 141,
    "start_time": "2023-06-04T13:01:46.018Z"
   },
   {
    "duration": 159,
    "start_time": "2023-06-04T13:01:46.163Z"
   },
   {
    "duration": 32,
    "start_time": "2023-06-04T13:01:46.327Z"
   },
   {
    "duration": 246,
    "start_time": "2023-06-04T13:01:46.361Z"
   },
   {
    "duration": 25,
    "start_time": "2023-06-04T13:01:46.611Z"
   },
   {
    "duration": 182,
    "start_time": "2023-06-04T13:01:46.642Z"
   },
   {
    "duration": 35,
    "start_time": "2023-06-04T13:01:46.830Z"
   },
   {
    "duration": 262,
    "start_time": "2023-06-04T13:01:46.873Z"
   },
   {
    "duration": 11,
    "start_time": "2023-06-04T13:01:47.139Z"
   },
   {
    "duration": 14,
    "start_time": "2023-06-04T13:01:47.152Z"
   },
   {
    "duration": 64,
    "start_time": "2023-06-04T16:58:51.291Z"
   },
   {
    "duration": 11,
    "start_time": "2023-06-04T17:34:23.995Z"
   },
   {
    "duration": 1532,
    "start_time": "2023-06-04T20:44:58.423Z"
   },
   {
    "duration": 626,
    "start_time": "2023-06-04T20:44:59.961Z"
   },
   {
    "duration": 24,
    "start_time": "2023-06-04T20:45:00.590Z"
   },
   {
    "duration": 52,
    "start_time": "2023-06-04T20:45:00.617Z"
   },
   {
    "duration": 32,
    "start_time": "2023-06-04T20:45:00.671Z"
   },
   {
    "duration": 58,
    "start_time": "2023-06-04T20:45:00.705Z"
   },
   {
    "duration": 32,
    "start_time": "2023-06-04T20:45:00.766Z"
   },
   {
    "duration": 37,
    "start_time": "2023-06-04T20:45:00.800Z"
   },
   {
    "duration": 41,
    "start_time": "2023-06-04T20:45:00.838Z"
   },
   {
    "duration": 31,
    "start_time": "2023-06-04T20:45:00.884Z"
   },
   {
    "duration": 30,
    "start_time": "2023-06-04T20:45:00.917Z"
   },
   {
    "duration": 68,
    "start_time": "2023-06-04T20:45:00.948Z"
   },
   {
    "duration": 41,
    "start_time": "2023-06-04T20:45:01.019Z"
   },
   {
    "duration": 47,
    "start_time": "2023-06-04T20:45:01.062Z"
   },
   {
    "duration": 44,
    "start_time": "2023-06-04T20:45:01.111Z"
   },
   {
    "duration": 19,
    "start_time": "2023-06-04T20:45:01.157Z"
   },
   {
    "duration": 20,
    "start_time": "2023-06-04T20:45:01.178Z"
   },
   {
    "duration": 72,
    "start_time": "2023-06-04T20:45:01.199Z"
   },
   {
    "duration": 35,
    "start_time": "2023-06-04T20:45:01.273Z"
   },
   {
    "duration": 40,
    "start_time": "2023-06-04T20:45:01.309Z"
   },
   {
    "duration": 47,
    "start_time": "2023-06-04T20:45:01.351Z"
   },
   {
    "duration": 65,
    "start_time": "2023-06-04T20:45:01.400Z"
   },
   {
    "duration": 118,
    "start_time": "2023-06-04T20:45:01.468Z"
   },
   {
    "duration": 8,
    "start_time": "2023-06-04T20:45:01.587Z"
   },
   {
    "duration": 71,
    "start_time": "2023-06-04T20:45:01.597Z"
   },
   {
    "duration": 30,
    "start_time": "2023-06-04T20:45:01.670Z"
   },
   {
    "duration": 569,
    "start_time": "2023-06-04T20:45:01.702Z"
   },
   {
    "duration": 17,
    "start_time": "2023-06-04T20:45:02.275Z"
   },
   {
    "duration": 50,
    "start_time": "2023-06-04T20:45:02.294Z"
   },
   {
    "duration": 566,
    "start_time": "2023-06-04T20:45:02.346Z"
   },
   {
    "duration": 33,
    "start_time": "2023-06-04T20:45:02.915Z"
   },
   {
    "duration": 36,
    "start_time": "2023-06-04T20:45:02.950Z"
   },
   {
    "duration": 373,
    "start_time": "2023-06-04T20:45:02.988Z"
   },
   {
    "duration": 7,
    "start_time": "2023-06-04T20:45:03.363Z"
   },
   {
    "duration": 26,
    "start_time": "2023-06-04T20:45:03.372Z"
   },
   {
    "duration": 5,
    "start_time": "2023-06-04T20:45:03.400Z"
   },
   {
    "duration": 39,
    "start_time": "2023-06-04T20:45:03.425Z"
   },
   {
    "duration": 6,
    "start_time": "2023-06-04T20:45:03.467Z"
   },
   {
    "duration": 40,
    "start_time": "2023-06-04T20:45:03.475Z"
   },
   {
    "duration": 134,
    "start_time": "2023-06-04T20:45:03.539Z"
   },
   {
    "duration": 200,
    "start_time": "2023-06-04T20:45:03.675Z"
   },
   {
    "duration": 125,
    "start_time": "2023-06-04T20:45:03.877Z"
   },
   {
    "duration": 59,
    "start_time": "2023-06-04T20:45:04.004Z"
   },
   {
    "duration": 197,
    "start_time": "2023-06-04T20:45:04.065Z"
   },
   {
    "duration": 113,
    "start_time": "2023-06-04T20:45:04.267Z"
   },
   {
    "duration": 153,
    "start_time": "2023-06-04T20:45:04.382Z"
   },
   {
    "duration": 20,
    "start_time": "2023-06-04T20:45:04.538Z"
   },
   {
    "duration": 160,
    "start_time": "2023-06-04T20:45:04.560Z"
   },
   {
    "duration": 44,
    "start_time": "2023-06-04T20:45:04.722Z"
   },
   {
    "duration": 178,
    "start_time": "2023-06-04T20:45:04.768Z"
   },
   {
    "duration": 18,
    "start_time": "2023-06-04T20:45:04.951Z"
   },
   {
    "duration": 200,
    "start_time": "2023-06-04T20:45:04.971Z"
   },
   {
    "duration": 12,
    "start_time": "2023-06-04T20:45:05.173Z"
   },
   {
    "duration": 10,
    "start_time": "2023-06-04T20:45:05.187Z"
   },
   {
    "duration": 34,
    "start_time": "2023-06-04T20:45:05.199Z"
   },
   {
    "duration": 25,
    "start_time": "2023-06-04T20:50:20.639Z"
   },
   {
    "duration": 31,
    "start_time": "2023-06-04T20:50:27.765Z"
   },
   {
    "duration": 22,
    "start_time": "2023-06-04T20:50:42.257Z"
   },
   {
    "duration": 19,
    "start_time": "2023-06-04T20:51:13.856Z"
   },
   {
    "duration": 20,
    "start_time": "2023-06-04T20:51:37.552Z"
   },
   {
    "duration": 13,
    "start_time": "2023-06-04T20:55:27.374Z"
   },
   {
    "duration": 1264,
    "start_time": "2023-06-04T20:57:28.724Z"
   },
   {
    "duration": 107,
    "start_time": "2023-06-04T20:57:29.991Z"
   },
   {
    "duration": 30,
    "start_time": "2023-06-04T20:57:30.100Z"
   },
   {
    "duration": 27,
    "start_time": "2023-06-04T20:57:30.149Z"
   },
   {
    "duration": 30,
    "start_time": "2023-06-04T20:57:30.178Z"
   },
   {
    "duration": 150,
    "start_time": "2023-06-04T20:57:30.209Z"
   },
   {
    "duration": 0,
    "start_time": "2023-06-04T20:57:30.366Z"
   },
   {
    "duration": 0,
    "start_time": "2023-06-04T20:57:30.367Z"
   },
   {
    "duration": 0,
    "start_time": "2023-06-04T20:57:30.368Z"
   },
   {
    "duration": 0,
    "start_time": "2023-06-04T20:57:30.369Z"
   },
   {
    "duration": 0,
    "start_time": "2023-06-04T20:57:30.370Z"
   },
   {
    "duration": 0,
    "start_time": "2023-06-04T20:57:30.371Z"
   },
   {
    "duration": 0,
    "start_time": "2023-06-04T20:57:30.372Z"
   },
   {
    "duration": 0,
    "start_time": "2023-06-04T20:57:30.373Z"
   },
   {
    "duration": 0,
    "start_time": "2023-06-04T20:57:30.374Z"
   },
   {
    "duration": 0,
    "start_time": "2023-06-04T20:57:30.375Z"
   },
   {
    "duration": 0,
    "start_time": "2023-06-04T20:57:30.376Z"
   },
   {
    "duration": 0,
    "start_time": "2023-06-04T20:57:30.377Z"
   },
   {
    "duration": 0,
    "start_time": "2023-06-04T20:57:30.378Z"
   },
   {
    "duration": 0,
    "start_time": "2023-06-04T20:57:30.379Z"
   },
   {
    "duration": 0,
    "start_time": "2023-06-04T20:57:30.380Z"
   },
   {
    "duration": 0,
    "start_time": "2023-06-04T20:57:30.382Z"
   },
   {
    "duration": 0,
    "start_time": "2023-06-04T20:57:30.382Z"
   },
   {
    "duration": 0,
    "start_time": "2023-06-04T20:57:30.383Z"
   },
   {
    "duration": 0,
    "start_time": "2023-06-04T20:57:30.385Z"
   },
   {
    "duration": 0,
    "start_time": "2023-06-04T20:57:30.386Z"
   },
   {
    "duration": 0,
    "start_time": "2023-06-04T20:57:30.387Z"
   },
   {
    "duration": 0,
    "start_time": "2023-06-04T20:57:30.388Z"
   },
   {
    "duration": 0,
    "start_time": "2023-06-04T20:57:30.389Z"
   },
   {
    "duration": 0,
    "start_time": "2023-06-04T20:57:30.390Z"
   },
   {
    "duration": 0,
    "start_time": "2023-06-04T20:57:30.392Z"
   },
   {
    "duration": 0,
    "start_time": "2023-06-04T20:57:30.393Z"
   },
   {
    "duration": 0,
    "start_time": "2023-06-04T20:57:30.425Z"
   },
   {
    "duration": 0,
    "start_time": "2023-06-04T20:57:30.425Z"
   },
   {
    "duration": 0,
    "start_time": "2023-06-04T20:57:30.426Z"
   },
   {
    "duration": 0,
    "start_time": "2023-06-04T20:57:30.426Z"
   },
   {
    "duration": 0,
    "start_time": "2023-06-04T20:57:30.427Z"
   },
   {
    "duration": 0,
    "start_time": "2023-06-04T20:57:30.428Z"
   },
   {
    "duration": 0,
    "start_time": "2023-06-04T20:57:30.428Z"
   },
   {
    "duration": 0,
    "start_time": "2023-06-04T20:57:30.430Z"
   },
   {
    "duration": 0,
    "start_time": "2023-06-04T20:57:30.430Z"
   },
   {
    "duration": 0,
    "start_time": "2023-06-04T20:57:30.431Z"
   },
   {
    "duration": 0,
    "start_time": "2023-06-04T20:57:30.432Z"
   },
   {
    "duration": 0,
    "start_time": "2023-06-04T20:57:30.432Z"
   },
   {
    "duration": 0,
    "start_time": "2023-06-04T20:57:30.433Z"
   },
   {
    "duration": 0,
    "start_time": "2023-06-04T20:57:30.435Z"
   },
   {
    "duration": 0,
    "start_time": "2023-06-04T20:57:30.435Z"
   },
   {
    "duration": 0,
    "start_time": "2023-06-04T20:57:30.436Z"
   },
   {
    "duration": 0,
    "start_time": "2023-06-04T20:57:30.437Z"
   },
   {
    "duration": 0,
    "start_time": "2023-06-04T20:57:30.438Z"
   },
   {
    "duration": 0,
    "start_time": "2023-06-04T20:57:30.439Z"
   },
   {
    "duration": 0,
    "start_time": "2023-06-04T20:57:30.440Z"
   },
   {
    "duration": 0,
    "start_time": "2023-06-04T20:57:30.443Z"
   },
   {
    "duration": 0,
    "start_time": "2023-06-04T20:57:30.443Z"
   },
   {
    "duration": 0,
    "start_time": "2023-06-04T20:57:30.444Z"
   },
   {
    "duration": 0,
    "start_time": "2023-06-04T20:57:30.445Z"
   },
   {
    "duration": 0,
    "start_time": "2023-06-04T20:57:30.446Z"
   },
   {
    "duration": 0,
    "start_time": "2023-06-04T20:57:30.447Z"
   },
   {
    "duration": 13,
    "start_time": "2023-06-04T20:58:03.572Z"
   },
   {
    "duration": 1208,
    "start_time": "2023-06-04T20:58:18.905Z"
   },
   {
    "duration": 95,
    "start_time": "2023-06-04T20:58:20.115Z"
   },
   {
    "duration": 24,
    "start_time": "2023-06-04T20:58:20.212Z"
   },
   {
    "duration": 6,
    "start_time": "2023-06-04T20:58:20.246Z"
   },
   {
    "duration": 32,
    "start_time": "2023-06-04T20:58:20.254Z"
   },
   {
    "duration": 11,
    "start_time": "2023-06-04T20:58:20.288Z"
   },
   {
    "duration": 11,
    "start_time": "2023-06-04T20:58:20.300Z"
   },
   {
    "duration": 20,
    "start_time": "2023-06-04T20:58:20.313Z"
   },
   {
    "duration": 25,
    "start_time": "2023-06-04T20:58:20.336Z"
   },
   {
    "duration": 10,
    "start_time": "2023-06-04T20:58:20.365Z"
   },
   {
    "duration": 6,
    "start_time": "2023-06-04T20:58:20.377Z"
   },
   {
    "duration": 28,
    "start_time": "2023-06-04T20:58:20.386Z"
   },
   {
    "duration": 51,
    "start_time": "2023-06-04T20:58:20.416Z"
   },
   {
    "duration": 17,
    "start_time": "2023-06-04T20:58:20.469Z"
   },
   {
    "duration": 10,
    "start_time": "2023-06-04T20:58:20.488Z"
   },
   {
    "duration": 4,
    "start_time": "2023-06-04T20:58:20.499Z"
   },
   {
    "duration": 32,
    "start_time": "2023-06-04T20:58:20.505Z"
   },
   {
    "duration": 7,
    "start_time": "2023-06-04T20:58:20.543Z"
   },
   {
    "duration": 19,
    "start_time": "2023-06-04T20:58:20.552Z"
   },
   {
    "duration": 3,
    "start_time": "2023-06-04T20:58:20.573Z"
   },
   {
    "duration": 26,
    "start_time": "2023-06-04T20:58:20.578Z"
   },
   {
    "duration": 45,
    "start_time": "2023-06-04T20:58:20.606Z"
   },
   {
    "duration": 4,
    "start_time": "2023-06-04T20:58:20.663Z"
   },
   {
    "duration": 19,
    "start_time": "2023-06-04T20:58:20.669Z"
   },
   {
    "duration": 33,
    "start_time": "2023-06-04T20:58:20.690Z"
   },
   {
    "duration": 110,
    "start_time": "2023-06-04T20:58:20.724Z"
   },
   {
    "duration": 13,
    "start_time": "2023-06-04T20:58:20.835Z"
   },
   {
    "duration": 71,
    "start_time": "2023-06-04T20:58:20.852Z"
   },
   {
    "duration": 49,
    "start_time": "2023-06-04T20:58:20.925Z"
   },
   {
    "duration": 457,
    "start_time": "2023-06-04T20:58:20.976Z"
   },
   {
    "duration": 21,
    "start_time": "2023-06-04T20:58:21.435Z"
   },
   {
    "duration": 21,
    "start_time": "2023-06-04T20:58:21.458Z"
   },
   {
    "duration": 556,
    "start_time": "2023-06-04T20:58:21.480Z"
   },
   {
    "duration": 28,
    "start_time": "2023-06-04T20:58:22.037Z"
   },
   {
    "duration": 37,
    "start_time": "2023-06-04T20:58:22.069Z"
   },
   {
    "duration": 389,
    "start_time": "2023-06-04T20:58:22.108Z"
   },
   {
    "duration": 7,
    "start_time": "2023-06-04T20:58:22.499Z"
   },
   {
    "duration": 51,
    "start_time": "2023-06-04T20:58:22.507Z"
   },
   {
    "duration": 10,
    "start_time": "2023-06-04T20:58:22.565Z"
   },
   {
    "duration": 30,
    "start_time": "2023-06-04T20:58:22.578Z"
   },
   {
    "duration": 5,
    "start_time": "2023-06-04T20:58:22.610Z"
   },
   {
    "duration": 57,
    "start_time": "2023-06-04T20:58:22.629Z"
   },
   {
    "duration": 186,
    "start_time": "2023-06-04T20:58:22.688Z"
   },
   {
    "duration": 221,
    "start_time": "2023-06-04T20:58:22.878Z"
   },
   {
    "duration": 131,
    "start_time": "2023-06-04T20:58:23.100Z"
   },
   {
    "duration": 39,
    "start_time": "2023-06-04T20:58:23.237Z"
   },
   {
    "duration": 122,
    "start_time": "2023-06-04T20:58:23.278Z"
   },
   {
    "duration": 166,
    "start_time": "2023-06-04T20:58:23.403Z"
   },
   {
    "duration": 167,
    "start_time": "2023-06-04T20:58:23.571Z"
   },
   {
    "duration": 20,
    "start_time": "2023-06-04T20:58:23.740Z"
   },
   {
    "duration": 222,
    "start_time": "2023-06-04T20:58:23.762Z"
   },
   {
    "duration": 20,
    "start_time": "2023-06-04T20:58:23.986Z"
   },
   {
    "duration": 245,
    "start_time": "2023-06-04T20:58:24.008Z"
   },
   {
    "duration": 20,
    "start_time": "2023-06-04T20:58:24.256Z"
   },
   {
    "duration": 195,
    "start_time": "2023-06-04T20:58:24.278Z"
   },
   {
    "duration": 15,
    "start_time": "2023-06-04T20:58:24.476Z"
   },
   {
    "duration": 10,
    "start_time": "2023-06-04T20:58:24.492Z"
   },
   {
    "duration": 24,
    "start_time": "2023-06-04T20:58:24.526Z"
   },
   {
    "duration": 21,
    "start_time": "2023-06-04T21:05:16.915Z"
   },
   {
    "duration": 14,
    "start_time": "2023-06-04T21:05:27.377Z"
   },
   {
    "duration": 1245,
    "start_time": "2023-06-04T21:05:39.859Z"
   },
   {
    "duration": 89,
    "start_time": "2023-06-04T21:05:41.105Z"
   },
   {
    "duration": 16,
    "start_time": "2023-06-04T21:05:41.196Z"
   },
   {
    "duration": 31,
    "start_time": "2023-06-04T21:05:41.214Z"
   },
   {
    "duration": 50,
    "start_time": "2023-06-04T21:05:41.247Z"
   },
   {
    "duration": 11,
    "start_time": "2023-06-04T21:05:41.300Z"
   },
   {
    "duration": 59,
    "start_time": "2023-06-04T21:05:41.313Z"
   },
   {
    "duration": 18,
    "start_time": "2023-06-04T21:05:41.375Z"
   },
   {
    "duration": 26,
    "start_time": "2023-06-04T21:05:41.394Z"
   },
   {
    "duration": 55,
    "start_time": "2023-06-04T21:05:41.421Z"
   },
   {
    "duration": 18,
    "start_time": "2023-06-04T21:05:41.479Z"
   },
   {
    "duration": 49,
    "start_time": "2023-06-04T21:05:41.499Z"
   },
   {
    "duration": 14,
    "start_time": "2023-06-04T21:05:41.552Z"
   },
   {
    "duration": 36,
    "start_time": "2023-06-04T21:05:41.570Z"
   },
   {
    "duration": 40,
    "start_time": "2023-06-04T21:05:41.608Z"
   },
   {
    "duration": 33,
    "start_time": "2023-06-04T21:05:41.650Z"
   },
   {
    "duration": 13,
    "start_time": "2023-06-04T21:05:41.685Z"
   },
   {
    "duration": 35,
    "start_time": "2023-06-04T21:05:41.699Z"
   },
   {
    "duration": 24,
    "start_time": "2023-06-04T21:05:41.740Z"
   },
   {
    "duration": 21,
    "start_time": "2023-06-04T21:05:41.766Z"
   },
   {
    "duration": 77,
    "start_time": "2023-06-04T21:05:41.789Z"
   },
   {
    "duration": 21,
    "start_time": "2023-06-04T21:05:41.868Z"
   },
   {
    "duration": 78,
    "start_time": "2023-06-04T21:05:41.890Z"
   },
   {
    "duration": 15,
    "start_time": "2023-06-04T21:05:41.973Z"
   },
   {
    "duration": 15,
    "start_time": "2023-06-04T21:05:41.989Z"
   },
   {
    "duration": 39,
    "start_time": "2023-06-04T21:05:42.006Z"
   },
   {
    "duration": 42,
    "start_time": "2023-06-04T21:05:42.046Z"
   },
   {
    "duration": 102,
    "start_time": "2023-06-04T21:05:42.091Z"
   },
   {
    "duration": 8,
    "start_time": "2023-06-04T21:05:42.195Z"
   },
   {
    "duration": 49,
    "start_time": "2023-06-04T21:05:42.204Z"
   },
   {
    "duration": 31,
    "start_time": "2023-06-04T21:05:42.255Z"
   },
   {
    "duration": 607,
    "start_time": "2023-06-04T21:05:42.288Z"
   },
   {
    "duration": 16,
    "start_time": "2023-06-04T21:05:42.897Z"
   },
   {
    "duration": 29,
    "start_time": "2023-06-04T21:05:42.925Z"
   },
   {
    "duration": 519,
    "start_time": "2023-06-04T21:05:42.957Z"
   },
   {
    "duration": 24,
    "start_time": "2023-06-04T21:05:43.477Z"
   },
   {
    "duration": 59,
    "start_time": "2023-06-04T21:05:43.502Z"
   },
   {
    "duration": 311,
    "start_time": "2023-06-04T21:05:43.564Z"
   },
   {
    "duration": 6,
    "start_time": "2023-06-04T21:05:43.877Z"
   },
   {
    "duration": 46,
    "start_time": "2023-06-04T21:05:43.885Z"
   },
   {
    "duration": 18,
    "start_time": "2023-06-04T21:05:43.940Z"
   },
   {
    "duration": 26,
    "start_time": "2023-06-04T21:05:43.960Z"
   },
   {
    "duration": 5,
    "start_time": "2023-06-04T21:05:43.987Z"
   },
   {
    "duration": 68,
    "start_time": "2023-06-04T21:05:43.994Z"
   },
   {
    "duration": 145,
    "start_time": "2023-06-04T21:05:44.063Z"
   },
   {
    "duration": 230,
    "start_time": "2023-06-04T21:05:44.210Z"
   },
   {
    "duration": 120,
    "start_time": "2023-06-04T21:05:44.441Z"
   },
   {
    "duration": 38,
    "start_time": "2023-06-04T21:05:44.563Z"
   },
   {
    "duration": 161,
    "start_time": "2023-06-04T21:05:44.603Z"
   },
   {
    "duration": 154,
    "start_time": "2023-06-04T21:05:44.767Z"
   },
   {
    "duration": 146,
    "start_time": "2023-06-04T21:05:44.926Z"
   },
   {
    "duration": 16,
    "start_time": "2023-06-04T21:05:45.077Z"
   },
   {
    "duration": 175,
    "start_time": "2023-06-04T21:05:45.095Z"
   },
   {
    "duration": 16,
    "start_time": "2023-06-04T21:05:45.271Z"
   },
   {
    "duration": 192,
    "start_time": "2023-06-04T21:05:45.289Z"
   },
   {
    "duration": 18,
    "start_time": "2023-06-04T21:05:45.484Z"
   },
   {
    "duration": 240,
    "start_time": "2023-06-04T21:05:45.504Z"
   },
   {
    "duration": 20,
    "start_time": "2023-06-04T21:05:45.753Z"
   },
   {
    "duration": 21,
    "start_time": "2023-06-04T21:05:45.775Z"
   },
   {
    "duration": 25,
    "start_time": "2023-06-04T21:05:45.798Z"
   },
   {
    "duration": 5,
    "start_time": "2023-06-04T21:14:09.106Z"
   },
   {
    "duration": 9,
    "start_time": "2023-06-04T21:14:19.187Z"
   },
   {
    "duration": 1428,
    "start_time": "2023-06-04T21:14:42.612Z"
   },
   {
    "duration": 75,
    "start_time": "2023-06-04T21:14:44.043Z"
   },
   {
    "duration": 22,
    "start_time": "2023-06-04T21:14:44.120Z"
   },
   {
    "duration": 4,
    "start_time": "2023-06-04T21:14:44.145Z"
   },
   {
    "duration": 23,
    "start_time": "2023-06-04T21:14:44.154Z"
   },
   {
    "duration": 8,
    "start_time": "2023-06-04T21:14:44.179Z"
   },
   {
    "duration": 10,
    "start_time": "2023-06-04T21:14:44.189Z"
   },
   {
    "duration": 30,
    "start_time": "2023-06-04T21:14:44.200Z"
   },
   {
    "duration": 22,
    "start_time": "2023-06-04T21:14:44.232Z"
   },
   {
    "duration": 26,
    "start_time": "2023-06-04T21:14:44.257Z"
   },
   {
    "duration": 12,
    "start_time": "2023-06-04T21:14:44.285Z"
   },
   {
    "duration": 6,
    "start_time": "2023-06-04T21:14:44.300Z"
   },
   {
    "duration": 5,
    "start_time": "2023-06-04T21:14:44.308Z"
   },
   {
    "duration": 13,
    "start_time": "2023-06-04T21:14:50.199Z"
   },
   {
    "duration": 1235,
    "start_time": "2023-06-04T21:20:39.680Z"
   },
   {
    "duration": 91,
    "start_time": "2023-06-04T21:20:40.918Z"
   },
   {
    "duration": 23,
    "start_time": "2023-06-04T21:20:41.010Z"
   },
   {
    "duration": 20,
    "start_time": "2023-06-04T21:20:41.034Z"
   },
   {
    "duration": 46,
    "start_time": "2023-06-04T21:20:41.058Z"
   },
   {
    "duration": 17,
    "start_time": "2023-06-04T21:20:41.106Z"
   },
   {
    "duration": 39,
    "start_time": "2023-06-04T21:20:41.125Z"
   },
   {
    "duration": 25,
    "start_time": "2023-06-04T21:20:41.165Z"
   },
   {
    "duration": 30,
    "start_time": "2023-06-04T21:20:41.192Z"
   },
   {
    "duration": 18,
    "start_time": "2023-06-04T21:20:41.224Z"
   },
   {
    "duration": 17,
    "start_time": "2023-06-04T21:20:41.248Z"
   },
   {
    "duration": 2,
    "start_time": "2023-06-04T21:20:41.267Z"
   },
   {
    "duration": 16,
    "start_time": "2023-06-04T21:20:41.271Z"
   },
   {
    "duration": 14,
    "start_time": "2023-06-04T21:21:17.083Z"
   },
   {
    "duration": 10,
    "start_time": "2023-06-04T21:22:52.354Z"
   },
   {
    "duration": 10,
    "start_time": "2023-06-04T21:22:55.004Z"
   },
   {
    "duration": 12,
    "start_time": "2023-06-04T21:25:30.098Z"
   },
   {
    "duration": 11,
    "start_time": "2023-06-04T21:32:22.519Z"
   },
   {
    "duration": 14,
    "start_time": "2023-06-04T21:32:25.540Z"
   },
   {
    "duration": 7,
    "start_time": "2023-06-04T21:39:04.463Z"
   },
   {
    "duration": 23,
    "start_time": "2023-06-04T21:39:06.950Z"
   },
   {
    "duration": 121,
    "start_time": "2023-06-04T22:04:47.864Z"
   },
   {
    "duration": 1259,
    "start_time": "2023-06-04T22:05:10.176Z"
   },
   {
    "duration": 102,
    "start_time": "2023-06-04T22:05:11.437Z"
   },
   {
    "duration": 23,
    "start_time": "2023-06-04T22:05:11.541Z"
   },
   {
    "duration": 3,
    "start_time": "2023-06-04T22:05:11.567Z"
   },
   {
    "duration": 31,
    "start_time": "2023-06-04T22:05:11.572Z"
   },
   {
    "duration": 8,
    "start_time": "2023-06-04T22:05:11.605Z"
   },
   {
    "duration": 26,
    "start_time": "2023-06-04T22:05:11.615Z"
   },
   {
    "duration": 9,
    "start_time": "2023-06-04T22:05:11.647Z"
   },
   {
    "duration": 18,
    "start_time": "2023-06-04T22:05:11.659Z"
   },
   {
    "duration": 16,
    "start_time": "2023-06-04T22:05:11.681Z"
   },
   {
    "duration": 11,
    "start_time": "2023-06-04T22:05:11.699Z"
   },
   {
    "duration": 23,
    "start_time": "2023-06-04T22:05:11.711Z"
   },
   {
    "duration": 18,
    "start_time": "2023-06-04T22:05:11.742Z"
   },
   {
    "duration": 24,
    "start_time": "2023-06-04T22:05:11.765Z"
   },
   {
    "duration": 13,
    "start_time": "2023-06-04T22:05:11.791Z"
   },
   {
    "duration": 8,
    "start_time": "2023-06-04T22:05:11.806Z"
   },
   {
    "duration": 26,
    "start_time": "2023-06-04T22:05:11.815Z"
   },
   {
    "duration": 15,
    "start_time": "2023-06-04T22:05:11.843Z"
   },
   {
    "duration": 15,
    "start_time": "2023-06-04T22:05:11.860Z"
   },
   {
    "duration": 21,
    "start_time": "2023-06-04T22:05:11.877Z"
   },
   {
    "duration": 8,
    "start_time": "2023-06-04T22:05:11.900Z"
   },
   {
    "duration": 42,
    "start_time": "2023-06-04T22:05:11.910Z"
   },
   {
    "duration": 9,
    "start_time": "2023-06-04T22:05:11.962Z"
   },
   {
    "duration": 25,
    "start_time": "2023-06-04T22:05:11.973Z"
   },
   {
    "duration": 11,
    "start_time": "2023-06-04T22:05:11.999Z"
   },
   {
    "duration": 4,
    "start_time": "2023-06-04T22:05:12.011Z"
   },
   {
    "duration": 39,
    "start_time": "2023-06-04T22:05:12.016Z"
   },
   {
    "duration": 36,
    "start_time": "2023-06-04T22:05:12.070Z"
   },
   {
    "duration": 5,
    "start_time": "2023-06-04T22:05:12.107Z"
   },
   {
    "duration": 19,
    "start_time": "2023-06-04T22:05:12.113Z"
   },
   {
    "duration": 253,
    "start_time": "2023-06-04T22:05:12.134Z"
   },
   {
    "duration": 0,
    "start_time": "2023-06-04T22:05:12.389Z"
   },
   {
    "duration": 1179,
    "start_time": "2023-06-04T22:06:31.753Z"
   },
   {
    "duration": 84,
    "start_time": "2023-06-04T22:06:32.936Z"
   },
   {
    "duration": 29,
    "start_time": "2023-06-04T22:06:33.022Z"
   },
   {
    "duration": 8,
    "start_time": "2023-06-04T22:06:33.053Z"
   },
   {
    "duration": 26,
    "start_time": "2023-06-04T22:06:33.063Z"
   },
   {
    "duration": 10,
    "start_time": "2023-06-04T22:06:33.091Z"
   },
   {
    "duration": 21,
    "start_time": "2023-06-04T22:06:33.103Z"
   },
   {
    "duration": 9,
    "start_time": "2023-06-04T22:06:33.127Z"
   },
   {
    "duration": 14,
    "start_time": "2023-06-04T22:06:33.137Z"
   },
   {
    "duration": 38,
    "start_time": "2023-06-04T22:06:33.153Z"
   },
   {
    "duration": 23,
    "start_time": "2023-06-04T22:06:33.193Z"
   },
   {
    "duration": 26,
    "start_time": "2023-06-04T22:06:33.218Z"
   },
   {
    "duration": 16,
    "start_time": "2023-06-04T22:06:33.249Z"
   },
   {
    "duration": 43,
    "start_time": "2023-06-04T22:06:33.271Z"
   },
   {
    "duration": 19,
    "start_time": "2023-06-04T22:06:33.316Z"
   },
   {
    "duration": 10,
    "start_time": "2023-06-04T22:06:33.338Z"
   },
   {
    "duration": 2,
    "start_time": "2023-06-04T22:06:33.351Z"
   },
   {
    "duration": 8,
    "start_time": "2023-06-04T22:06:33.355Z"
   },
   {
    "duration": 5,
    "start_time": "2023-06-04T22:06:33.366Z"
   },
   {
    "duration": 13,
    "start_time": "2023-06-04T22:06:33.373Z"
   },
   {
    "duration": 5,
    "start_time": "2023-06-04T22:06:33.387Z"
   },
   {
    "duration": 53,
    "start_time": "2023-06-04T22:06:33.394Z"
   },
   {
    "duration": 7,
    "start_time": "2023-06-04T22:06:33.453Z"
   },
   {
    "duration": 35,
    "start_time": "2023-06-04T22:06:33.465Z"
   },
   {
    "duration": 9,
    "start_time": "2023-06-04T22:06:33.501Z"
   },
   {
    "duration": 8,
    "start_time": "2023-06-04T22:06:33.511Z"
   },
   {
    "duration": 19,
    "start_time": "2023-06-04T22:06:33.520Z"
   },
   {
    "duration": 53,
    "start_time": "2023-06-04T22:06:33.542Z"
   },
   {
    "duration": 4,
    "start_time": "2023-06-04T22:06:33.597Z"
   },
   {
    "duration": 15,
    "start_time": "2023-06-04T22:06:33.603Z"
   },
   {
    "duration": 5,
    "start_time": "2023-06-04T22:06:33.625Z"
   },
   {
    "duration": 14,
    "start_time": "2023-06-04T22:06:33.632Z"
   },
   {
    "duration": 230,
    "start_time": "2023-06-04T22:07:03.371Z"
   },
   {
    "duration": 261,
    "start_time": "2023-06-04T22:07:12.874Z"
   },
   {
    "duration": 235,
    "start_time": "2023-06-04T22:07:25.927Z"
   },
   {
    "duration": 256,
    "start_time": "2023-06-04T22:12:04.000Z"
   },
   {
    "duration": 289,
    "start_time": "2023-06-04T22:12:11.725Z"
   },
   {
    "duration": 231,
    "start_time": "2023-06-04T22:12:21.789Z"
   },
   {
    "duration": 34,
    "start_time": "2023-06-04T22:23:09.664Z"
   },
   {
    "duration": 1667,
    "start_time": "2023-06-04T22:23:12.959Z"
   },
   {
    "duration": 14,
    "start_time": "2023-06-04T22:24:44.949Z"
   },
   {
    "duration": 29,
    "start_time": "2023-06-04T22:24:48.659Z"
   },
   {
    "duration": 37,
    "start_time": "2023-06-04T22:24:54.149Z"
   },
   {
    "duration": 8,
    "start_time": "2023-06-04T22:32:17.393Z"
   },
   {
    "duration": 9,
    "start_time": "2023-06-04T22:34:53.099Z"
   },
   {
    "duration": 24,
    "start_time": "2023-06-04T22:44:56.693Z"
   },
   {
    "duration": 106,
    "start_time": "2023-06-04T22:46:00.343Z"
   },
   {
    "duration": 896,
    "start_time": "2023-06-04T22:46:08.483Z"
   },
   {
    "duration": 685,
    "start_time": "2023-06-04T22:47:47.011Z"
   },
   {
    "duration": 4078,
    "start_time": "2023-06-04T22:48:09.144Z"
   },
   {
    "duration": 1227,
    "start_time": "2023-06-04T22:55:02.089Z"
   },
   {
    "duration": 81,
    "start_time": "2023-06-04T22:55:03.318Z"
   },
   {
    "duration": 15,
    "start_time": "2023-06-04T22:55:03.401Z"
   },
   {
    "duration": 27,
    "start_time": "2023-06-04T22:55:03.419Z"
   },
   {
    "duration": 31,
    "start_time": "2023-06-04T22:55:03.450Z"
   },
   {
    "duration": 20,
    "start_time": "2023-06-04T22:55:03.483Z"
   },
   {
    "duration": 28,
    "start_time": "2023-06-04T22:55:03.505Z"
   },
   {
    "duration": 6,
    "start_time": "2023-06-04T22:55:03.539Z"
   },
   {
    "duration": 20,
    "start_time": "2023-06-04T22:55:03.547Z"
   },
   {
    "duration": 18,
    "start_time": "2023-06-04T22:55:03.569Z"
   },
   {
    "duration": 15,
    "start_time": "2023-06-04T22:55:03.590Z"
   },
   {
    "duration": 20,
    "start_time": "2023-06-04T22:55:03.607Z"
   },
   {
    "duration": 20,
    "start_time": "2023-06-04T22:55:03.628Z"
   },
   {
    "duration": 49,
    "start_time": "2023-06-04T22:55:03.652Z"
   },
   {
    "duration": 28,
    "start_time": "2023-06-04T22:55:03.703Z"
   },
   {
    "duration": 17,
    "start_time": "2023-06-04T22:55:03.733Z"
   },
   {
    "duration": 6,
    "start_time": "2023-06-04T22:55:03.752Z"
   },
   {
    "duration": 6,
    "start_time": "2023-06-04T22:55:03.760Z"
   },
   {
    "duration": 5,
    "start_time": "2023-06-04T22:55:03.768Z"
   },
   {
    "duration": 18,
    "start_time": "2023-06-04T22:55:03.775Z"
   },
   {
    "duration": 5,
    "start_time": "2023-06-04T22:55:03.795Z"
   },
   {
    "duration": 35,
    "start_time": "2023-06-04T22:55:03.828Z"
   },
   {
    "duration": 16,
    "start_time": "2023-06-04T22:55:03.865Z"
   },
   {
    "duration": 40,
    "start_time": "2023-06-04T22:55:03.883Z"
   },
   {
    "duration": 20,
    "start_time": "2023-06-04T22:55:03.925Z"
   },
   {
    "duration": 7,
    "start_time": "2023-06-04T22:55:03.950Z"
   },
   {
    "duration": 23,
    "start_time": "2023-06-04T22:55:03.959Z"
   },
   {
    "duration": 56,
    "start_time": "2023-06-04T22:55:03.984Z"
   },
   {
    "duration": 6,
    "start_time": "2023-06-04T22:55:04.043Z"
   },
   {
    "duration": 32,
    "start_time": "2023-06-04T22:55:04.051Z"
   },
   {
    "duration": 10,
    "start_time": "2023-06-04T22:55:04.085Z"
   },
   {
    "duration": 9,
    "start_time": "2023-06-04T22:55:04.096Z"
   },
   {
    "duration": 268,
    "start_time": "2023-06-04T22:55:04.107Z"
   },
   {
    "duration": 9,
    "start_time": "2023-06-04T22:55:04.378Z"
   },
   {
    "duration": 62,
    "start_time": "2023-06-04T22:55:04.389Z"
   },
   {
    "duration": 28,
    "start_time": "2023-06-04T22:55:04.453Z"
   },
   {
    "duration": 503,
    "start_time": "2023-06-04T22:55:04.483Z"
   },
   {
    "duration": 10,
    "start_time": "2023-06-04T22:55:04.988Z"
   },
   {
    "duration": 2,
    "start_time": "2023-06-04T22:55:05.000Z"
   },
   {
    "duration": 284,
    "start_time": "2023-06-04T22:57:08.938Z"
   },
   {
    "duration": 229,
    "start_time": "2023-06-04T22:58:10.501Z"
   },
   {
    "duration": 221,
    "start_time": "2023-06-04T22:58:53.912Z"
   },
   {
    "duration": 951,
    "start_time": "2023-06-04T22:59:24.282Z"
   },
   {
    "duration": 1028,
    "start_time": "2023-06-04T23:00:33.968Z"
   },
   {
    "duration": 493,
    "start_time": "2023-06-04T23:01:44.894Z"
   },
   {
    "duration": 1061,
    "start_time": "2023-06-04T23:02:43.702Z"
   },
   {
    "duration": 1177,
    "start_time": "2023-06-04T23:03:38.787Z"
   },
   {
    "duration": 6,
    "start_time": "2023-06-04T23:07:03.266Z"
   },
   {
    "duration": 5,
    "start_time": "2023-06-04T23:21:07.725Z"
   },
   {
    "duration": 7,
    "start_time": "2023-06-04T23:26:58.287Z"
   },
   {
    "duration": 36,
    "start_time": "2023-06-04T23:28:43.040Z"
   },
   {
    "duration": 15,
    "start_time": "2023-06-04T23:32:19.968Z"
   },
   {
    "duration": 116,
    "start_time": "2023-06-04T23:32:32.065Z"
   },
   {
    "duration": 1349,
    "start_time": "2023-06-05T09:49:53.162Z"
   },
   {
    "duration": 205,
    "start_time": "2023-06-05T09:49:54.513Z"
   },
   {
    "duration": 17,
    "start_time": "2023-06-05T09:49:54.719Z"
   },
   {
    "duration": 13,
    "start_time": "2023-06-05T09:49:54.738Z"
   },
   {
    "duration": 28,
    "start_time": "2023-06-05T09:49:54.754Z"
   },
   {
    "duration": 19,
    "start_time": "2023-06-05T09:49:54.783Z"
   },
   {
    "duration": 14,
    "start_time": "2023-06-05T09:49:54.804Z"
   },
   {
    "duration": 5,
    "start_time": "2023-06-05T09:49:54.820Z"
   },
   {
    "duration": 27,
    "start_time": "2023-06-05T09:49:54.827Z"
   },
   {
    "duration": 28,
    "start_time": "2023-06-05T09:49:54.855Z"
   },
   {
    "duration": 48,
    "start_time": "2023-06-05T09:49:54.885Z"
   },
   {
    "duration": 69,
    "start_time": "2023-06-05T09:49:54.934Z"
   },
   {
    "duration": 29,
    "start_time": "2023-06-05T09:49:55.004Z"
   },
   {
    "duration": 38,
    "start_time": "2023-06-05T09:49:55.037Z"
   },
   {
    "duration": 27,
    "start_time": "2023-06-05T09:49:55.076Z"
   },
   {
    "duration": 9,
    "start_time": "2023-06-05T09:49:55.105Z"
   },
   {
    "duration": 10,
    "start_time": "2023-06-05T09:49:55.116Z"
   },
   {
    "duration": 13,
    "start_time": "2023-06-05T09:49:55.127Z"
   },
   {
    "duration": 19,
    "start_time": "2023-06-05T09:49:55.142Z"
   },
   {
    "duration": 23,
    "start_time": "2023-06-05T09:49:55.162Z"
   },
   {
    "duration": 11,
    "start_time": "2023-06-05T09:49:55.186Z"
   },
   {
    "duration": 30,
    "start_time": "2023-06-05T09:49:55.199Z"
   },
   {
    "duration": 6,
    "start_time": "2023-06-05T09:49:55.231Z"
   },
   {
    "duration": 49,
    "start_time": "2023-06-05T09:49:55.239Z"
   },
   {
    "duration": 8,
    "start_time": "2023-06-05T09:49:55.290Z"
   },
   {
    "duration": 20,
    "start_time": "2023-06-05T09:49:55.300Z"
   },
   {
    "duration": 14,
    "start_time": "2023-06-05T09:49:55.323Z"
   },
   {
    "duration": 35,
    "start_time": "2023-06-05T09:49:55.339Z"
   },
   {
    "duration": 6,
    "start_time": "2023-06-05T09:49:55.376Z"
   },
   {
    "duration": 47,
    "start_time": "2023-06-05T09:49:55.383Z"
   },
   {
    "duration": 13,
    "start_time": "2023-06-05T09:49:55.432Z"
   },
   {
    "duration": 11,
    "start_time": "2023-06-05T09:49:55.446Z"
   },
   {
    "duration": 216,
    "start_time": "2023-06-05T09:49:55.459Z"
   },
   {
    "duration": 8,
    "start_time": "2023-06-05T09:49:55.676Z"
   },
   {
    "duration": 46,
    "start_time": "2023-06-05T09:49:55.686Z"
   },
   {
    "duration": 26,
    "start_time": "2023-06-05T09:49:55.734Z"
   },
   {
    "duration": 414,
    "start_time": "2023-06-05T09:49:55.761Z"
   },
   {
    "duration": 8,
    "start_time": "2023-06-05T09:49:56.176Z"
   },
   {
    "duration": 14,
    "start_time": "2023-06-05T09:49:56.186Z"
   },
   {
    "duration": 214,
    "start_time": "2023-06-05T09:49:56.202Z"
   },
   {
    "duration": 1210,
    "start_time": "2023-06-05T09:49:56.424Z"
   },
   {
    "duration": 29,
    "start_time": "2023-06-05T10:02:54.404Z"
   },
   {
    "duration": 198,
    "start_time": "2023-06-05T10:08:02.237Z"
   },
   {
    "duration": 34,
    "start_time": "2023-06-05T10:14:22.576Z"
   },
   {
    "duration": 196,
    "start_time": "2023-06-05T10:14:39.119Z"
   },
   {
    "duration": 290,
    "start_time": "2023-06-05T10:14:52.267Z"
   },
   {
    "duration": 290,
    "start_time": "2023-06-05T10:18:41.305Z"
   },
   {
    "duration": 325,
    "start_time": "2023-06-05T10:19:51.619Z"
   },
   {
    "duration": 412,
    "start_time": "2023-06-05T10:19:59.784Z"
   },
   {
    "duration": 891,
    "start_time": "2023-06-05T10:20:11.074Z"
   },
   {
    "duration": 666,
    "start_time": "2023-06-05T10:20:23.290Z"
   },
   {
    "duration": 695,
    "start_time": "2023-06-05T10:20:30.550Z"
   },
   {
    "duration": 738,
    "start_time": "2023-06-05T10:20:40.845Z"
   },
   {
    "duration": 342,
    "start_time": "2023-06-05T10:21:04.613Z"
   },
   {
    "duration": 354,
    "start_time": "2023-06-05T10:21:11.819Z"
   },
   {
    "duration": 366,
    "start_time": "2023-06-05T10:21:19.932Z"
   },
   {
    "duration": 336,
    "start_time": "2023-06-05T10:22:51.750Z"
   },
   {
    "duration": 923,
    "start_time": "2023-06-05T10:33:15.437Z"
   },
   {
    "duration": 320,
    "start_time": "2023-06-05T10:39:41.739Z"
   },
   {
    "duration": 319,
    "start_time": "2023-06-05T10:39:50.175Z"
   },
   {
    "duration": 207,
    "start_time": "2023-06-05T10:43:03.092Z"
   },
   {
    "duration": 233,
    "start_time": "2023-06-05T10:43:40.933Z"
   },
   {
    "duration": 1205,
    "start_time": "2023-06-05T10:43:56.720Z"
   },
   {
    "duration": 1276,
    "start_time": "2023-06-05T10:46:11.093Z"
   },
   {
    "duration": 73,
    "start_time": "2023-06-05T10:46:12.371Z"
   },
   {
    "duration": 16,
    "start_time": "2023-06-05T10:46:12.446Z"
   },
   {
    "duration": 8,
    "start_time": "2023-06-05T10:46:12.464Z"
   },
   {
    "duration": 27,
    "start_time": "2023-06-05T10:46:12.474Z"
   },
   {
    "duration": 25,
    "start_time": "2023-06-05T10:46:12.503Z"
   },
   {
    "duration": 15,
    "start_time": "2023-06-05T10:46:12.530Z"
   },
   {
    "duration": 15,
    "start_time": "2023-06-05T10:46:12.547Z"
   },
   {
    "duration": 24,
    "start_time": "2023-06-05T10:46:12.564Z"
   },
   {
    "duration": 19,
    "start_time": "2023-06-05T10:46:12.591Z"
   },
   {
    "duration": 18,
    "start_time": "2023-06-05T10:46:12.612Z"
   },
   {
    "duration": 3,
    "start_time": "2023-06-05T10:46:12.631Z"
   },
   {
    "duration": 17,
    "start_time": "2023-06-05T10:46:12.635Z"
   },
   {
    "duration": 38,
    "start_time": "2023-06-05T10:46:12.654Z"
   },
   {
    "duration": 16,
    "start_time": "2023-06-05T10:46:12.694Z"
   },
   {
    "duration": 20,
    "start_time": "2023-06-05T10:46:12.711Z"
   },
   {
    "duration": 16,
    "start_time": "2023-06-05T10:46:12.733Z"
   },
   {
    "duration": 12,
    "start_time": "2023-06-05T10:46:12.751Z"
   },
   {
    "duration": 7,
    "start_time": "2023-06-05T10:46:12.765Z"
   },
   {
    "duration": 13,
    "start_time": "2023-06-05T10:46:12.774Z"
   },
   {
    "duration": 6,
    "start_time": "2023-06-05T10:46:12.789Z"
   },
   {
    "duration": 37,
    "start_time": "2023-06-05T10:46:12.796Z"
   },
   {
    "duration": 16,
    "start_time": "2023-06-05T10:46:12.835Z"
   },
   {
    "duration": 40,
    "start_time": "2023-06-05T10:46:12.852Z"
   },
   {
    "duration": 9,
    "start_time": "2023-06-05T10:46:12.894Z"
   },
   {
    "duration": 21,
    "start_time": "2023-06-05T10:46:12.905Z"
   },
   {
    "duration": 15,
    "start_time": "2023-06-05T10:46:12.928Z"
   },
   {
    "duration": 43,
    "start_time": "2023-06-05T10:46:12.946Z"
   },
   {
    "duration": 5,
    "start_time": "2023-06-05T10:46:12.991Z"
   },
   {
    "duration": 33,
    "start_time": "2023-06-05T10:46:12.998Z"
   },
   {
    "duration": 12,
    "start_time": "2023-06-05T10:46:13.033Z"
   },
   {
    "duration": 13,
    "start_time": "2023-06-05T10:46:13.046Z"
   },
   {
    "duration": 215,
    "start_time": "2023-06-05T10:46:13.061Z"
   },
   {
    "duration": 9,
    "start_time": "2023-06-05T10:46:13.278Z"
   },
   {
    "duration": 44,
    "start_time": "2023-06-05T10:46:13.288Z"
   },
   {
    "duration": 28,
    "start_time": "2023-06-05T10:46:13.333Z"
   },
   {
    "duration": 432,
    "start_time": "2023-06-05T10:46:13.362Z"
   },
   {
    "duration": 9,
    "start_time": "2023-06-05T10:46:13.796Z"
   },
   {
    "duration": 18,
    "start_time": "2023-06-05T10:46:13.807Z"
   },
   {
    "duration": 212,
    "start_time": "2023-06-05T10:46:13.827Z"
   },
   {
    "duration": 1086,
    "start_time": "2023-06-05T10:46:14.041Z"
   },
   {
    "duration": 3,
    "start_time": "2023-06-05T10:46:15.129Z"
   },
   {
    "duration": 6,
    "start_time": "2023-06-05T10:46:15.133Z"
   },
   {
    "duration": 21,
    "start_time": "2023-06-05T10:46:27.574Z"
   },
   {
    "duration": 372,
    "start_time": "2023-06-05T10:46:47.507Z"
   },
   {
    "duration": 294,
    "start_time": "2023-06-05T10:48:22.026Z"
   },
   {
    "duration": 5,
    "start_time": "2023-06-05T10:52:20.875Z"
   },
   {
    "duration": 16,
    "start_time": "2023-06-05T10:56:36.258Z"
   },
   {
    "duration": 12,
    "start_time": "2023-06-05T10:59:14.138Z"
   },
   {
    "duration": 22,
    "start_time": "2023-06-05T10:59:50.599Z"
   },
   {
    "duration": 21,
    "start_time": "2023-06-05T11:01:31.002Z"
   },
   {
    "duration": 299,
    "start_time": "2023-06-05T11:05:17.363Z"
   },
   {
    "duration": 499,
    "start_time": "2023-06-05T11:05:33.958Z"
   },
   {
    "duration": 233,
    "start_time": "2023-06-05T11:07:19.213Z"
   },
   {
    "duration": 441,
    "start_time": "2023-06-05T11:11:50.813Z"
   },
   {
    "duration": 861,
    "start_time": "2023-06-05T11:13:28.577Z"
   },
   {
    "duration": 531,
    "start_time": "2023-06-05T11:13:38.279Z"
   },
   {
    "duration": 128,
    "start_time": "2023-06-05T11:15:37.971Z"
   },
   {
    "duration": 141,
    "start_time": "2023-06-05T11:17:13.917Z"
   },
   {
    "duration": 5,
    "start_time": "2023-06-05T11:18:02.978Z"
   },
   {
    "duration": 130,
    "start_time": "2023-06-05T11:20:05.166Z"
   },
   {
    "duration": 16,
    "start_time": "2023-06-05T11:21:42.533Z"
   },
   {
    "duration": 594,
    "start_time": "2023-06-05T11:23:36.400Z"
   },
   {
    "duration": 19,
    "start_time": "2023-06-05T11:25:24.775Z"
   },
   {
    "duration": 913,
    "start_time": "2023-06-05T11:25:54.714Z"
   },
   {
    "duration": 849,
    "start_time": "2023-06-05T11:29:09.403Z"
   },
   {
    "duration": 106,
    "start_time": "2023-06-05T11:29:53.212Z"
   },
   {
    "duration": 755,
    "start_time": "2023-06-05T11:30:43.144Z"
   },
   {
    "duration": 1224,
    "start_time": "2023-06-05T11:31:15.636Z"
   },
   {
    "duration": 1179,
    "start_time": "2023-06-05T11:31:58.346Z"
   },
   {
    "duration": 530,
    "start_time": "2023-06-05T11:34:03.644Z"
   },
   {
    "duration": 434,
    "start_time": "2023-06-05T11:35:31.044Z"
   },
   {
    "duration": 491,
    "start_time": "2023-06-05T11:41:38.606Z"
   },
   {
    "duration": 321,
    "start_time": "2023-06-05T11:43:30.106Z"
   },
   {
    "duration": 464,
    "start_time": "2023-06-05T11:44:43.011Z"
   },
   {
    "duration": 502,
    "start_time": "2023-06-05T11:45:53.896Z"
   },
   {
    "duration": 634,
    "start_time": "2023-06-05T11:47:38.715Z"
   },
   {
    "duration": 486,
    "start_time": "2023-06-05T11:48:15.877Z"
   },
   {
    "duration": 294,
    "start_time": "2023-06-05T11:49:00.574Z"
   },
   {
    "duration": 446,
    "start_time": "2023-06-05T11:49:07.140Z"
   },
   {
    "duration": 433,
    "start_time": "2023-06-05T11:50:19.062Z"
   },
   {
    "duration": 647,
    "start_time": "2023-06-05T11:50:29.083Z"
   },
   {
    "duration": 446,
    "start_time": "2023-06-05T11:50:40.454Z"
   },
   {
    "duration": 447,
    "start_time": "2023-06-05T11:51:10.257Z"
   },
   {
    "duration": 511,
    "start_time": "2023-06-05T11:52:02.904Z"
   },
   {
    "duration": 773,
    "start_time": "2023-06-05T11:54:23.380Z"
   },
   {
    "duration": 587,
    "start_time": "2023-06-05T11:55:44.954Z"
   },
   {
    "duration": 687,
    "start_time": "2023-06-05T12:00:51.234Z"
   },
   {
    "duration": 9,
    "start_time": "2023-06-05T12:01:14.990Z"
   },
   {
    "duration": 724,
    "start_time": "2023-06-05T12:01:46.421Z"
   },
   {
    "duration": 556,
    "start_time": "2023-06-05T12:01:56.036Z"
   },
   {
    "duration": 730,
    "start_time": "2023-06-05T12:06:32.307Z"
   },
   {
    "duration": 821,
    "start_time": "2023-06-05T12:07:39.552Z"
   },
   {
    "duration": 861,
    "start_time": "2023-06-05T12:07:50.113Z"
   },
   {
    "duration": 715,
    "start_time": "2023-06-05T12:07:58.317Z"
   },
   {
    "duration": 698,
    "start_time": "2023-06-05T12:08:10.896Z"
   },
   {
    "duration": 876,
    "start_time": "2023-06-05T12:08:17.108Z"
   },
   {
    "duration": 789,
    "start_time": "2023-06-05T12:09:01.640Z"
   },
   {
    "duration": 955,
    "start_time": "2023-06-05T12:09:19.793Z"
   },
   {
    "duration": 936,
    "start_time": "2023-06-05T12:11:23.215Z"
   },
   {
    "duration": 948,
    "start_time": "2023-06-05T12:11:48.407Z"
   },
   {
    "duration": 885,
    "start_time": "2023-06-05T12:12:08.550Z"
   },
   {
    "duration": 826,
    "start_time": "2023-06-05T12:12:17.254Z"
   },
   {
    "duration": 366,
    "start_time": "2023-06-05T12:15:15.965Z"
   },
   {
    "duration": 528,
    "start_time": "2023-06-05T12:15:38.587Z"
   },
   {
    "duration": 435,
    "start_time": "2023-06-05T12:16:03.779Z"
   },
   {
    "duration": 430,
    "start_time": "2023-06-05T12:16:12.811Z"
   },
   {
    "duration": 464,
    "start_time": "2023-06-05T12:17:24.905Z"
   },
   {
    "duration": 435,
    "start_time": "2023-06-05T12:17:34.939Z"
   },
   {
    "duration": 413,
    "start_time": "2023-06-05T12:17:41.170Z"
   },
   {
    "duration": 615,
    "start_time": "2023-06-05T12:17:49.398Z"
   },
   {
    "duration": 465,
    "start_time": "2023-06-05T12:18:00.210Z"
   },
   {
    "duration": 485,
    "start_time": "2023-06-05T12:18:08.213Z"
   },
   {
    "duration": 522,
    "start_time": "2023-06-05T12:18:17.608Z"
   },
   {
    "duration": 453,
    "start_time": "2023-06-05T12:18:22.848Z"
   },
   {
    "duration": 682,
    "start_time": "2023-06-05T12:18:29.708Z"
   },
   {
    "duration": 480,
    "start_time": "2023-06-05T12:18:39.748Z"
   },
   {
    "duration": 531,
    "start_time": "2023-06-05T12:18:54.489Z"
   },
   {
    "duration": 437,
    "start_time": "2023-06-05T12:19:02.338Z"
   },
   {
    "duration": 474,
    "start_time": "2023-06-05T12:19:08.867Z"
   },
   {
    "duration": 434,
    "start_time": "2023-06-05T12:19:17.346Z"
   },
   {
    "duration": 645,
    "start_time": "2023-06-05T12:19:22.670Z"
   },
   {
    "duration": 507,
    "start_time": "2023-06-05T12:19:33.701Z"
   },
   {
    "duration": 476,
    "start_time": "2023-06-05T12:19:38.784Z"
   },
   {
    "duration": 467,
    "start_time": "2023-06-05T12:19:50.029Z"
   },
   {
    "duration": 463,
    "start_time": "2023-06-05T12:20:01.852Z"
   },
   {
    "duration": 572,
    "start_time": "2023-06-05T12:20:07.219Z"
   },
   {
    "duration": 477,
    "start_time": "2023-06-05T12:20:13.410Z"
   },
   {
    "duration": 486,
    "start_time": "2023-06-05T12:20:26.069Z"
   },
   {
    "duration": 448,
    "start_time": "2023-06-05T12:20:41.932Z"
   },
   {
    "duration": 443,
    "start_time": "2023-06-05T12:20:46.375Z"
   },
   {
    "duration": 519,
    "start_time": "2023-06-05T12:21:49.428Z"
   },
   {
    "duration": 603,
    "start_time": "2023-06-05T12:22:04.811Z"
   },
   {
    "duration": 438,
    "start_time": "2023-06-05T12:22:26.442Z"
   },
   {
    "duration": 461,
    "start_time": "2023-06-05T12:23:44.894Z"
   },
   {
    "duration": 483,
    "start_time": "2023-06-05T12:23:53.580Z"
   },
   {
    "duration": 433,
    "start_time": "2023-06-05T12:24:07.466Z"
   },
   {
    "duration": 547,
    "start_time": "2023-06-05T12:24:16.932Z"
   },
   {
    "duration": 457,
    "start_time": "2023-06-05T12:24:23.600Z"
   },
   {
    "duration": 424,
    "start_time": "2023-06-05T12:24:28.855Z"
   },
   {
    "duration": 475,
    "start_time": "2023-06-05T12:24:34.404Z"
   },
   {
    "duration": 440,
    "start_time": "2023-06-05T12:24:42.187Z"
   },
   {
    "duration": 434,
    "start_time": "2023-06-05T12:25:06.372Z"
   },
   {
    "duration": 1186,
    "start_time": "2023-06-05T12:29:42.803Z"
   },
   {
    "duration": 84,
    "start_time": "2023-06-05T12:29:43.992Z"
   },
   {
    "duration": 17,
    "start_time": "2023-06-05T12:29:44.078Z"
   },
   {
    "duration": 8,
    "start_time": "2023-06-05T12:29:44.097Z"
   },
   {
    "duration": 36,
    "start_time": "2023-06-05T12:29:44.108Z"
   },
   {
    "duration": 9,
    "start_time": "2023-06-05T12:29:44.146Z"
   },
   {
    "duration": 12,
    "start_time": "2023-06-05T12:29:44.156Z"
   },
   {
    "duration": 6,
    "start_time": "2023-06-05T12:29:44.170Z"
   },
   {
    "duration": 27,
    "start_time": "2023-06-05T12:29:44.177Z"
   },
   {
    "duration": 13,
    "start_time": "2023-06-05T12:29:44.206Z"
   },
   {
    "duration": 10,
    "start_time": "2023-06-05T12:29:44.225Z"
   },
   {
    "duration": 3,
    "start_time": "2023-06-05T12:29:44.237Z"
   },
   {
    "duration": 6,
    "start_time": "2023-06-05T12:29:44.241Z"
   },
   {
    "duration": 23,
    "start_time": "2023-06-05T12:29:44.251Z"
   },
   {
    "duration": 48,
    "start_time": "2023-06-05T12:29:44.277Z"
   },
   {
    "duration": 10,
    "start_time": "2023-06-05T12:29:44.327Z"
   },
   {
    "duration": 2,
    "start_time": "2023-06-05T12:29:44.339Z"
   },
   {
    "duration": 5,
    "start_time": "2023-06-05T12:29:44.343Z"
   },
   {
    "duration": 7,
    "start_time": "2023-06-05T12:29:44.350Z"
   },
   {
    "duration": 11,
    "start_time": "2023-06-05T12:29:44.358Z"
   },
   {
    "duration": 4,
    "start_time": "2023-06-05T12:29:44.371Z"
   },
   {
    "duration": 15,
    "start_time": "2023-06-05T12:29:44.377Z"
   },
   {
    "duration": 4,
    "start_time": "2023-06-05T12:29:44.425Z"
   },
   {
    "duration": 30,
    "start_time": "2023-06-05T12:29:44.430Z"
   },
   {
    "duration": 8,
    "start_time": "2023-06-05T12:29:44.462Z"
   },
   {
    "duration": 3,
    "start_time": "2023-06-05T12:29:44.472Z"
   },
   {
    "duration": 17,
    "start_time": "2023-06-05T12:29:44.477Z"
   },
   {
    "duration": 61,
    "start_time": "2023-06-05T12:29:44.495Z"
   },
   {
    "duration": 5,
    "start_time": "2023-06-05T12:29:44.557Z"
   },
   {
    "duration": 29,
    "start_time": "2023-06-05T12:29:44.563Z"
   },
   {
    "duration": 9,
    "start_time": "2023-06-05T12:29:44.593Z"
   },
   {
    "duration": 12,
    "start_time": "2023-06-05T12:29:44.604Z"
   },
   {
    "duration": 269,
    "start_time": "2023-06-05T12:29:44.617Z"
   },
   {
    "duration": 9,
    "start_time": "2023-06-05T12:29:44.888Z"
   },
   {
    "duration": 44,
    "start_time": "2023-06-05T12:29:44.899Z"
   },
   {
    "duration": 30,
    "start_time": "2023-06-05T12:29:44.945Z"
   },
   {
    "duration": 439,
    "start_time": "2023-06-05T12:29:44.977Z"
   },
   {
    "duration": 9,
    "start_time": "2023-06-05T12:29:45.425Z"
   },
   {
    "duration": 3,
    "start_time": "2023-06-05T12:29:45.435Z"
   },
   {
    "duration": 214,
    "start_time": "2023-06-05T12:29:45.439Z"
   },
   {
    "duration": 1032,
    "start_time": "2023-06-05T12:29:45.656Z"
   },
   {
    "duration": 2,
    "start_time": "2023-06-05T12:29:46.690Z"
   },
   {
    "duration": 8,
    "start_time": "2023-06-05T12:29:46.694Z"
   },
   {
    "duration": 27,
    "start_time": "2023-06-05T12:29:46.704Z"
   },
   {
    "duration": 478,
    "start_time": "2023-06-05T12:29:46.733Z"
   },
   {
    "duration": 414,
    "start_time": "2023-06-05T12:29:47.213Z"
   },
   {
    "duration": 326,
    "start_time": "2023-06-05T12:30:36.670Z"
   },
   {
    "duration": 444,
    "start_time": "2023-06-05T12:30:48.002Z"
   },
   {
    "duration": 299,
    "start_time": "2023-06-05T12:31:13.170Z"
   },
   {
    "duration": 471,
    "start_time": "2023-06-05T12:31:17.385Z"
   },
   {
    "duration": 518,
    "start_time": "2023-06-05T12:31:52.047Z"
   },
   {
    "duration": 491,
    "start_time": "2023-06-05T12:32:05.102Z"
   },
   {
    "duration": 472,
    "start_time": "2023-06-05T12:32:11.494Z"
   },
   {
    "duration": 417,
    "start_time": "2023-06-05T12:32:16.061Z"
   },
   {
    "duration": 466,
    "start_time": "2023-06-05T12:32:33.204Z"
   },
   {
    "duration": 101,
    "start_time": "2023-06-05T12:45:08.667Z"
   },
   {
    "duration": 109,
    "start_time": "2023-06-05T12:45:45.894Z"
   },
   {
    "duration": 962,
    "start_time": "2023-06-05T12:45:57.247Z"
   },
   {
    "duration": 1822,
    "start_time": "2023-06-05T14:31:33.395Z"
   },
   {
    "duration": 297,
    "start_time": "2023-06-05T14:31:35.220Z"
   },
   {
    "duration": 26,
    "start_time": "2023-06-05T14:31:35.519Z"
   },
   {
    "duration": 4,
    "start_time": "2023-06-05T14:31:35.547Z"
   },
   {
    "duration": 37,
    "start_time": "2023-06-05T14:31:35.554Z"
   },
   {
    "duration": 21,
    "start_time": "2023-06-05T14:31:35.594Z"
   },
   {
    "duration": 13,
    "start_time": "2023-06-05T14:31:35.617Z"
   },
   {
    "duration": 42,
    "start_time": "2023-06-05T14:31:35.634Z"
   },
   {
    "duration": 23,
    "start_time": "2023-06-05T14:31:35.677Z"
   },
   {
    "duration": 13,
    "start_time": "2023-06-05T14:31:35.702Z"
   },
   {
    "duration": 24,
    "start_time": "2023-06-05T14:31:35.717Z"
   },
   {
    "duration": 8,
    "start_time": "2023-06-05T14:31:35.743Z"
   },
   {
    "duration": 19,
    "start_time": "2023-06-05T14:31:35.752Z"
   },
   {
    "duration": 49,
    "start_time": "2023-06-05T14:31:35.784Z"
   },
   {
    "duration": 34,
    "start_time": "2023-06-05T14:31:35.835Z"
   },
   {
    "duration": 23,
    "start_time": "2023-06-05T14:31:35.873Z"
   },
   {
    "duration": 21,
    "start_time": "2023-06-05T14:31:35.899Z"
   },
   {
    "duration": 25,
    "start_time": "2023-06-05T14:31:35.922Z"
   },
   {
    "duration": 13,
    "start_time": "2023-06-05T14:31:35.949Z"
   },
   {
    "duration": 22,
    "start_time": "2023-06-05T14:31:35.964Z"
   },
   {
    "duration": 13,
    "start_time": "2023-06-05T14:31:35.988Z"
   },
   {
    "duration": 19,
    "start_time": "2023-06-05T14:31:36.003Z"
   },
   {
    "duration": 12,
    "start_time": "2023-06-05T14:31:36.024Z"
   },
   {
    "duration": 42,
    "start_time": "2023-06-05T14:31:36.041Z"
   },
   {
    "duration": 14,
    "start_time": "2023-06-05T14:31:36.093Z"
   },
   {
    "duration": 4,
    "start_time": "2023-06-05T14:31:36.109Z"
   },
   {
    "duration": 26,
    "start_time": "2023-06-05T14:31:36.127Z"
   },
   {
    "duration": 48,
    "start_time": "2023-06-05T14:31:36.155Z"
   },
   {
    "duration": 5,
    "start_time": "2023-06-05T14:31:36.205Z"
   },
   {
    "duration": 33,
    "start_time": "2023-06-05T14:31:36.212Z"
   },
   {
    "duration": 4,
    "start_time": "2023-06-05T14:31:36.248Z"
   },
   {
    "duration": 17,
    "start_time": "2023-06-05T14:31:36.254Z"
   },
   {
    "duration": 282,
    "start_time": "2023-06-05T14:31:36.275Z"
   },
   {
    "duration": 9,
    "start_time": "2023-06-05T14:31:36.559Z"
   },
   {
    "duration": 44,
    "start_time": "2023-06-05T14:31:36.570Z"
   },
   {
    "duration": 48,
    "start_time": "2023-06-05T14:31:36.616Z"
   },
   {
    "duration": 664,
    "start_time": "2023-06-05T14:31:36.666Z"
   },
   {
    "duration": 44,
    "start_time": "2023-06-05T14:31:37.332Z"
   },
   {
    "duration": 4,
    "start_time": "2023-06-05T14:31:37.392Z"
   },
   {
    "duration": 372,
    "start_time": "2023-06-05T14:31:37.398Z"
   },
   {
    "duration": 1732,
    "start_time": "2023-06-05T14:31:37.781Z"
   },
   {
    "duration": 3,
    "start_time": "2023-06-05T14:31:39.515Z"
   },
   {
    "duration": 27,
    "start_time": "2023-06-05T14:31:39.519Z"
   },
   {
    "duration": 51,
    "start_time": "2023-06-05T14:31:39.555Z"
   },
   {
    "duration": 714,
    "start_time": "2023-06-05T14:31:39.608Z"
   },
   {
    "duration": 573,
    "start_time": "2023-06-05T14:31:47.370Z"
   },
   {
    "duration": 1013,
    "start_time": "2023-06-05T14:33:40.350Z"
   },
   {
    "duration": 438,
    "start_time": "2023-06-05T14:34:36.242Z"
   },
   {
    "duration": 609,
    "start_time": "2023-06-05T14:34:52.945Z"
   },
   {
    "duration": 429,
    "start_time": "2023-06-05T14:35:22.672Z"
   },
   {
    "duration": 139,
    "start_time": "2023-06-05T14:42:02.333Z"
   },
   {
    "duration": 628,
    "start_time": "2023-06-05T14:56:41.562Z"
   },
   {
    "duration": 639,
    "start_time": "2023-06-05T14:56:46.865Z"
   },
   {
    "duration": 818,
    "start_time": "2023-06-05T15:00:49.304Z"
   },
   {
    "duration": 1467,
    "start_time": "2023-06-05T15:10:02.923Z"
   },
   {
    "duration": 87,
    "start_time": "2023-06-05T15:10:04.395Z"
   },
   {
    "duration": 16,
    "start_time": "2023-06-05T15:10:04.484Z"
   },
   {
    "duration": 4,
    "start_time": "2023-06-05T15:10:04.502Z"
   },
   {
    "duration": 54,
    "start_time": "2023-06-05T15:10:04.508Z"
   },
   {
    "duration": 18,
    "start_time": "2023-06-05T15:10:04.566Z"
   },
   {
    "duration": 32,
    "start_time": "2023-06-05T15:10:04.586Z"
   },
   {
    "duration": 34,
    "start_time": "2023-06-05T15:10:04.620Z"
   },
   {
    "duration": 43,
    "start_time": "2023-06-05T15:10:04.656Z"
   },
   {
    "duration": 36,
    "start_time": "2023-06-05T15:10:04.702Z"
   },
   {
    "duration": 14,
    "start_time": "2023-06-05T15:10:04.742Z"
   },
   {
    "duration": 26,
    "start_time": "2023-06-05T15:10:04.758Z"
   },
   {
    "duration": 67,
    "start_time": "2023-06-05T15:10:04.786Z"
   },
   {
    "duration": 31,
    "start_time": "2023-06-05T15:10:04.858Z"
   },
   {
    "duration": 24,
    "start_time": "2023-06-05T15:10:04.891Z"
   },
   {
    "duration": 12,
    "start_time": "2023-06-05T15:10:04.918Z"
   },
   {
    "duration": 8,
    "start_time": "2023-06-05T15:10:04.933Z"
   },
   {
    "duration": 53,
    "start_time": "2023-06-05T15:10:04.943Z"
   },
   {
    "duration": 12,
    "start_time": "2023-06-05T15:10:04.999Z"
   },
   {
    "duration": 27,
    "start_time": "2023-06-05T15:10:05.013Z"
   },
   {
    "duration": 14,
    "start_time": "2023-06-05T15:10:05.043Z"
   },
   {
    "duration": 40,
    "start_time": "2023-06-05T15:10:05.059Z"
   },
   {
    "duration": 4,
    "start_time": "2023-06-05T15:10:05.102Z"
   },
   {
    "duration": 39,
    "start_time": "2023-06-05T15:10:05.108Z"
   },
   {
    "duration": 12,
    "start_time": "2023-06-05T15:10:05.149Z"
   },
   {
    "duration": 12,
    "start_time": "2023-06-05T15:10:05.163Z"
   },
   {
    "duration": 23,
    "start_time": "2023-06-05T15:10:05.177Z"
   },
   {
    "duration": 76,
    "start_time": "2023-06-05T15:10:05.203Z"
   },
   {
    "duration": 6,
    "start_time": "2023-06-05T15:10:05.281Z"
   },
   {
    "duration": 28,
    "start_time": "2023-06-05T15:10:05.289Z"
   },
   {
    "duration": 11,
    "start_time": "2023-06-05T15:10:05.330Z"
   },
   {
    "duration": 27,
    "start_time": "2023-06-05T15:10:05.343Z"
   },
   {
    "duration": 311,
    "start_time": "2023-06-05T15:10:05.371Z"
   },
   {
    "duration": 184,
    "start_time": "2023-06-05T15:10:12.014Z"
   },
   {
    "duration": 357,
    "start_time": "2023-06-05T15:12:10.626Z"
   },
   {
    "duration": 259,
    "start_time": "2023-06-05T15:12:54.093Z"
   },
   {
    "duration": 181,
    "start_time": "2023-06-05T15:13:25.870Z"
   },
   {
    "duration": 27,
    "start_time": "2023-06-05T15:17:27.165Z"
   },
   {
    "duration": 112,
    "start_time": "2023-06-05T15:18:50.976Z"
   },
   {
    "duration": 8,
    "start_time": "2023-06-05T15:28:23.283Z"
   },
   {
    "duration": 165,
    "start_time": "2023-06-05T15:29:05.362Z"
   },
   {
    "duration": 73,
    "start_time": "2023-06-05T15:51:03.502Z"
   },
   {
    "duration": 1363,
    "start_time": "2023-06-05T15:51:23.012Z"
   },
   {
    "duration": 77,
    "start_time": "2023-06-05T15:51:24.377Z"
   },
   {
    "duration": 17,
    "start_time": "2023-06-05T15:51:24.455Z"
   },
   {
    "duration": 3,
    "start_time": "2023-06-05T15:51:24.474Z"
   },
   {
    "duration": 19,
    "start_time": "2023-06-05T15:51:24.479Z"
   },
   {
    "duration": 37,
    "start_time": "2023-06-05T15:51:24.500Z"
   },
   {
    "duration": 9,
    "start_time": "2023-06-05T15:51:24.545Z"
   },
   {
    "duration": 6,
    "start_time": "2023-06-05T15:51:24.556Z"
   },
   {
    "duration": 46,
    "start_time": "2023-06-05T15:51:24.564Z"
   },
   {
    "duration": 134,
    "start_time": "2023-06-05T15:51:24.614Z"
   },
   {
    "duration": 36,
    "start_time": "2023-06-05T15:51:24.750Z"
   },
   {
    "duration": 19,
    "start_time": "2023-06-05T15:51:24.788Z"
   },
   {
    "duration": 26,
    "start_time": "2023-06-05T15:51:24.809Z"
   },
   {
    "duration": 42,
    "start_time": "2023-06-05T15:51:24.837Z"
   },
   {
    "duration": 23,
    "start_time": "2023-06-05T15:51:24.881Z"
   },
   {
    "duration": 20,
    "start_time": "2023-06-05T15:51:24.906Z"
   },
   {
    "duration": 47,
    "start_time": "2023-06-05T15:51:24.929Z"
   },
   {
    "duration": 25,
    "start_time": "2023-06-05T15:51:24.978Z"
   },
   {
    "duration": 74,
    "start_time": "2023-06-05T15:51:25.006Z"
   },
   {
    "duration": 42,
    "start_time": "2023-06-05T15:51:25.082Z"
   },
   {
    "duration": 22,
    "start_time": "2023-06-05T15:51:25.129Z"
   },
   {
    "duration": 31,
    "start_time": "2023-06-05T15:51:25.153Z"
   },
   {
    "duration": 22,
    "start_time": "2023-06-05T15:51:25.186Z"
   },
   {
    "duration": 52,
    "start_time": "2023-06-05T15:51:25.211Z"
   },
   {
    "duration": 9,
    "start_time": "2023-06-05T15:51:25.265Z"
   },
   {
    "duration": 10,
    "start_time": "2023-06-05T15:51:25.278Z"
   },
   {
    "duration": 24,
    "start_time": "2023-06-05T15:51:25.290Z"
   },
   {
    "duration": 49,
    "start_time": "2023-06-05T15:51:25.318Z"
   },
   {
    "duration": 6,
    "start_time": "2023-06-05T15:51:25.369Z"
   },
   {
    "duration": 17,
    "start_time": "2023-06-05T15:51:25.377Z"
   },
   {
    "duration": 19,
    "start_time": "2023-06-05T15:51:25.396Z"
   },
   {
    "duration": 22,
    "start_time": "2023-06-05T15:51:25.417Z"
   },
   {
    "duration": 280,
    "start_time": "2023-06-05T15:51:25.445Z"
   },
   {
    "duration": 11,
    "start_time": "2023-06-05T15:51:25.727Z"
   },
   {
    "duration": 231,
    "start_time": "2023-06-05T15:51:25.741Z"
   },
   {
    "duration": 10,
    "start_time": "2023-06-05T15:51:25.974Z"
   },
   {
    "duration": 49,
    "start_time": "2023-06-05T15:51:25.986Z"
   },
   {
    "duration": 48,
    "start_time": "2023-06-05T15:51:26.037Z"
   },
   {
    "duration": 483,
    "start_time": "2023-06-05T15:51:26.087Z"
   },
   {
    "duration": 9,
    "start_time": "2023-06-05T15:51:26.573Z"
   },
   {
    "duration": 11,
    "start_time": "2023-06-05T15:51:26.584Z"
   },
   {
    "duration": 301,
    "start_time": "2023-06-05T15:51:29.230Z"
   },
   {
    "duration": 24,
    "start_time": "2023-06-05T15:52:09.580Z"
   },
   {
    "duration": 1943,
    "start_time": "2023-06-05T15:53:35.752Z"
   },
   {
    "duration": 1778,
    "start_time": "2023-06-05T15:54:49.987Z"
   },
   {
    "duration": 23,
    "start_time": "2023-06-05T15:56:43.843Z"
   },
   {
    "duration": 1890,
    "start_time": "2023-06-05T15:57:04.776Z"
   },
   {
    "duration": 845,
    "start_time": "2023-06-05T15:57:29.609Z"
   },
   {
    "duration": 349,
    "start_time": "2023-06-05T16:04:08.154Z"
   },
   {
    "duration": 7,
    "start_time": "2023-06-05T16:04:43.492Z"
   },
   {
    "duration": 518,
    "start_time": "2023-06-05T16:10:22.368Z"
   },
   {
    "duration": 450,
    "start_time": "2023-06-05T16:13:51.126Z"
   },
   {
    "duration": 474,
    "start_time": "2023-06-05T16:14:03.262Z"
   },
   {
    "duration": 542,
    "start_time": "2023-06-05T16:17:42.158Z"
   },
   {
    "duration": 684,
    "start_time": "2023-06-05T16:22:37.988Z"
   },
   {
    "duration": 1373,
    "start_time": "2023-06-05T16:25:19.098Z"
   },
   {
    "duration": 884,
    "start_time": "2023-06-05T16:25:50.190Z"
   },
   {
    "duration": 353,
    "start_time": "2023-06-05T16:34:39.698Z"
   },
   {
    "duration": 335,
    "start_time": "2023-06-05T16:35:39.819Z"
   },
   {
    "duration": 256,
    "start_time": "2023-06-05T16:35:58.934Z"
   },
   {
    "duration": 36,
    "start_time": "2023-06-05T16:38:04.335Z"
   },
   {
    "duration": 254,
    "start_time": "2023-06-05T16:38:30.326Z"
   },
   {
    "duration": 278,
    "start_time": "2023-06-05T16:38:34.663Z"
   },
   {
    "duration": 379,
    "start_time": "2023-06-05T16:40:47.882Z"
   },
   {
    "duration": 862,
    "start_time": "2023-06-05T16:41:13.991Z"
   },
   {
    "duration": 1463,
    "start_time": "2023-06-05T17:10:27.558Z"
   },
   {
    "duration": 1597,
    "start_time": "2023-06-05T17:11:20.055Z"
   },
   {
    "duration": 1893,
    "start_time": "2023-06-05T17:13:27.986Z"
   },
   {
    "duration": 6,
    "start_time": "2023-06-05T17:15:51.196Z"
   },
   {
    "duration": 12,
    "start_time": "2023-06-05T17:25:21.751Z"
   },
   {
    "duration": 13,
    "start_time": "2023-06-05T17:26:24.316Z"
   },
   {
    "duration": 15,
    "start_time": "2023-06-05T17:26:52.924Z"
   },
   {
    "duration": 6,
    "start_time": "2023-06-05T17:28:10.922Z"
   },
   {
    "duration": 1501,
    "start_time": "2023-06-05T17:28:34.450Z"
   },
   {
    "duration": 106,
    "start_time": "2023-06-05T17:28:35.957Z"
   },
   {
    "duration": 25,
    "start_time": "2023-06-05T17:28:36.065Z"
   },
   {
    "duration": 5,
    "start_time": "2023-06-05T17:28:36.092Z"
   },
   {
    "duration": 18,
    "start_time": "2023-06-05T17:28:36.099Z"
   },
   {
    "duration": 23,
    "start_time": "2023-06-05T17:28:36.130Z"
   },
   {
    "duration": 13,
    "start_time": "2023-06-05T17:28:36.162Z"
   },
   {
    "duration": 11,
    "start_time": "2023-06-05T17:28:36.177Z"
   },
   {
    "duration": 21,
    "start_time": "2023-06-05T17:28:36.190Z"
   },
   {
    "duration": 20,
    "start_time": "2023-06-05T17:28:36.213Z"
   },
   {
    "duration": 12,
    "start_time": "2023-06-05T17:28:36.243Z"
   },
   {
    "duration": 14,
    "start_time": "2023-06-05T17:28:36.257Z"
   },
   {
    "duration": 12,
    "start_time": "2023-06-05T17:28:36.273Z"
   },
   {
    "duration": 54,
    "start_time": "2023-06-05T17:28:36.289Z"
   },
   {
    "duration": 43,
    "start_time": "2023-06-05T17:28:36.345Z"
   },
   {
    "duration": 10,
    "start_time": "2023-06-05T17:28:36.390Z"
   },
   {
    "duration": 20,
    "start_time": "2023-06-05T17:28:36.402Z"
   },
   {
    "duration": 8,
    "start_time": "2023-06-05T17:28:36.423Z"
   },
   {
    "duration": 11,
    "start_time": "2023-06-05T17:28:36.434Z"
   },
   {
    "duration": 23,
    "start_time": "2023-06-05T17:28:36.447Z"
   },
   {
    "duration": 8,
    "start_time": "2023-06-05T17:28:36.472Z"
   },
   {
    "duration": 18,
    "start_time": "2023-06-05T17:28:36.481Z"
   },
   {
    "duration": 4,
    "start_time": "2023-06-05T17:28:36.501Z"
   },
   {
    "duration": 60,
    "start_time": "2023-06-05T17:28:36.507Z"
   },
   {
    "duration": 10,
    "start_time": "2023-06-05T17:28:36.568Z"
   },
   {
    "duration": 4,
    "start_time": "2023-06-05T17:28:36.579Z"
   },
   {
    "duration": 15,
    "start_time": "2023-06-05T17:28:36.585Z"
   },
   {
    "duration": 63,
    "start_time": "2023-06-05T17:28:36.602Z"
   },
   {
    "duration": 6,
    "start_time": "2023-06-05T17:28:36.667Z"
   },
   {
    "duration": 17,
    "start_time": "2023-06-05T17:28:36.675Z"
   },
   {
    "duration": 5,
    "start_time": "2023-06-05T17:28:36.694Z"
   },
   {
    "duration": 30,
    "start_time": "2023-06-05T17:28:36.701Z"
   },
   {
    "duration": 248,
    "start_time": "2023-06-05T17:28:36.732Z"
   },
   {
    "duration": 5,
    "start_time": "2023-06-05T17:28:36.982Z"
   },
   {
    "duration": 168,
    "start_time": "2023-06-05T17:28:36.988Z"
   },
   {
    "duration": 11,
    "start_time": "2023-06-05T17:28:37.158Z"
   },
   {
    "duration": 25,
    "start_time": "2023-06-05T17:28:37.170Z"
   },
   {
    "duration": 75,
    "start_time": "2023-06-05T17:28:37.197Z"
   },
   {
    "duration": 465,
    "start_time": "2023-06-05T17:28:37.274Z"
   },
   {
    "duration": 13,
    "start_time": "2023-06-05T17:28:37.740Z"
   },
   {
    "duration": 3,
    "start_time": "2023-06-05T17:28:37.757Z"
   },
   {
    "duration": 286,
    "start_time": "2023-06-05T17:28:37.762Z"
   },
   {
    "duration": 2134,
    "start_time": "2023-06-05T17:28:38.050Z"
   },
   {
    "duration": 3,
    "start_time": "2023-06-05T17:28:40.186Z"
   },
   {
    "duration": 5,
    "start_time": "2023-06-05T17:28:40.191Z"
   },
   {
    "duration": 539,
    "start_time": "2023-06-05T17:28:40.198Z"
   },
   {
    "duration": 1678,
    "start_time": "2023-06-05T17:28:40.741Z"
   },
   {
    "duration": 5,
    "start_time": "2023-06-05T17:28:42.421Z"
   },
   {
    "duration": 5,
    "start_time": "2023-06-05T17:33:14.084Z"
   },
   {
    "duration": 217,
    "start_time": "2023-06-05T17:39:25.597Z"
   },
   {
    "duration": 249,
    "start_time": "2023-06-05T17:40:22.601Z"
   },
   {
    "duration": 252,
    "start_time": "2023-06-05T17:42:57.921Z"
   },
   {
    "duration": 1679,
    "start_time": "2023-06-05T17:51:10.261Z"
   },
   {
    "duration": 1692,
    "start_time": "2023-06-05T17:52:42.058Z"
   },
   {
    "duration": 219,
    "start_time": "2023-06-05T18:05:21.653Z"
   },
   {
    "duration": 140,
    "start_time": "2023-06-05T18:18:37.144Z"
   },
   {
    "duration": 326,
    "start_time": "2023-06-05T18:20:22.910Z"
   },
   {
    "duration": 790,
    "start_time": "2023-06-05T18:22:42.147Z"
   },
   {
    "duration": 684,
    "start_time": "2023-06-05T18:23:02.063Z"
   },
   {
    "duration": 617,
    "start_time": "2023-06-05T18:23:37.983Z"
   },
   {
    "duration": 7,
    "start_time": "2023-06-05T18:25:43.839Z"
   },
   {
    "duration": 48,
    "start_time": "2023-06-05T20:06:30.813Z"
   },
   {
    "duration": 1300,
    "start_time": "2023-06-05T20:07:00.338Z"
   },
   {
    "duration": 109,
    "start_time": "2023-06-05T20:07:01.640Z"
   },
   {
    "duration": 18,
    "start_time": "2023-06-05T20:07:01.750Z"
   },
   {
    "duration": 23,
    "start_time": "2023-06-05T20:07:01.770Z"
   },
   {
    "duration": 57,
    "start_time": "2023-06-05T20:07:01.795Z"
   },
   {
    "duration": 28,
    "start_time": "2023-06-05T20:07:01.854Z"
   },
   {
    "duration": 42,
    "start_time": "2023-06-05T20:07:01.883Z"
   },
   {
    "duration": 31,
    "start_time": "2023-06-05T20:07:01.927Z"
   },
   {
    "duration": 28,
    "start_time": "2023-06-05T20:07:01.960Z"
   },
   {
    "duration": 61,
    "start_time": "2023-06-05T20:07:01.990Z"
   },
   {
    "duration": 45,
    "start_time": "2023-06-05T20:07:02.052Z"
   },
   {
    "duration": 23,
    "start_time": "2023-06-05T20:07:02.098Z"
   },
   {
    "duration": 26,
    "start_time": "2023-06-05T20:07:02.122Z"
   },
   {
    "duration": 41,
    "start_time": "2023-06-05T20:07:02.151Z"
   },
   {
    "duration": 14,
    "start_time": "2023-06-05T20:07:02.193Z"
   },
   {
    "duration": 22,
    "start_time": "2023-06-05T20:07:02.208Z"
   },
   {
    "duration": 45,
    "start_time": "2023-06-05T20:07:02.232Z"
   },
   {
    "duration": 22,
    "start_time": "2023-06-05T20:07:02.279Z"
   },
   {
    "duration": 14,
    "start_time": "2023-06-05T20:07:02.302Z"
   },
   {
    "duration": 23,
    "start_time": "2023-06-05T20:07:02.318Z"
   },
   {
    "duration": 6,
    "start_time": "2023-06-05T20:07:02.343Z"
   },
   {
    "duration": 17,
    "start_time": "2023-06-05T20:07:02.350Z"
   },
   {
    "duration": 3,
    "start_time": "2023-06-05T20:07:02.369Z"
   },
   {
    "duration": 52,
    "start_time": "2023-06-05T20:07:02.373Z"
   },
   {
    "duration": 7,
    "start_time": "2023-06-05T20:07:02.426Z"
   },
   {
    "duration": 8,
    "start_time": "2023-06-05T20:07:02.434Z"
   },
   {
    "duration": 23,
    "start_time": "2023-06-05T20:07:02.443Z"
   },
   {
    "duration": 52,
    "start_time": "2023-06-05T20:07:02.468Z"
   },
   {
    "duration": 4,
    "start_time": "2023-06-05T20:07:02.522Z"
   },
   {
    "duration": 36,
    "start_time": "2023-06-05T20:07:02.527Z"
   },
   {
    "duration": 55,
    "start_time": "2023-06-05T20:07:02.564Z"
   },
   {
    "duration": 41,
    "start_time": "2023-06-05T20:07:02.621Z"
   },
   {
    "duration": 195,
    "start_time": "2023-06-05T20:07:02.664Z"
   },
   {
    "duration": 5,
    "start_time": "2023-06-05T20:07:02.860Z"
   },
   {
    "duration": 179,
    "start_time": "2023-06-05T20:07:02.867Z"
   },
   {
    "duration": 6,
    "start_time": "2023-06-05T20:07:03.049Z"
   },
   {
    "duration": 37,
    "start_time": "2023-06-05T20:07:03.057Z"
   },
   {
    "duration": 23,
    "start_time": "2023-06-05T20:07:03.096Z"
   },
   {
    "duration": 345,
    "start_time": "2023-06-05T20:07:03.120Z"
   },
   {
    "duration": 8,
    "start_time": "2023-06-05T20:07:03.467Z"
   },
   {
    "duration": 7,
    "start_time": "2023-06-05T20:07:03.486Z"
   },
   {
    "duration": 223,
    "start_time": "2023-06-05T20:07:03.494Z"
   },
   {
    "duration": 1436,
    "start_time": "2023-06-05T20:07:03.718Z"
   },
   {
    "duration": 2,
    "start_time": "2023-06-05T20:07:05.156Z"
   },
   {
    "duration": 18,
    "start_time": "2023-06-05T20:07:05.159Z"
   },
   {
    "duration": 363,
    "start_time": "2023-06-05T20:07:05.178Z"
   },
   {
    "duration": 1400,
    "start_time": "2023-06-05T20:07:05.543Z"
   },
   {
    "duration": 2,
    "start_time": "2023-06-05T20:07:06.945Z"
   },
   {
    "duration": 32,
    "start_time": "2023-06-05T20:07:06.949Z"
   },
   {
    "duration": 12,
    "start_time": "2023-06-05T20:07:06.983Z"
   },
   {
    "duration": 23,
    "start_time": "2023-06-05T20:07:06.997Z"
   },
   {
    "duration": 10,
    "start_time": "2023-06-05T20:07:07.022Z"
   },
   {
    "duration": 253,
    "start_time": "2023-06-05T20:07:07.034Z"
   },
   {
    "duration": 2,
    "start_time": "2023-06-05T20:07:07.288Z"
   },
   {
    "duration": 1356,
    "start_time": "2023-06-05T20:07:07.292Z"
   },
   {
    "duration": 179,
    "start_time": "2023-06-05T20:07:08.649Z"
   },
   {
    "duration": 2,
    "start_time": "2023-06-05T20:07:08.829Z"
   },
   {
    "duration": 541,
    "start_time": "2023-06-05T20:07:08.832Z"
   },
   {
    "duration": 2,
    "start_time": "2023-06-05T20:07:09.375Z"
   },
   {
    "duration": 3,
    "start_time": "2023-06-05T20:07:09.384Z"
   },
   {
    "duration": 22,
    "start_time": "2023-06-05T20:07:09.388Z"
   },
   {
    "duration": 14,
    "start_time": "2023-06-05T20:07:09.411Z"
   },
   {
    "duration": 260,
    "start_time": "2023-06-05T20:07:12.744Z"
   },
   {
    "duration": 278,
    "start_time": "2023-06-05T20:12:15.228Z"
   },
   {
    "duration": 360,
    "start_time": "2023-06-05T20:12:55.889Z"
   },
   {
    "duration": 262,
    "start_time": "2023-06-05T20:13:17.946Z"
   },
   {
    "duration": 395,
    "start_time": "2023-06-05T20:23:53.326Z"
   },
   {
    "duration": 359,
    "start_time": "2023-06-05T20:25:23.348Z"
   },
   {
    "duration": 274,
    "start_time": "2023-06-05T20:26:48.327Z"
   },
   {
    "duration": 11,
    "start_time": "2023-06-05T20:32:04.081Z"
   },
   {
    "duration": 148,
    "start_time": "2023-06-05T20:35:00.997Z"
   },
   {
    "duration": 4,
    "start_time": "2023-06-05T20:36:30.849Z"
   },
   {
    "duration": 140,
    "start_time": "2023-06-05T20:55:08.446Z"
   },
   {
    "duration": 160,
    "start_time": "2023-06-05T20:55:23.888Z"
   },
   {
    "duration": 164,
    "start_time": "2023-06-05T20:55:35.148Z"
   },
   {
    "duration": 135,
    "start_time": "2023-06-05T20:55:44.511Z"
   },
   {
    "duration": 138,
    "start_time": "2023-06-05T20:56:01.250Z"
   },
   {
    "duration": 132,
    "start_time": "2023-06-05T20:56:07.460Z"
   },
   {
    "duration": 5,
    "start_time": "2023-06-05T20:56:30.619Z"
   },
   {
    "duration": 132,
    "start_time": "2023-06-05T20:58:16.472Z"
   },
   {
    "duration": 5,
    "start_time": "2023-06-05T20:58:22.961Z"
   },
   {
    "duration": 9,
    "start_time": "2023-06-05T21:08:41.142Z"
   },
   {
    "duration": 9,
    "start_time": "2023-06-05T21:12:11.618Z"
   },
   {
    "duration": 15,
    "start_time": "2023-06-05T21:14:22.874Z"
   },
   {
    "duration": 17,
    "start_time": "2023-06-05T21:16:56.423Z"
   },
   {
    "duration": 10,
    "start_time": "2023-06-05T21:19:47.826Z"
   },
   {
    "duration": 11,
    "start_time": "2023-06-05T21:20:59.875Z"
   },
   {
    "duration": 4,
    "start_time": "2023-06-05T21:22:02.862Z"
   },
   {
    "duration": 189,
    "start_time": "2023-06-05T21:32:06.758Z"
   },
   {
    "duration": 248,
    "start_time": "2023-06-05T21:32:42.777Z"
   },
   {
    "duration": 1199,
    "start_time": "2023-06-05T21:33:56.102Z"
   },
   {
    "duration": 174,
    "start_time": "2023-06-05T21:34:12.324Z"
   },
   {
    "duration": 168,
    "start_time": "2023-06-05T21:35:52.613Z"
   },
   {
    "duration": 172,
    "start_time": "2023-06-05T21:40:19.580Z"
   },
   {
    "duration": 1671,
    "start_time": "2023-06-05T21:46:21.823Z"
   },
   {
    "duration": 174,
    "start_time": "2023-06-05T21:46:48.913Z"
   },
   {
    "duration": 196,
    "start_time": "2023-06-05T21:50:26.141Z"
   },
   {
    "duration": 1361,
    "start_time": "2023-06-05T21:51:25.850Z"
   },
   {
    "duration": 155,
    "start_time": "2023-06-05T21:52:17.777Z"
   },
   {
    "duration": 9,
    "start_time": "2023-06-05T22:01:12.627Z"
   },
   {
    "duration": 8,
    "start_time": "2023-06-05T22:01:27.766Z"
   },
   {
    "duration": 10,
    "start_time": "2023-06-05T22:02:29.365Z"
   },
   {
    "duration": 5,
    "start_time": "2023-06-05T22:02:32.555Z"
   },
   {
    "duration": 60,
    "start_time": "2023-06-05T22:16:30.900Z"
   },
   {
    "duration": 1390,
    "start_time": "2023-06-06T13:41:54.358Z"
   },
   {
    "duration": 67,
    "start_time": "2023-06-06T13:41:55.750Z"
   },
   {
    "duration": 14,
    "start_time": "2023-06-06T13:41:55.819Z"
   },
   {
    "duration": 4,
    "start_time": "2023-06-06T13:41:55.834Z"
   },
   {
    "duration": 24,
    "start_time": "2023-06-06T13:41:55.840Z"
   },
   {
    "duration": 15,
    "start_time": "2023-06-06T13:41:55.866Z"
   },
   {
    "duration": 21,
    "start_time": "2023-06-06T13:41:55.883Z"
   },
   {
    "duration": 17,
    "start_time": "2023-06-06T13:41:55.906Z"
   },
   {
    "duration": 33,
    "start_time": "2023-06-06T13:41:55.925Z"
   },
   {
    "duration": 16,
    "start_time": "2023-06-06T13:41:55.960Z"
   },
   {
    "duration": 14,
    "start_time": "2023-06-06T13:41:55.978Z"
   },
   {
    "duration": 10,
    "start_time": "2023-06-06T13:41:55.993Z"
   },
   {
    "duration": 19,
    "start_time": "2023-06-06T13:41:56.005Z"
   },
   {
    "duration": 29,
    "start_time": "2023-06-06T13:41:56.027Z"
   },
   {
    "duration": 29,
    "start_time": "2023-06-06T13:41:56.058Z"
   },
   {
    "duration": 8,
    "start_time": "2023-06-06T13:41:56.089Z"
   },
   {
    "duration": 14,
    "start_time": "2023-06-06T13:41:56.099Z"
   },
   {
    "duration": 17,
    "start_time": "2023-06-06T13:41:56.115Z"
   },
   {
    "duration": 23,
    "start_time": "2023-06-06T13:41:56.134Z"
   },
   {
    "duration": 27,
    "start_time": "2023-06-06T13:41:56.159Z"
   },
   {
    "duration": 15,
    "start_time": "2023-06-06T13:41:56.188Z"
   },
   {
    "duration": 22,
    "start_time": "2023-06-06T13:41:56.204Z"
   },
   {
    "duration": 4,
    "start_time": "2023-06-06T13:41:56.228Z"
   },
   {
    "duration": 24,
    "start_time": "2023-06-06T13:41:56.234Z"
   },
   {
    "duration": 9,
    "start_time": "2023-06-06T13:41:56.261Z"
   },
   {
    "duration": 4,
    "start_time": "2023-06-06T13:41:56.272Z"
   },
   {
    "duration": 18,
    "start_time": "2023-06-06T13:41:56.278Z"
   },
   {
    "duration": 65,
    "start_time": "2023-06-06T13:41:56.299Z"
   },
   {
    "duration": 6,
    "start_time": "2023-06-06T13:41:56.366Z"
   },
   {
    "duration": 22,
    "start_time": "2023-06-06T13:41:56.374Z"
   },
   {
    "duration": 14,
    "start_time": "2023-06-06T13:41:56.399Z"
   },
   {
    "duration": 18,
    "start_time": "2023-06-06T13:41:56.414Z"
   },
   {
    "duration": 222,
    "start_time": "2023-06-06T13:41:56.434Z"
   },
   {
    "duration": 6,
    "start_time": "2023-06-06T13:41:56.658Z"
   },
   {
    "duration": 166,
    "start_time": "2023-06-06T13:41:56.666Z"
   },
   {
    "duration": 12,
    "start_time": "2023-06-06T13:41:56.834Z"
   },
   {
    "duration": 43,
    "start_time": "2023-06-06T13:41:56.848Z"
   },
   {
    "duration": 30,
    "start_time": "2023-06-06T13:41:56.893Z"
   },
   {
    "duration": 449,
    "start_time": "2023-06-06T13:41:56.925Z"
   },
   {
    "duration": 11,
    "start_time": "2023-06-06T13:41:57.376Z"
   },
   {
    "duration": 25,
    "start_time": "2023-06-06T13:41:57.391Z"
   },
   {
    "duration": 297,
    "start_time": "2023-06-06T13:41:57.417Z"
   },
   {
    "duration": 1756,
    "start_time": "2023-06-06T13:41:57.715Z"
   },
   {
    "duration": 2,
    "start_time": "2023-06-06T13:41:59.473Z"
   },
   {
    "duration": 11,
    "start_time": "2023-06-06T13:41:59.477Z"
   },
   {
    "duration": 460,
    "start_time": "2023-06-06T13:41:59.490Z"
   },
   {
    "duration": 1564,
    "start_time": "2023-06-06T13:41:59.951Z"
   },
   {
    "duration": 2,
    "start_time": "2023-06-06T13:42:01.517Z"
   },
   {
    "duration": 58,
    "start_time": "2023-06-06T13:42:01.521Z"
   },
   {
    "duration": 36,
    "start_time": "2023-06-06T13:42:01.581Z"
   },
   {
    "duration": 24,
    "start_time": "2023-06-06T13:42:01.618Z"
   },
   {
    "duration": 38,
    "start_time": "2023-06-06T13:42:01.644Z"
   },
   {
    "duration": 319,
    "start_time": "2023-06-06T13:42:01.684Z"
   },
   {
    "duration": 3,
    "start_time": "2023-06-06T13:42:02.005Z"
   },
   {
    "duration": 1627,
    "start_time": "2023-06-06T13:42:02.010Z"
   },
   {
    "duration": 187,
    "start_time": "2023-06-06T13:42:03.645Z"
   },
   {
    "duration": 2,
    "start_time": "2023-06-06T13:42:03.834Z"
   },
   {
    "duration": 712,
    "start_time": "2023-06-06T13:42:03.838Z"
   },
   {
    "duration": 3,
    "start_time": "2023-06-06T13:42:04.552Z"
   },
   {
    "duration": 20,
    "start_time": "2023-06-06T13:42:04.557Z"
   },
   {
    "duration": 18,
    "start_time": "2023-06-06T13:42:04.579Z"
   },
   {
    "duration": 18,
    "start_time": "2023-06-06T13:42:04.599Z"
   },
   {
    "duration": 322,
    "start_time": "2023-06-06T13:42:04.619Z"
   },
   {
    "duration": 3,
    "start_time": "2023-06-06T13:42:04.943Z"
   },
   {
    "duration": 15,
    "start_time": "2023-06-06T13:42:04.948Z"
   },
   {
    "duration": 8,
    "start_time": "2023-06-06T13:42:04.965Z"
   },
   {
    "duration": 21,
    "start_time": "2023-06-06T13:42:04.975Z"
   },
   {
    "duration": 311,
    "start_time": "2023-06-06T13:42:04.998Z"
   },
   {
    "duration": 3,
    "start_time": "2023-06-06T13:42:05.311Z"
   },
   {
    "duration": 12,
    "start_time": "2023-06-06T13:42:05.316Z"
   },
   {
    "duration": 13,
    "start_time": "2023-06-06T13:42:05.330Z"
   },
   {
    "duration": 11,
    "start_time": "2023-06-06T13:42:05.345Z"
   },
   {
    "duration": 25,
    "start_time": "2023-06-06T13:42:05.358Z"
   },
   {
    "duration": 24,
    "start_time": "2023-06-06T13:42:05.385Z"
   },
   {
    "duration": 30,
    "start_time": "2023-06-06T13:42:05.410Z"
   },
   {
    "duration": 180,
    "start_time": "2023-06-06T13:42:05.441Z"
   },
   {
    "duration": 166,
    "start_time": "2023-06-06T13:42:05.623Z"
   },
   {
    "duration": 178,
    "start_time": "2023-06-06T13:42:05.791Z"
   },
   {
    "duration": 2,
    "start_time": "2023-06-06T13:42:05.971Z"
   },
   {
    "duration": 23,
    "start_time": "2023-06-06T13:42:05.975Z"
   },
   {
    "duration": 27,
    "start_time": "2023-06-06T13:42:06.000Z"
   },
   {
    "duration": 36,
    "start_time": "2023-06-06T13:42:06.029Z"
   },
   {
    "duration": 37,
    "start_time": "2023-06-06T13:42:06.067Z"
   },
   {
    "duration": 178,
    "start_time": "2023-06-06T13:45:23.702Z"
   },
   {
    "duration": 1338,
    "start_time": "2023-06-06T13:45:32.403Z"
   },
   {
    "duration": 69,
    "start_time": "2023-06-06T13:45:33.745Z"
   },
   {
    "duration": 15,
    "start_time": "2023-06-06T13:45:33.816Z"
   },
   {
    "duration": 8,
    "start_time": "2023-06-06T13:45:33.833Z"
   },
   {
    "duration": 48,
    "start_time": "2023-06-06T13:45:33.842Z"
   },
   {
    "duration": 18,
    "start_time": "2023-06-06T13:45:33.892Z"
   },
   {
    "duration": 14,
    "start_time": "2023-06-06T13:45:33.912Z"
   },
   {
    "duration": 24,
    "start_time": "2023-06-06T13:45:33.928Z"
   },
   {
    "duration": 30,
    "start_time": "2023-06-06T13:45:33.953Z"
   },
   {
    "duration": 44,
    "start_time": "2023-06-06T13:45:33.986Z"
   },
   {
    "duration": 16,
    "start_time": "2023-06-06T13:45:34.032Z"
   },
   {
    "duration": 12,
    "start_time": "2023-06-06T13:45:34.049Z"
   },
   {
    "duration": 14,
    "start_time": "2023-06-06T13:45:34.063Z"
   },
   {
    "duration": 41,
    "start_time": "2023-06-06T13:45:34.078Z"
   },
   {
    "duration": 26,
    "start_time": "2023-06-06T13:45:34.120Z"
   },
   {
    "duration": 28,
    "start_time": "2023-06-06T13:45:34.147Z"
   },
   {
    "duration": 14,
    "start_time": "2023-06-06T13:45:34.177Z"
   },
   {
    "duration": 20,
    "start_time": "2023-06-06T13:45:34.193Z"
   },
   {
    "duration": 26,
    "start_time": "2023-06-06T13:45:34.214Z"
   },
   {
    "duration": 29,
    "start_time": "2023-06-06T13:45:34.241Z"
   },
   {
    "duration": 22,
    "start_time": "2023-06-06T13:45:34.272Z"
   },
   {
    "duration": 36,
    "start_time": "2023-06-06T13:45:34.295Z"
   },
   {
    "duration": 11,
    "start_time": "2023-06-06T13:45:34.333Z"
   },
   {
    "duration": 41,
    "start_time": "2023-06-06T13:45:34.346Z"
   },
   {
    "duration": 16,
    "start_time": "2023-06-06T13:45:34.389Z"
   },
   {
    "duration": 12,
    "start_time": "2023-06-06T13:45:34.407Z"
   },
   {
    "duration": 32,
    "start_time": "2023-06-06T13:45:34.420Z"
   },
   {
    "duration": 36,
    "start_time": "2023-06-06T13:45:34.457Z"
   },
   {
    "duration": 4,
    "start_time": "2023-06-06T13:45:34.495Z"
   },
   {
    "duration": 28,
    "start_time": "2023-06-06T13:45:34.500Z"
   },
   {
    "duration": 184,
    "start_time": "2023-06-06T13:45:34.530Z"
   },
   {
    "duration": 0,
    "start_time": "2023-06-06T13:45:34.715Z"
   },
   {
    "duration": 0,
    "start_time": "2023-06-06T13:45:34.716Z"
   },
   {
    "duration": 0,
    "start_time": "2023-06-06T13:45:34.717Z"
   },
   {
    "duration": 0,
    "start_time": "2023-06-06T13:45:34.718Z"
   },
   {
    "duration": 0,
    "start_time": "2023-06-06T13:45:34.719Z"
   },
   {
    "duration": 0,
    "start_time": "2023-06-06T13:45:34.720Z"
   },
   {
    "duration": 0,
    "start_time": "2023-06-06T13:45:34.722Z"
   },
   {
    "duration": 0,
    "start_time": "2023-06-06T13:45:34.722Z"
   },
   {
    "duration": 0,
    "start_time": "2023-06-06T13:45:34.723Z"
   },
   {
    "duration": 0,
    "start_time": "2023-06-06T13:45:34.725Z"
   },
   {
    "duration": 0,
    "start_time": "2023-06-06T13:45:34.725Z"
   },
   {
    "duration": 0,
    "start_time": "2023-06-06T13:45:34.746Z"
   },
   {
    "duration": 0,
    "start_time": "2023-06-06T13:45:34.747Z"
   },
   {
    "duration": 0,
    "start_time": "2023-06-06T13:45:34.748Z"
   },
   {
    "duration": 0,
    "start_time": "2023-06-06T13:45:34.749Z"
   },
   {
    "duration": 0,
    "start_time": "2023-06-06T13:45:34.750Z"
   },
   {
    "duration": 0,
    "start_time": "2023-06-06T13:45:34.751Z"
   },
   {
    "duration": 0,
    "start_time": "2023-06-06T13:45:34.752Z"
   },
   {
    "duration": 0,
    "start_time": "2023-06-06T13:45:34.753Z"
   },
   {
    "duration": 0,
    "start_time": "2023-06-06T13:45:34.754Z"
   },
   {
    "duration": 0,
    "start_time": "2023-06-06T13:45:34.755Z"
   },
   {
    "duration": 0,
    "start_time": "2023-06-06T13:45:34.756Z"
   },
   {
    "duration": 0,
    "start_time": "2023-06-06T13:45:34.757Z"
   },
   {
    "duration": 0,
    "start_time": "2023-06-06T13:45:34.759Z"
   },
   {
    "duration": 0,
    "start_time": "2023-06-06T13:45:34.760Z"
   },
   {
    "duration": 0,
    "start_time": "2023-06-06T13:45:34.761Z"
   },
   {
    "duration": 0,
    "start_time": "2023-06-06T13:45:34.762Z"
   },
   {
    "duration": 0,
    "start_time": "2023-06-06T13:45:34.763Z"
   },
   {
    "duration": 0,
    "start_time": "2023-06-06T13:45:34.764Z"
   },
   {
    "duration": 0,
    "start_time": "2023-06-06T13:45:34.765Z"
   },
   {
    "duration": 0,
    "start_time": "2023-06-06T13:45:34.766Z"
   },
   {
    "duration": 0,
    "start_time": "2023-06-06T13:45:34.768Z"
   },
   {
    "duration": 0,
    "start_time": "2023-06-06T13:45:34.768Z"
   },
   {
    "duration": 0,
    "start_time": "2023-06-06T13:45:34.769Z"
   },
   {
    "duration": 0,
    "start_time": "2023-06-06T13:45:34.771Z"
   },
   {
    "duration": 0,
    "start_time": "2023-06-06T13:45:34.772Z"
   },
   {
    "duration": 0,
    "start_time": "2023-06-06T13:45:34.773Z"
   },
   {
    "duration": 0,
    "start_time": "2023-06-06T13:45:34.774Z"
   },
   {
    "duration": 0,
    "start_time": "2023-06-06T13:45:34.775Z"
   },
   {
    "duration": 0,
    "start_time": "2023-06-06T13:45:34.776Z"
   },
   {
    "duration": 0,
    "start_time": "2023-06-06T13:45:34.777Z"
   },
   {
    "duration": 0,
    "start_time": "2023-06-06T13:45:34.778Z"
   },
   {
    "duration": 0,
    "start_time": "2023-06-06T13:45:34.780Z"
   },
   {
    "duration": 0,
    "start_time": "2023-06-06T13:45:34.780Z"
   },
   {
    "duration": 0,
    "start_time": "2023-06-06T13:45:34.782Z"
   },
   {
    "duration": 0,
    "start_time": "2023-06-06T13:45:34.846Z"
   },
   {
    "duration": 0,
    "start_time": "2023-06-06T13:45:34.848Z"
   },
   {
    "duration": 0,
    "start_time": "2023-06-06T13:45:34.849Z"
   },
   {
    "duration": 0,
    "start_time": "2023-06-06T13:45:34.850Z"
   },
   {
    "duration": 0,
    "start_time": "2023-06-06T13:45:34.851Z"
   },
   {
    "duration": 0,
    "start_time": "2023-06-06T13:45:34.852Z"
   },
   {
    "duration": 0,
    "start_time": "2023-06-06T13:45:34.853Z"
   },
   {
    "duration": 36,
    "start_time": "2023-06-06T13:45:47.443Z"
   },
   {
    "duration": 1410,
    "start_time": "2023-06-06T13:45:55.048Z"
   },
   {
    "duration": 70,
    "start_time": "2023-06-06T13:45:56.460Z"
   },
   {
    "duration": 14,
    "start_time": "2023-06-06T13:45:56.532Z"
   },
   {
    "duration": 12,
    "start_time": "2023-06-06T13:45:56.548Z"
   },
   {
    "duration": 35,
    "start_time": "2023-06-06T13:45:56.562Z"
   },
   {
    "duration": 52,
    "start_time": "2023-06-06T13:45:56.598Z"
   },
   {
    "duration": 14,
    "start_time": "2023-06-06T13:45:56.652Z"
   },
   {
    "duration": 30,
    "start_time": "2023-06-06T13:45:56.668Z"
   },
   {
    "duration": 53,
    "start_time": "2023-06-06T13:45:56.699Z"
   },
   {
    "duration": 16,
    "start_time": "2023-06-06T13:45:56.754Z"
   },
   {
    "duration": 22,
    "start_time": "2023-06-06T13:45:56.772Z"
   },
   {
    "duration": 3,
    "start_time": "2023-06-06T13:45:56.796Z"
   },
   {
    "duration": 48,
    "start_time": "2023-06-06T13:45:56.800Z"
   },
   {
    "duration": 29,
    "start_time": "2023-06-06T13:45:56.852Z"
   },
   {
    "duration": 74,
    "start_time": "2023-06-06T13:45:56.883Z"
   },
   {
    "duration": 9,
    "start_time": "2023-06-06T13:45:56.959Z"
   },
   {
    "duration": 14,
    "start_time": "2023-06-06T13:45:56.970Z"
   },
   {
    "duration": 60,
    "start_time": "2023-06-06T13:45:56.986Z"
   },
   {
    "duration": 21,
    "start_time": "2023-06-06T13:45:57.048Z"
   },
   {
    "duration": 14,
    "start_time": "2023-06-06T13:45:57.070Z"
   },
   {
    "duration": 12,
    "start_time": "2023-06-06T13:45:57.085Z"
   },
   {
    "duration": 60,
    "start_time": "2023-06-06T13:45:57.099Z"
   },
   {
    "duration": 4,
    "start_time": "2023-06-06T13:45:57.161Z"
   },
   {
    "duration": 82,
    "start_time": "2023-06-06T13:45:57.167Z"
   },
   {
    "duration": 12,
    "start_time": "2023-06-06T13:45:57.250Z"
   },
   {
    "duration": 10,
    "start_time": "2023-06-06T13:45:57.264Z"
   },
   {
    "duration": 70,
    "start_time": "2023-06-06T13:45:57.276Z"
   },
   {
    "duration": 37,
    "start_time": "2023-06-06T13:45:57.348Z"
   },
   {
    "duration": 61,
    "start_time": "2023-06-06T13:45:57.387Z"
   },
   {
    "duration": 22,
    "start_time": "2023-06-06T13:45:57.450Z"
   },
   {
    "duration": 90,
    "start_time": "2023-06-06T13:45:57.474Z"
   },
   {
    "duration": 6,
    "start_time": "2023-06-06T13:45:57.566Z"
   },
   {
    "duration": 479,
    "start_time": "2023-06-06T13:45:57.573Z"
   },
   {
    "duration": 4,
    "start_time": "2023-06-06T13:45:58.054Z"
   },
   {
    "duration": 298,
    "start_time": "2023-06-06T13:45:58.060Z"
   },
   {
    "duration": 8,
    "start_time": "2023-06-06T13:45:58.360Z"
   },
   {
    "duration": 79,
    "start_time": "2023-06-06T13:45:58.370Z"
   },
   {
    "duration": 26,
    "start_time": "2023-06-06T13:45:58.450Z"
   },
   {
    "duration": 445,
    "start_time": "2023-06-06T13:45:58.478Z"
   },
   {
    "duration": 8,
    "start_time": "2023-06-06T13:45:58.925Z"
   },
   {
    "duration": 2,
    "start_time": "2023-06-06T13:45:58.945Z"
   },
   {
    "duration": 255,
    "start_time": "2023-06-06T13:45:58.949Z"
   },
   {
    "duration": 1711,
    "start_time": "2023-06-06T13:45:59.206Z"
   },
   {
    "duration": 2,
    "start_time": "2023-06-06T13:46:00.919Z"
   },
   {
    "duration": 36,
    "start_time": "2023-06-06T13:46:00.922Z"
   },
   {
    "duration": 479,
    "start_time": "2023-06-06T13:46:00.960Z"
   },
   {
    "duration": 1723,
    "start_time": "2023-06-06T13:46:01.445Z"
   },
   {
    "duration": 3,
    "start_time": "2023-06-06T13:46:03.170Z"
   },
   {
    "duration": 13,
    "start_time": "2023-06-06T13:46:03.175Z"
   },
   {
    "duration": 6,
    "start_time": "2023-06-06T13:46:03.190Z"
   },
   {
    "duration": 12,
    "start_time": "2023-06-06T13:46:03.197Z"
   },
   {
    "duration": 9,
    "start_time": "2023-06-06T13:46:03.211Z"
   },
   {
    "duration": 210,
    "start_time": "2023-06-06T13:46:03.222Z"
   },
   {
    "duration": 3,
    "start_time": "2023-06-06T13:46:03.434Z"
   },
   {
    "duration": 1548,
    "start_time": "2023-06-06T13:46:03.439Z"
   },
   {
    "duration": 204,
    "start_time": "2023-06-06T13:46:04.989Z"
   },
   {
    "duration": 3,
    "start_time": "2023-06-06T13:46:05.195Z"
   },
   {
    "duration": 684,
    "start_time": "2023-06-06T13:46:05.199Z"
   },
   {
    "duration": 3,
    "start_time": "2023-06-06T13:46:05.885Z"
   },
   {
    "duration": 41,
    "start_time": "2023-06-06T13:46:05.889Z"
   },
   {
    "duration": 33,
    "start_time": "2023-06-06T13:46:05.932Z"
   },
   {
    "duration": 53,
    "start_time": "2023-06-06T13:46:05.967Z"
   },
   {
    "duration": 337,
    "start_time": "2023-06-06T13:46:06.022Z"
   },
   {
    "duration": 3,
    "start_time": "2023-06-06T13:46:06.361Z"
   },
   {
    "duration": 8,
    "start_time": "2023-06-06T13:46:06.366Z"
   },
   {
    "duration": 22,
    "start_time": "2023-06-06T13:46:06.375Z"
   },
   {
    "duration": 9,
    "start_time": "2023-06-06T13:46:06.399Z"
   },
   {
    "duration": 314,
    "start_time": "2023-06-06T13:46:06.410Z"
   },
   {
    "duration": 3,
    "start_time": "2023-06-06T13:46:06.726Z"
   },
   {
    "duration": 15,
    "start_time": "2023-06-06T13:46:06.731Z"
   },
   {
    "duration": 17,
    "start_time": "2023-06-06T13:46:06.749Z"
   },
   {
    "duration": 19,
    "start_time": "2023-06-06T13:46:06.768Z"
   },
   {
    "duration": 20,
    "start_time": "2023-06-06T13:46:06.789Z"
   },
   {
    "duration": 9,
    "start_time": "2023-06-06T13:46:06.811Z"
   },
   {
    "duration": 24,
    "start_time": "2023-06-06T13:46:06.822Z"
   },
   {
    "duration": 190,
    "start_time": "2023-06-06T13:46:06.848Z"
   },
   {
    "duration": 179,
    "start_time": "2023-06-06T13:46:07.039Z"
   },
   {
    "duration": 170,
    "start_time": "2023-06-06T13:46:07.220Z"
   },
   {
    "duration": 3,
    "start_time": "2023-06-06T13:46:07.392Z"
   },
   {
    "duration": 29,
    "start_time": "2023-06-06T13:46:07.397Z"
   },
   {
    "duration": 28,
    "start_time": "2023-06-06T13:46:07.428Z"
   },
   {
    "duration": 21,
    "start_time": "2023-06-06T13:46:07.458Z"
   },
   {
    "duration": 12,
    "start_time": "2023-06-06T13:46:07.480Z"
   },
   {
    "duration": 27,
    "start_time": "2023-06-06T13:48:18.150Z"
   },
   {
    "duration": 6,
    "start_time": "2023-06-06T13:59:00.241Z"
   },
   {
    "duration": 10,
    "start_time": "2023-06-06T13:59:24.536Z"
   },
   {
    "duration": 109,
    "start_time": "2023-06-06T16:48:03.652Z"
   },
   {
    "duration": 101,
    "start_time": "2023-06-06T16:48:15.626Z"
   },
   {
    "duration": 100,
    "start_time": "2023-06-06T16:48:30.734Z"
   },
   {
    "duration": 2965,
    "start_time": "2023-06-06T20:11:19.199Z"
   },
   {
    "duration": 487,
    "start_time": "2023-06-06T20:11:22.167Z"
   },
   {
    "duration": 78,
    "start_time": "2023-06-06T20:11:22.656Z"
   },
   {
    "duration": 11,
    "start_time": "2023-06-06T20:11:22.738Z"
   },
   {
    "duration": 37,
    "start_time": "2023-06-06T20:11:22.753Z"
   },
   {
    "duration": 24,
    "start_time": "2023-06-06T20:11:22.792Z"
   },
   {
    "duration": 19,
    "start_time": "2023-06-06T20:11:22.821Z"
   },
   {
    "duration": 8,
    "start_time": "2023-06-06T20:11:22.846Z"
   },
   {
    "duration": 43,
    "start_time": "2023-06-06T20:11:22.861Z"
   },
   {
    "duration": 25,
    "start_time": "2023-06-06T20:11:22.913Z"
   },
   {
    "duration": 33,
    "start_time": "2023-06-06T20:11:22.944Z"
   },
   {
    "duration": 25,
    "start_time": "2023-06-06T20:11:22.987Z"
   },
   {
    "duration": 8,
    "start_time": "2023-06-06T20:11:23.023Z"
   },
   {
    "duration": 40,
    "start_time": "2023-06-06T20:11:23.060Z"
   },
   {
    "duration": 31,
    "start_time": "2023-06-06T20:11:23.120Z"
   },
   {
    "duration": 15,
    "start_time": "2023-06-06T20:11:23.158Z"
   },
   {
    "duration": 4,
    "start_time": "2023-06-06T20:11:23.179Z"
   },
   {
    "duration": 17,
    "start_time": "2023-06-06T20:11:23.188Z"
   },
   {
    "duration": 7,
    "start_time": "2023-06-06T20:11:23.211Z"
   },
   {
    "duration": 31,
    "start_time": "2023-06-06T20:11:23.225Z"
   },
   {
    "duration": 11,
    "start_time": "2023-06-06T20:11:23.264Z"
   },
   {
    "duration": 46,
    "start_time": "2023-06-06T20:11:23.281Z"
   },
   {
    "duration": 7,
    "start_time": "2023-06-06T20:11:23.337Z"
   },
   {
    "duration": 56,
    "start_time": "2023-06-06T20:11:23.347Z"
   },
   {
    "duration": 23,
    "start_time": "2023-06-06T20:11:23.410Z"
   },
   {
    "duration": 6,
    "start_time": "2023-06-06T20:11:23.439Z"
   },
   {
    "duration": 43,
    "start_time": "2023-06-06T20:11:23.451Z"
   },
   {
    "duration": 57,
    "start_time": "2023-06-06T20:11:23.496Z"
   },
   {
    "duration": 8,
    "start_time": "2023-06-06T20:11:23.555Z"
   },
   {
    "duration": 22,
    "start_time": "2023-06-06T20:11:23.565Z"
   },
   {
    "duration": 67,
    "start_time": "2023-06-06T20:11:23.598Z"
   },
   {
    "duration": 17,
    "start_time": "2023-06-06T20:11:23.673Z"
   },
   {
    "duration": 424,
    "start_time": "2023-06-06T20:11:23.696Z"
   },
   {
    "duration": 15,
    "start_time": "2023-06-06T20:11:24.122Z"
   },
   {
    "duration": 221,
    "start_time": "2023-06-06T20:11:24.139Z"
   },
   {
    "duration": 26,
    "start_time": "2023-06-06T20:11:24.362Z"
   },
   {
    "duration": 48,
    "start_time": "2023-06-06T20:11:24.394Z"
   },
   {
    "duration": 54,
    "start_time": "2023-06-06T20:11:24.447Z"
   },
   {
    "duration": 713,
    "start_time": "2023-06-06T20:11:24.508Z"
   },
   {
    "duration": 35,
    "start_time": "2023-06-06T20:11:25.231Z"
   },
   {
    "duration": 39,
    "start_time": "2023-06-06T20:11:25.287Z"
   },
   {
    "duration": 433,
    "start_time": "2023-06-06T20:11:25.337Z"
   },
   {
    "duration": 2941,
    "start_time": "2023-06-06T20:11:25.788Z"
   },
   {
    "duration": 5,
    "start_time": "2023-06-06T20:11:28.734Z"
   },
   {
    "duration": 18,
    "start_time": "2023-06-06T20:11:28.744Z"
   },
   {
    "duration": 941,
    "start_time": "2023-06-06T20:11:28.768Z"
   },
   {
    "duration": 2881,
    "start_time": "2023-06-06T20:11:29.712Z"
   },
   {
    "duration": 15,
    "start_time": "2023-06-06T20:11:32.611Z"
   },
   {
    "duration": 20,
    "start_time": "2023-06-06T20:11:32.638Z"
   },
   {
    "duration": 12,
    "start_time": "2023-06-06T20:11:32.668Z"
   },
   {
    "duration": 45,
    "start_time": "2023-06-06T20:11:32.684Z"
   },
   {
    "duration": 30,
    "start_time": "2023-06-06T20:11:32.732Z"
   },
   {
    "duration": 367,
    "start_time": "2023-06-06T20:11:32.764Z"
   },
   {
    "duration": 14,
    "start_time": "2023-06-06T20:11:33.137Z"
   },
   {
    "duration": 5,
    "start_time": "2023-06-06T20:11:33.157Z"
   },
   {
    "duration": 2549,
    "start_time": "2023-06-06T20:11:33.169Z"
   },
   {
    "duration": 334,
    "start_time": "2023-06-06T20:11:35.727Z"
   },
   {
    "duration": 7,
    "start_time": "2023-06-06T20:11:36.070Z"
   },
   {
    "duration": 1138,
    "start_time": "2023-06-06T20:11:36.085Z"
   },
   {
    "duration": 4,
    "start_time": "2023-06-06T20:11:37.228Z"
   },
   {
    "duration": 33,
    "start_time": "2023-06-06T20:11:37.238Z"
   },
   {
    "duration": 6,
    "start_time": "2023-06-06T20:11:37.276Z"
   },
   {
    "duration": 13,
    "start_time": "2023-06-06T20:11:37.284Z"
   },
   {
    "duration": 521,
    "start_time": "2023-06-06T20:11:37.299Z"
   },
   {
    "duration": 4,
    "start_time": "2023-06-06T20:11:37.822Z"
   },
   {
    "duration": 18,
    "start_time": "2023-06-06T20:11:37.828Z"
   },
   {
    "duration": 20,
    "start_time": "2023-06-06T20:11:37.848Z"
   },
   {
    "duration": 5,
    "start_time": "2023-06-06T20:11:37.874Z"
   },
   {
    "duration": 463,
    "start_time": "2023-06-06T20:11:37.881Z"
   },
   {
    "duration": 4,
    "start_time": "2023-06-06T20:11:38.348Z"
   },
   {
    "duration": 7,
    "start_time": "2023-06-06T20:11:38.354Z"
   },
   {
    "duration": 8,
    "start_time": "2023-06-06T20:11:38.363Z"
   },
   {
    "duration": 14,
    "start_time": "2023-06-06T20:11:38.373Z"
   },
   {
    "duration": 14,
    "start_time": "2023-06-06T20:11:38.389Z"
   },
   {
    "duration": 5,
    "start_time": "2023-06-06T20:11:38.405Z"
   },
   {
    "duration": 34,
    "start_time": "2023-06-06T20:11:38.411Z"
   },
   {
    "duration": 217,
    "start_time": "2023-06-06T20:11:38.446Z"
   },
   {
    "duration": 238,
    "start_time": "2023-06-06T20:11:38.666Z"
   },
   {
    "duration": 228,
    "start_time": "2023-06-06T20:11:38.906Z"
   },
   {
    "duration": 6,
    "start_time": "2023-06-06T20:11:39.139Z"
   },
   {
    "duration": 35,
    "start_time": "2023-06-06T20:11:39.151Z"
   },
   {
    "duration": 3,
    "start_time": "2023-06-06T20:11:39.187Z"
   },
   {
    "duration": 29,
    "start_time": "2023-06-06T20:11:39.192Z"
   },
   {
    "duration": 16,
    "start_time": "2023-06-06T20:11:39.223Z"
   },
   {
    "duration": 383,
    "start_time": "2023-06-06T20:26:34.022Z"
   },
   {
    "duration": 376,
    "start_time": "2023-06-06T20:27:59.972Z"
   },
   {
    "duration": 199,
    "start_time": "2023-06-06T20:28:32.550Z"
   },
   {
    "duration": 296,
    "start_time": "2023-06-06T20:29:08.023Z"
   },
   {
    "duration": 222,
    "start_time": "2023-06-06T20:29:15.400Z"
   },
   {
    "duration": 227,
    "start_time": "2023-06-06T20:29:51.897Z"
   },
   {
    "duration": 339,
    "start_time": "2023-06-06T20:30:55.195Z"
   },
   {
    "duration": 179,
    "start_time": "2023-06-06T20:31:06.040Z"
   },
   {
    "duration": 16,
    "start_time": "2023-06-06T20:32:12.478Z"
   },
   {
    "duration": 331,
    "start_time": "2023-06-06T20:32:43.095Z"
   },
   {
    "duration": 219,
    "start_time": "2023-06-06T20:34:24.947Z"
   },
   {
    "duration": 401,
    "start_time": "2023-06-06T20:35:10.933Z"
   },
   {
    "duration": 307,
    "start_time": "2023-06-06T20:35:46.119Z"
   },
   {
    "duration": 300,
    "start_time": "2023-06-06T20:36:37.511Z"
   },
   {
    "duration": 318,
    "start_time": "2023-06-06T20:36:57.953Z"
   },
   {
    "duration": 266,
    "start_time": "2023-06-06T20:38:19.071Z"
   },
   {
    "duration": 219,
    "start_time": "2023-06-06T20:39:03.401Z"
   },
   {
    "duration": 1417,
    "start_time": "2023-06-06T20:39:16.839Z"
   },
   {
    "duration": 111,
    "start_time": "2023-06-06T20:39:18.266Z"
   },
   {
    "duration": 23,
    "start_time": "2023-06-06T20:39:18.385Z"
   },
   {
    "duration": 4,
    "start_time": "2023-06-06T20:39:18.410Z"
   },
   {
    "duration": 46,
    "start_time": "2023-06-06T20:39:18.417Z"
   },
   {
    "duration": 24,
    "start_time": "2023-06-06T20:39:18.471Z"
   },
   {
    "duration": 12,
    "start_time": "2023-06-06T20:39:18.497Z"
   },
   {
    "duration": 7,
    "start_time": "2023-06-06T20:39:18.511Z"
   },
   {
    "duration": 12,
    "start_time": "2023-06-06T20:39:18.521Z"
   },
   {
    "duration": 19,
    "start_time": "2023-06-06T20:39:18.535Z"
   },
   {
    "duration": 33,
    "start_time": "2023-06-06T20:39:18.556Z"
   },
   {
    "duration": 8,
    "start_time": "2023-06-06T20:39:18.606Z"
   },
   {
    "duration": 6,
    "start_time": "2023-06-06T20:39:18.618Z"
   },
   {
    "duration": 29,
    "start_time": "2023-06-06T20:39:18.627Z"
   },
   {
    "duration": 30,
    "start_time": "2023-06-06T20:39:18.660Z"
   },
   {
    "duration": 15,
    "start_time": "2023-06-06T20:39:18.696Z"
   },
   {
    "duration": 4,
    "start_time": "2023-06-06T20:39:18.718Z"
   },
   {
    "duration": 9,
    "start_time": "2023-06-06T20:39:18.724Z"
   },
   {
    "duration": 6,
    "start_time": "2023-06-06T20:39:18.735Z"
   },
   {
    "duration": 49,
    "start_time": "2023-06-06T20:39:18.743Z"
   },
   {
    "duration": 12,
    "start_time": "2023-06-06T20:39:18.799Z"
   },
   {
    "duration": 20,
    "start_time": "2023-06-06T20:39:18.816Z"
   },
   {
    "duration": 5,
    "start_time": "2023-06-06T20:39:18.838Z"
   },
   {
    "duration": 39,
    "start_time": "2023-06-06T20:39:18.846Z"
   },
   {
    "duration": 14,
    "start_time": "2023-06-06T20:39:18.890Z"
   },
   {
    "duration": 9,
    "start_time": "2023-06-06T20:39:18.910Z"
   },
   {
    "duration": 18,
    "start_time": "2023-06-06T20:39:18.921Z"
   },
   {
    "duration": 70,
    "start_time": "2023-06-06T20:39:18.941Z"
   },
   {
    "duration": 6,
    "start_time": "2023-06-06T20:39:19.017Z"
   },
   {
    "duration": 32,
    "start_time": "2023-06-06T20:39:19.026Z"
   },
   {
    "duration": 56,
    "start_time": "2023-06-06T20:39:19.069Z"
   },
   {
    "duration": 13,
    "start_time": "2023-06-06T20:39:19.127Z"
   },
   {
    "duration": 304,
    "start_time": "2023-06-06T20:39:19.143Z"
   },
   {
    "duration": 14,
    "start_time": "2023-06-06T20:39:19.449Z"
   },
   {
    "duration": 239,
    "start_time": "2023-06-06T20:39:19.471Z"
   },
   {
    "duration": 17,
    "start_time": "2023-06-06T20:39:19.714Z"
   },
   {
    "duration": 44,
    "start_time": "2023-06-06T20:39:19.734Z"
   },
   {
    "duration": 37,
    "start_time": "2023-06-06T20:39:19.783Z"
   },
   {
    "duration": 511,
    "start_time": "2023-06-06T20:39:19.823Z"
   },
   {
    "duration": 32,
    "start_time": "2023-06-06T20:39:20.336Z"
   },
   {
    "duration": 16,
    "start_time": "2023-06-06T20:39:20.382Z"
   },
   {
    "duration": 322,
    "start_time": "2023-06-06T20:39:20.402Z"
   },
   {
    "duration": 2294,
    "start_time": "2023-06-06T20:39:20.726Z"
   },
   {
    "duration": 4,
    "start_time": "2023-06-06T20:39:23.023Z"
   },
   {
    "duration": 5,
    "start_time": "2023-06-06T20:39:23.030Z"
   },
   {
    "duration": 636,
    "start_time": "2023-06-06T20:39:23.037Z"
   },
   {
    "duration": 2322,
    "start_time": "2023-06-06T20:39:23.675Z"
   },
   {
    "duration": 4,
    "start_time": "2023-06-06T20:39:26.000Z"
   },
   {
    "duration": 6,
    "start_time": "2023-06-06T20:39:26.005Z"
   },
   {
    "duration": 2,
    "start_time": "2023-06-06T20:39:26.016Z"
   },
   {
    "duration": 5,
    "start_time": "2023-06-06T20:39:26.021Z"
   },
   {
    "duration": 4,
    "start_time": "2023-06-06T20:39:26.028Z"
   },
   {
    "duration": 282,
    "start_time": "2023-06-06T20:39:26.034Z"
   },
   {
    "duration": 9,
    "start_time": "2023-06-06T20:39:26.319Z"
   },
   {
    "duration": 7,
    "start_time": "2023-06-06T20:39:26.330Z"
   },
   {
    "duration": 1809,
    "start_time": "2023-06-06T20:39:26.339Z"
   },
   {
    "duration": 283,
    "start_time": "2023-06-06T20:39:28.150Z"
   },
   {
    "duration": 3,
    "start_time": "2023-06-06T20:39:28.435Z"
   },
   {
    "duration": 1174,
    "start_time": "2023-06-06T20:39:28.440Z"
   },
   {
    "duration": 6,
    "start_time": "2023-06-06T20:39:29.622Z"
   },
   {
    "duration": 5,
    "start_time": "2023-06-06T20:39:29.631Z"
   },
   {
    "duration": 9,
    "start_time": "2023-06-06T20:39:29.638Z"
   },
   {
    "duration": 12,
    "start_time": "2023-06-06T20:39:29.650Z"
   },
   {
    "duration": 539,
    "start_time": "2023-06-06T20:39:29.664Z"
   },
   {
    "duration": 3,
    "start_time": "2023-06-06T20:39:30.208Z"
   },
   {
    "duration": 4,
    "start_time": "2023-06-06T20:39:30.215Z"
   },
   {
    "duration": 11,
    "start_time": "2023-06-06T20:39:30.221Z"
   },
   {
    "duration": 8,
    "start_time": "2023-06-06T20:39:30.234Z"
   },
   {
    "duration": 383,
    "start_time": "2023-06-06T20:39:30.244Z"
   },
   {
    "duration": 4,
    "start_time": "2023-06-06T20:39:30.628Z"
   },
   {
    "duration": 42,
    "start_time": "2023-06-06T20:39:30.633Z"
   },
   {
    "duration": 12,
    "start_time": "2023-06-06T20:39:30.679Z"
   },
   {
    "duration": 26,
    "start_time": "2023-06-06T20:39:30.694Z"
   },
   {
    "duration": 51,
    "start_time": "2023-06-06T20:39:30.722Z"
   },
   {
    "duration": 41,
    "start_time": "2023-06-06T20:39:30.775Z"
   },
   {
    "duration": 31,
    "start_time": "2023-06-06T20:39:30.818Z"
   },
   {
    "duration": 50,
    "start_time": "2023-06-06T20:39:30.852Z"
   },
   {
    "duration": 296,
    "start_time": "2023-06-06T20:39:30.907Z"
   },
   {
    "duration": 3,
    "start_time": "2023-06-06T20:39:31.205Z"
   },
   {
    "duration": 248,
    "start_time": "2023-06-06T20:39:31.210Z"
   },
   {
    "duration": 115,
    "start_time": "2023-06-06T20:39:31.460Z"
   },
   {
    "duration": 5,
    "start_time": "2023-06-06T20:39:31.576Z"
   },
   {
    "duration": 53,
    "start_time": "2023-06-06T20:39:31.582Z"
   },
   {
    "duration": 76,
    "start_time": "2023-06-06T20:39:31.638Z"
   },
   {
    "duration": 98,
    "start_time": "2023-06-06T20:39:31.716Z"
   },
   {
    "duration": 31,
    "start_time": "2023-06-06T20:39:31.816Z"
   },
   {
    "duration": 236,
    "start_time": "2023-06-06T20:48:25.974Z"
   },
   {
    "duration": 1417,
    "start_time": "2023-06-06T20:48:47.843Z"
   },
   {
    "duration": 100,
    "start_time": "2023-06-06T20:48:49.265Z"
   },
   {
    "duration": 23,
    "start_time": "2023-06-06T20:48:49.371Z"
   },
   {
    "duration": 4,
    "start_time": "2023-06-06T20:48:49.401Z"
   },
   {
    "duration": 22,
    "start_time": "2023-06-06T20:48:49.407Z"
   },
   {
    "duration": 8,
    "start_time": "2023-06-06T20:48:49.431Z"
   },
   {
    "duration": 14,
    "start_time": "2023-06-06T20:48:49.441Z"
   },
   {
    "duration": 4,
    "start_time": "2023-06-06T20:48:49.461Z"
   },
   {
    "duration": 15,
    "start_time": "2023-06-06T20:48:49.469Z"
   },
   {
    "duration": 13,
    "start_time": "2023-06-06T20:48:49.490Z"
   },
   {
    "duration": 11,
    "start_time": "2023-06-06T20:48:49.508Z"
   },
   {
    "duration": 3,
    "start_time": "2023-06-06T20:48:49.521Z"
   },
   {
    "duration": 7,
    "start_time": "2023-06-06T20:48:49.525Z"
   },
   {
    "duration": 53,
    "start_time": "2023-06-06T20:48:49.533Z"
   },
   {
    "duration": 23,
    "start_time": "2023-06-06T20:48:49.592Z"
   },
   {
    "duration": 11,
    "start_time": "2023-06-06T20:48:49.618Z"
   },
   {
    "duration": 2,
    "start_time": "2023-06-06T20:48:49.631Z"
   },
   {
    "duration": 9,
    "start_time": "2023-06-06T20:48:49.635Z"
   },
   {
    "duration": 11,
    "start_time": "2023-06-06T20:48:49.646Z"
   },
   {
    "duration": 23,
    "start_time": "2023-06-06T20:48:49.664Z"
   },
   {
    "duration": 17,
    "start_time": "2023-06-06T20:48:49.689Z"
   },
   {
    "duration": 23,
    "start_time": "2023-06-06T20:48:49.710Z"
   },
   {
    "duration": 5,
    "start_time": "2023-06-06T20:48:49.735Z"
   },
   {
    "duration": 36,
    "start_time": "2023-06-06T20:48:49.742Z"
   },
   {
    "duration": 11,
    "start_time": "2023-06-06T20:48:49.780Z"
   },
   {
    "duration": 3,
    "start_time": "2023-06-06T20:48:49.793Z"
   },
   {
    "duration": 35,
    "start_time": "2023-06-06T20:48:49.798Z"
   },
   {
    "duration": 64,
    "start_time": "2023-06-06T20:48:49.845Z"
   },
   {
    "duration": 14,
    "start_time": "2023-06-06T20:48:49.923Z"
   },
   {
    "duration": 17,
    "start_time": "2023-06-06T20:48:49.939Z"
   },
   {
    "duration": 54,
    "start_time": "2023-06-06T20:48:49.958Z"
   },
   {
    "duration": 9,
    "start_time": "2023-06-06T20:48:50.014Z"
   },
   {
    "duration": 292,
    "start_time": "2023-06-06T20:48:50.028Z"
   },
   {
    "duration": 7,
    "start_time": "2023-06-06T20:48:50.322Z"
   },
   {
    "duration": 217,
    "start_time": "2023-06-06T20:48:50.331Z"
   },
   {
    "duration": 29,
    "start_time": "2023-06-06T20:48:50.551Z"
   },
   {
    "duration": 60,
    "start_time": "2023-06-06T20:48:50.591Z"
   },
   {
    "duration": 71,
    "start_time": "2023-06-06T20:48:50.653Z"
   },
   {
    "duration": 545,
    "start_time": "2023-06-06T20:48:50.726Z"
   },
   {
    "duration": 25,
    "start_time": "2023-06-06T20:48:51.273Z"
   },
   {
    "duration": 7,
    "start_time": "2023-06-06T20:48:51.301Z"
   },
   {
    "duration": 241,
    "start_time": "2023-06-06T20:48:51.312Z"
   },
   {
    "duration": 891,
    "start_time": "2023-06-06T20:48:51.555Z"
   },
   {
    "duration": 3,
    "start_time": "2023-06-06T20:48:52.448Z"
   },
   {
    "duration": 23,
    "start_time": "2023-06-06T20:48:52.457Z"
   },
   {
    "duration": 332,
    "start_time": "2023-06-06T20:48:52.487Z"
   },
   {
    "duration": 863,
    "start_time": "2023-06-06T20:48:52.821Z"
   },
   {
    "duration": 4,
    "start_time": "2023-06-06T20:48:53.689Z"
   },
   {
    "duration": 14,
    "start_time": "2023-06-06T20:48:53.696Z"
   },
   {
    "duration": 3,
    "start_time": "2023-06-06T20:48:53.712Z"
   },
   {
    "duration": 5,
    "start_time": "2023-06-06T20:48:53.717Z"
   },
   {
    "duration": 4,
    "start_time": "2023-06-06T20:48:53.723Z"
   },
   {
    "duration": 288,
    "start_time": "2023-06-06T20:48:53.729Z"
   },
   {
    "duration": 10,
    "start_time": "2023-06-06T20:48:54.023Z"
   },
   {
    "duration": 4,
    "start_time": "2023-06-06T20:48:54.036Z"
   },
   {
    "duration": 2058,
    "start_time": "2023-06-06T20:48:54.042Z"
   },
   {
    "duration": 246,
    "start_time": "2023-06-06T20:48:56.110Z"
   },
   {
    "duration": 13,
    "start_time": "2023-06-06T20:48:56.378Z"
   },
   {
    "duration": 636,
    "start_time": "2023-06-06T20:48:56.394Z"
   },
   {
    "duration": 2,
    "start_time": "2023-06-06T20:48:57.032Z"
   },
   {
    "duration": 6,
    "start_time": "2023-06-06T20:48:57.036Z"
   },
   {
    "duration": 16,
    "start_time": "2023-06-06T20:48:57.044Z"
   },
   {
    "duration": 9,
    "start_time": "2023-06-06T20:48:57.065Z"
   },
   {
    "duration": 376,
    "start_time": "2023-06-06T20:48:57.075Z"
   },
   {
    "duration": 7,
    "start_time": "2023-06-06T20:48:57.462Z"
   },
   {
    "duration": 8,
    "start_time": "2023-06-06T20:48:57.471Z"
   },
   {
    "duration": 13,
    "start_time": "2023-06-06T20:48:57.480Z"
   },
   {
    "duration": 2,
    "start_time": "2023-06-06T20:48:57.497Z"
   },
   {
    "duration": 445,
    "start_time": "2023-06-06T20:48:57.503Z"
   },
   {
    "duration": 9,
    "start_time": "2023-06-06T20:48:57.960Z"
   },
   {
    "duration": 3,
    "start_time": "2023-06-06T20:48:57.980Z"
   },
   {
    "duration": 16,
    "start_time": "2023-06-06T20:48:57.985Z"
   },
   {
    "duration": 3,
    "start_time": "2023-06-06T20:48:58.004Z"
   },
   {
    "duration": 7,
    "start_time": "2023-06-06T20:48:58.009Z"
   },
   {
    "duration": 3,
    "start_time": "2023-06-06T20:48:58.017Z"
   },
   {
    "duration": 12,
    "start_time": "2023-06-06T20:48:58.022Z"
   },
   {
    "duration": 4,
    "start_time": "2023-06-06T20:48:58.036Z"
   },
   {
    "duration": 156,
    "start_time": "2023-06-06T20:48:58.041Z"
   },
   {
    "duration": 9,
    "start_time": "2023-06-06T20:48:58.205Z"
   },
   {
    "duration": 182,
    "start_time": "2023-06-06T20:48:58.220Z"
   },
   {
    "duration": 87,
    "start_time": "2023-06-06T20:48:58.404Z"
   },
   {
    "duration": 3,
    "start_time": "2023-06-06T20:48:58.497Z"
   },
   {
    "duration": 17,
    "start_time": "2023-06-06T20:48:58.504Z"
   },
   {
    "duration": 4,
    "start_time": "2023-06-06T20:48:58.523Z"
   },
   {
    "duration": 13,
    "start_time": "2023-06-06T20:48:58.528Z"
   },
   {
    "duration": 12,
    "start_time": "2023-06-06T20:48:58.566Z"
   },
   {
    "duration": 223,
    "start_time": "2023-06-06T20:53:59.601Z"
   },
   {
    "duration": 211,
    "start_time": "2023-06-06T20:54:28.693Z"
   },
   {
    "duration": 763,
    "start_time": "2023-06-06T20:54:39.361Z"
   },
   {
    "duration": 320,
    "start_time": "2023-06-06T20:55:00.230Z"
   },
   {
    "duration": 931,
    "start_time": "2023-06-06T20:55:20.607Z"
   },
   {
    "duration": 276,
    "start_time": "2023-06-06T21:04:28.698Z"
   },
   {
    "duration": 289,
    "start_time": "2023-06-06T21:17:35.821Z"
   },
   {
    "duration": 1609,
    "start_time": "2023-06-06T21:25:59.813Z"
   },
   {
    "duration": 342,
    "start_time": "2023-06-06T21:27:27.788Z"
   },
   {
    "duration": 30,
    "start_time": "2023-06-06T21:27:55.045Z"
   },
   {
    "duration": 1342,
    "start_time": "2023-06-06T21:34:38.797Z"
   },
   {
    "duration": 87,
    "start_time": "2023-06-06T21:34:40.141Z"
   },
   {
    "duration": 15,
    "start_time": "2023-06-06T21:34:40.230Z"
   },
   {
    "duration": 3,
    "start_time": "2023-06-06T21:34:40.247Z"
   },
   {
    "duration": 21,
    "start_time": "2023-06-06T21:34:40.252Z"
   },
   {
    "duration": 20,
    "start_time": "2023-06-06T21:34:40.275Z"
   },
   {
    "duration": 11,
    "start_time": "2023-06-06T21:34:40.301Z"
   },
   {
    "duration": 5,
    "start_time": "2023-06-06T21:34:40.314Z"
   },
   {
    "duration": 9,
    "start_time": "2023-06-06T21:34:40.320Z"
   },
   {
    "duration": 31,
    "start_time": "2023-06-06T21:34:40.331Z"
   },
   {
    "duration": 12,
    "start_time": "2023-06-06T21:34:40.365Z"
   },
   {
    "duration": 2,
    "start_time": "2023-06-06T21:34:40.378Z"
   },
   {
    "duration": 5,
    "start_time": "2023-06-06T21:34:40.382Z"
   },
   {
    "duration": 27,
    "start_time": "2023-06-06T21:34:40.390Z"
   },
   {
    "duration": 16,
    "start_time": "2023-06-06T21:34:40.418Z"
   },
   {
    "duration": 15,
    "start_time": "2023-06-06T21:34:40.457Z"
   },
   {
    "duration": 13,
    "start_time": "2023-06-06T21:34:40.474Z"
   },
   {
    "duration": 6,
    "start_time": "2023-06-06T21:34:40.495Z"
   },
   {
    "duration": 6,
    "start_time": "2023-06-06T21:34:40.506Z"
   },
   {
    "duration": 15,
    "start_time": "2023-06-06T21:34:40.513Z"
   },
   {
    "duration": 17,
    "start_time": "2023-06-06T21:34:40.530Z"
   },
   {
    "duration": 42,
    "start_time": "2023-06-06T21:34:40.549Z"
   },
   {
    "duration": 5,
    "start_time": "2023-06-06T21:34:40.594Z"
   },
   {
    "duration": 57,
    "start_time": "2023-06-06T21:34:40.601Z"
   },
   {
    "duration": 12,
    "start_time": "2023-06-06T21:34:40.660Z"
   },
   {
    "duration": 9,
    "start_time": "2023-06-06T21:34:40.675Z"
   },
   {
    "duration": 22,
    "start_time": "2023-06-06T21:34:40.686Z"
   },
   {
    "duration": 71,
    "start_time": "2023-06-06T21:34:40.710Z"
   },
   {
    "duration": 8,
    "start_time": "2023-06-06T21:34:40.782Z"
   },
   {
    "duration": 23,
    "start_time": "2023-06-06T21:34:40.794Z"
   },
   {
    "duration": 41,
    "start_time": "2023-06-06T21:34:40.819Z"
   },
   {
    "duration": 7,
    "start_time": "2023-06-06T21:34:40.861Z"
   },
   {
    "duration": 239,
    "start_time": "2023-06-06T21:34:40.870Z"
   },
   {
    "duration": 5,
    "start_time": "2023-06-06T21:34:41.111Z"
   },
   {
    "duration": 190,
    "start_time": "2023-06-06T21:34:41.118Z"
   },
   {
    "duration": 17,
    "start_time": "2023-06-06T21:34:41.310Z"
   },
   {
    "duration": 35,
    "start_time": "2023-06-06T21:34:41.331Z"
   },
   {
    "duration": 54,
    "start_time": "2023-06-06T21:34:41.368Z"
   },
   {
    "duration": 521,
    "start_time": "2023-06-06T21:34:41.424Z"
   },
   {
    "duration": 24,
    "start_time": "2023-06-06T21:34:41.947Z"
   },
   {
    "duration": 2,
    "start_time": "2023-06-06T21:34:41.985Z"
   },
   {
    "duration": 217,
    "start_time": "2023-06-06T21:34:41.989Z"
   },
   {
    "duration": 794,
    "start_time": "2023-06-06T21:34:42.208Z"
   },
   {
    "duration": 3,
    "start_time": "2023-06-06T21:34:43.005Z"
   },
   {
    "duration": 9,
    "start_time": "2023-06-06T21:34:43.012Z"
   },
   {
    "duration": 306,
    "start_time": "2023-06-06T21:34:43.024Z"
   },
   {
    "duration": 846,
    "start_time": "2023-06-06T21:34:43.331Z"
   },
   {
    "duration": 2,
    "start_time": "2023-06-06T21:34:44.179Z"
   },
   {
    "duration": 2,
    "start_time": "2023-06-06T21:34:44.182Z"
   },
   {
    "duration": 11,
    "start_time": "2023-06-06T21:34:44.186Z"
   },
   {
    "duration": 5,
    "start_time": "2023-06-06T21:34:44.199Z"
   },
   {
    "duration": 5,
    "start_time": "2023-06-06T21:34:44.206Z"
   },
   {
    "duration": 11,
    "start_time": "2023-06-06T21:34:44.212Z"
   },
   {
    "duration": 315,
    "start_time": "2023-06-06T21:34:44.225Z"
   },
   {
    "duration": 27,
    "start_time": "2023-06-06T21:34:44.542Z"
   },
   {
    "duration": 8,
    "start_time": "2023-06-06T21:34:44.572Z"
   },
   {
    "duration": 6,
    "start_time": "2023-06-06T21:34:44.582Z"
   },
   {
    "duration": 10,
    "start_time": "2023-06-06T21:34:44.590Z"
   },
   {
    "duration": 1733,
    "start_time": "2023-06-06T21:34:44.603Z"
   },
   {
    "duration": 219,
    "start_time": "2023-06-06T21:34:46.338Z"
   },
   {
    "duration": 3,
    "start_time": "2023-06-06T21:34:46.558Z"
   },
   {
    "duration": 597,
    "start_time": "2023-06-06T21:34:46.562Z"
   },
   {
    "duration": 3,
    "start_time": "2023-06-06T21:34:47.161Z"
   },
   {
    "duration": 13,
    "start_time": "2023-06-06T21:34:47.166Z"
   },
   {
    "duration": 7,
    "start_time": "2023-06-06T21:34:47.184Z"
   },
   {
    "duration": 8,
    "start_time": "2023-06-06T21:34:47.194Z"
   },
   {
    "duration": 363,
    "start_time": "2023-06-06T21:34:47.203Z"
   },
   {
    "duration": 10,
    "start_time": "2023-06-06T21:34:47.571Z"
   },
   {
    "duration": 11,
    "start_time": "2023-06-06T21:34:47.583Z"
   },
   {
    "duration": 5,
    "start_time": "2023-06-06T21:34:47.596Z"
   },
   {
    "duration": 4,
    "start_time": "2023-06-06T21:34:47.603Z"
   },
   {
    "duration": 444,
    "start_time": "2023-06-06T21:34:47.609Z"
   },
   {
    "duration": 7,
    "start_time": "2023-06-06T21:34:48.057Z"
   },
   {
    "duration": 11,
    "start_time": "2023-06-06T21:34:48.072Z"
   },
   {
    "duration": 12,
    "start_time": "2023-06-06T21:34:48.087Z"
   },
   {
    "duration": 5,
    "start_time": "2023-06-06T21:34:48.101Z"
   },
   {
    "duration": 18,
    "start_time": "2023-06-06T21:34:48.107Z"
   },
   {
    "duration": 6,
    "start_time": "2023-06-06T21:34:48.127Z"
   },
   {
    "duration": 12,
    "start_time": "2023-06-06T21:34:48.135Z"
   },
   {
    "duration": 3,
    "start_time": "2023-06-06T21:34:48.148Z"
   },
   {
    "duration": 147,
    "start_time": "2023-06-06T21:34:48.161Z"
   },
   {
    "duration": 3,
    "start_time": "2023-06-06T21:34:48.309Z"
   },
   {
    "duration": 182,
    "start_time": "2023-06-06T21:34:48.313Z"
   },
   {
    "duration": 98,
    "start_time": "2023-06-06T21:34:48.497Z"
   },
   {
    "duration": 4,
    "start_time": "2023-06-06T21:34:48.602Z"
   },
   {
    "duration": 20,
    "start_time": "2023-06-06T21:34:48.608Z"
   },
   {
    "duration": 4,
    "start_time": "2023-06-06T21:34:48.630Z"
   },
   {
    "duration": 37,
    "start_time": "2023-06-06T21:34:48.635Z"
   },
   {
    "duration": 10,
    "start_time": "2023-06-06T21:34:48.677Z"
   },
   {
    "duration": 8,
    "start_time": "2023-06-06T21:42:07.793Z"
   },
   {
    "duration": 140,
    "start_time": "2023-06-06T21:46:35.411Z"
   },
   {
    "duration": 2,
    "start_time": "2023-06-06T21:47:36.300Z"
   },
   {
    "duration": 146,
    "start_time": "2023-06-06T21:48:08.369Z"
   },
   {
    "duration": 1481,
    "start_time": "2023-06-06T21:56:59.821Z"
   },
   {
    "duration": 94,
    "start_time": "2023-06-06T21:57:01.304Z"
   },
   {
    "duration": 21,
    "start_time": "2023-06-06T21:57:01.400Z"
   },
   {
    "duration": 52,
    "start_time": "2023-06-06T21:57:01.424Z"
   },
   {
    "duration": 63,
    "start_time": "2023-06-06T21:57:01.479Z"
   },
   {
    "duration": 38,
    "start_time": "2023-06-06T21:57:01.544Z"
   },
   {
    "duration": 42,
    "start_time": "2023-06-06T21:57:01.584Z"
   },
   {
    "duration": 39,
    "start_time": "2023-06-06T21:57:01.629Z"
   },
   {
    "duration": 45,
    "start_time": "2023-06-06T21:57:01.671Z"
   },
   {
    "duration": 35,
    "start_time": "2023-06-06T21:57:01.720Z"
   },
   {
    "duration": 47,
    "start_time": "2023-06-06T21:57:01.773Z"
   },
   {
    "duration": 20,
    "start_time": "2023-06-06T21:57:01.822Z"
   },
   {
    "duration": 43,
    "start_time": "2023-06-06T21:57:01.845Z"
   },
   {
    "duration": 130,
    "start_time": "2023-06-06T21:57:01.895Z"
   },
   {
    "duration": 60,
    "start_time": "2023-06-06T21:57:02.027Z"
   },
   {
    "duration": 141,
    "start_time": "2023-06-06T21:57:02.089Z"
   },
   {
    "duration": 66,
    "start_time": "2023-06-06T21:57:02.232Z"
   },
   {
    "duration": 37,
    "start_time": "2023-06-06T21:57:02.303Z"
   },
   {
    "duration": 54,
    "start_time": "2023-06-06T21:57:02.342Z"
   },
   {
    "duration": 44,
    "start_time": "2023-06-06T21:57:02.402Z"
   },
   {
    "duration": 21,
    "start_time": "2023-06-06T21:57:02.448Z"
   },
   {
    "duration": 40,
    "start_time": "2023-06-06T21:57:02.471Z"
   },
   {
    "duration": 4,
    "start_time": "2023-06-06T21:57:02.513Z"
   },
   {
    "duration": 36,
    "start_time": "2023-06-06T21:57:02.520Z"
   },
   {
    "duration": 13,
    "start_time": "2023-06-06T21:57:02.572Z"
   },
   {
    "duration": 18,
    "start_time": "2023-06-06T21:57:02.588Z"
   },
   {
    "duration": 20,
    "start_time": "2023-06-06T21:57:02.609Z"
   },
   {
    "duration": 59,
    "start_time": "2023-06-06T21:57:02.635Z"
   },
   {
    "duration": 11,
    "start_time": "2023-06-06T21:57:02.695Z"
   },
   {
    "duration": 17,
    "start_time": "2023-06-06T21:57:02.708Z"
   },
   {
    "duration": 65,
    "start_time": "2023-06-06T21:57:02.727Z"
   },
   {
    "duration": 18,
    "start_time": "2023-06-06T21:57:02.794Z"
   },
   {
    "duration": 258,
    "start_time": "2023-06-06T21:57:02.814Z"
   },
   {
    "duration": 13,
    "start_time": "2023-06-06T21:57:03.074Z"
   },
   {
    "duration": 164,
    "start_time": "2023-06-06T21:57:03.089Z"
   },
   {
    "duration": 17,
    "start_time": "2023-06-06T21:57:03.256Z"
   },
   {
    "duration": 46,
    "start_time": "2023-06-06T21:57:03.283Z"
   },
   {
    "duration": 51,
    "start_time": "2023-06-06T21:57:03.332Z"
   },
   {
    "duration": 462,
    "start_time": "2023-06-06T21:57:03.384Z"
   },
   {
    "duration": 12,
    "start_time": "2023-06-06T21:57:03.849Z"
   },
   {
    "duration": 59,
    "start_time": "2023-06-06T21:57:03.863Z"
   },
   {
    "duration": 266,
    "start_time": "2023-06-06T21:57:03.926Z"
   },
   {
    "duration": 915,
    "start_time": "2023-06-06T21:57:04.194Z"
   },
   {
    "duration": 3,
    "start_time": "2023-06-06T21:57:05.111Z"
   },
   {
    "duration": 7,
    "start_time": "2023-06-06T21:57:05.116Z"
   },
   {
    "duration": 429,
    "start_time": "2023-06-06T21:57:05.125Z"
   },
   {
    "duration": 1098,
    "start_time": "2023-06-06T21:57:05.564Z"
   },
   {
    "duration": 6,
    "start_time": "2023-06-06T21:57:06.672Z"
   },
   {
    "duration": 17,
    "start_time": "2023-06-06T21:57:06.680Z"
   },
   {
    "duration": 19,
    "start_time": "2023-06-06T21:57:06.699Z"
   },
   {
    "duration": 8,
    "start_time": "2023-06-06T21:57:06.720Z"
   },
   {
    "duration": 17,
    "start_time": "2023-06-06T21:57:06.729Z"
   },
   {
    "duration": 52,
    "start_time": "2023-06-06T21:57:06.748Z"
   },
   {
    "duration": 265,
    "start_time": "2023-06-06T21:57:06.806Z"
   },
   {
    "duration": 10,
    "start_time": "2023-06-06T21:57:07.073Z"
   },
   {
    "duration": 4,
    "start_time": "2023-06-06T21:57:07.085Z"
   },
   {
    "duration": 15,
    "start_time": "2023-06-06T21:57:07.090Z"
   },
   {
    "duration": 8,
    "start_time": "2023-06-06T21:57:07.107Z"
   },
   {
    "duration": 2348,
    "start_time": "2023-06-06T21:57:07.117Z"
   },
   {
    "duration": 269,
    "start_time": "2023-06-06T21:57:09.472Z"
   },
   {
    "duration": 6,
    "start_time": "2023-06-06T21:57:09.744Z"
   },
   {
    "duration": 723,
    "start_time": "2023-06-06T21:57:09.765Z"
   },
   {
    "duration": 13,
    "start_time": "2023-06-06T21:57:10.490Z"
   },
   {
    "duration": 11,
    "start_time": "2023-06-06T21:57:10.505Z"
   },
   {
    "duration": 9,
    "start_time": "2023-06-06T21:57:10.518Z"
   },
   {
    "duration": 8,
    "start_time": "2023-06-06T21:57:10.529Z"
   },
   {
    "duration": 387,
    "start_time": "2023-06-06T21:57:10.539Z"
   },
   {
    "duration": 3,
    "start_time": "2023-06-06T21:57:10.929Z"
   },
   {
    "duration": 4,
    "start_time": "2023-06-06T21:57:10.934Z"
   },
   {
    "duration": 23,
    "start_time": "2023-06-06T21:57:10.940Z"
   },
   {
    "duration": 6,
    "start_time": "2023-06-06T21:57:10.974Z"
   },
   {
    "duration": 525,
    "start_time": "2023-06-06T21:57:10.983Z"
   },
   {
    "duration": 3,
    "start_time": "2023-06-06T21:57:11.510Z"
   },
   {
    "duration": 5,
    "start_time": "2023-06-06T21:57:11.515Z"
   },
   {
    "duration": 4,
    "start_time": "2023-06-06T21:57:11.522Z"
   },
   {
    "duration": 4,
    "start_time": "2023-06-06T21:57:11.528Z"
   },
   {
    "duration": 24,
    "start_time": "2023-06-06T21:57:11.534Z"
   },
   {
    "duration": 7,
    "start_time": "2023-06-06T21:57:11.560Z"
   },
   {
    "duration": 27,
    "start_time": "2023-06-06T21:57:11.569Z"
   },
   {
    "duration": 5,
    "start_time": "2023-06-06T21:57:11.599Z"
   },
   {
    "duration": 215,
    "start_time": "2023-06-06T21:57:11.607Z"
   },
   {
    "duration": 4,
    "start_time": "2023-06-06T21:57:11.831Z"
   },
   {
    "duration": 188,
    "start_time": "2023-06-06T21:57:11.839Z"
   },
   {
    "duration": 215,
    "start_time": "2023-06-06T21:57:12.029Z"
   },
   {
    "duration": 3,
    "start_time": "2023-06-06T21:57:12.246Z"
   },
   {
    "duration": 13,
    "start_time": "2023-06-06T21:57:12.260Z"
   },
   {
    "duration": 17,
    "start_time": "2023-06-06T21:57:12.276Z"
   },
   {
    "duration": 11,
    "start_time": "2023-06-06T21:57:12.295Z"
   },
   {
    "duration": 17,
    "start_time": "2023-06-06T21:57:12.308Z"
   },
   {
    "duration": 8,
    "start_time": "2023-06-06T21:57:12.329Z"
   },
   {
    "duration": 1358,
    "start_time": "2023-06-07T14:15:53.404Z"
   },
   {
    "duration": 66,
    "start_time": "2023-06-07T14:15:54.765Z"
   },
   {
    "duration": 13,
    "start_time": "2023-06-07T14:15:54.833Z"
   },
   {
    "duration": 4,
    "start_time": "2023-06-07T14:15:54.849Z"
   },
   {
    "duration": 21,
    "start_time": "2023-06-07T14:15:54.855Z"
   },
   {
    "duration": 8,
    "start_time": "2023-06-07T14:15:54.878Z"
   },
   {
    "duration": 13,
    "start_time": "2023-06-07T14:15:54.888Z"
   },
   {
    "duration": 10,
    "start_time": "2023-06-07T14:15:54.902Z"
   },
   {
    "duration": 12,
    "start_time": "2023-06-07T14:15:54.913Z"
   },
   {
    "duration": 10,
    "start_time": "2023-06-07T14:15:54.928Z"
   },
   {
    "duration": 8,
    "start_time": "2023-06-07T14:15:54.939Z"
   },
   {
    "duration": 3,
    "start_time": "2023-06-07T14:15:54.976Z"
   },
   {
    "duration": 6,
    "start_time": "2023-06-07T14:15:54.980Z"
   },
   {
    "duration": 25,
    "start_time": "2023-06-07T14:15:54.988Z"
   },
   {
    "duration": 27,
    "start_time": "2023-06-07T14:15:55.014Z"
   },
   {
    "duration": 9,
    "start_time": "2023-06-07T14:15:55.043Z"
   },
   {
    "duration": 10,
    "start_time": "2023-06-07T14:15:55.053Z"
   },
   {
    "duration": 8,
    "start_time": "2023-06-07T14:15:55.077Z"
   },
   {
    "duration": 18,
    "start_time": "2023-06-07T14:15:55.086Z"
   },
   {
    "duration": 32,
    "start_time": "2023-06-07T14:15:55.105Z"
   },
   {
    "duration": 28,
    "start_time": "2023-06-07T14:15:55.138Z"
   },
   {
    "duration": 35,
    "start_time": "2023-06-07T14:15:55.168Z"
   },
   {
    "duration": 22,
    "start_time": "2023-06-07T14:15:55.205Z"
   },
   {
    "duration": 35,
    "start_time": "2023-06-07T14:15:55.228Z"
   },
   {
    "duration": 14,
    "start_time": "2023-06-07T14:15:55.264Z"
   },
   {
    "duration": 3,
    "start_time": "2023-06-07T14:15:55.279Z"
   },
   {
    "duration": 32,
    "start_time": "2023-06-07T14:15:55.284Z"
   },
   {
    "duration": 32,
    "start_time": "2023-06-07T14:15:55.320Z"
   },
   {
    "duration": 4,
    "start_time": "2023-06-07T14:15:55.353Z"
   },
   {
    "duration": 25,
    "start_time": "2023-06-07T14:15:55.359Z"
   },
   {
    "duration": 43,
    "start_time": "2023-06-07T14:15:55.386Z"
   },
   {
    "duration": 9,
    "start_time": "2023-06-07T14:15:55.430Z"
   },
   {
    "duration": 204,
    "start_time": "2023-06-07T14:15:55.440Z"
   },
   {
    "duration": 4,
    "start_time": "2023-06-07T14:15:55.646Z"
   },
   {
    "duration": 157,
    "start_time": "2023-06-07T14:15:55.652Z"
   },
   {
    "duration": 9,
    "start_time": "2023-06-07T14:15:55.811Z"
   },
   {
    "duration": 31,
    "start_time": "2023-06-07T14:15:55.822Z"
   },
   {
    "duration": 35,
    "start_time": "2023-06-07T14:15:55.854Z"
   },
   {
    "duration": 411,
    "start_time": "2023-06-07T14:15:55.891Z"
   },
   {
    "duration": 11,
    "start_time": "2023-06-07T14:15:56.304Z"
   },
   {
    "duration": 18,
    "start_time": "2023-06-07T14:15:56.317Z"
   },
   {
    "duration": 219,
    "start_time": "2023-06-07T14:15:56.338Z"
   },
   {
    "duration": 707,
    "start_time": "2023-06-07T14:15:56.558Z"
   },
   {
    "duration": 8,
    "start_time": "2023-06-07T14:15:57.268Z"
   },
   {
    "duration": 4,
    "start_time": "2023-06-07T14:15:57.278Z"
   },
   {
    "duration": 260,
    "start_time": "2023-06-07T14:15:57.284Z"
   },
   {
    "duration": 707,
    "start_time": "2023-06-07T14:15:57.546Z"
   },
   {
    "duration": 3,
    "start_time": "2023-06-07T14:15:58.254Z"
   },
   {
    "duration": 12,
    "start_time": "2023-06-07T14:15:58.259Z"
   },
   {
    "duration": 11,
    "start_time": "2023-06-07T14:15:58.272Z"
   },
   {
    "duration": 14,
    "start_time": "2023-06-07T14:15:58.284Z"
   },
   {
    "duration": 20,
    "start_time": "2023-06-07T14:15:58.300Z"
   },
   {
    "duration": 15,
    "start_time": "2023-06-07T14:15:58.321Z"
   },
   {
    "duration": 231,
    "start_time": "2023-06-07T14:15:58.338Z"
   },
   {
    "duration": 8,
    "start_time": "2023-06-07T14:15:58.571Z"
   },
   {
    "duration": 3,
    "start_time": "2023-06-07T14:15:58.581Z"
   },
   {
    "duration": 8,
    "start_time": "2023-06-07T14:15:58.586Z"
   },
   {
    "duration": 12,
    "start_time": "2023-06-07T14:15:58.595Z"
   },
   {
    "duration": 1554,
    "start_time": "2023-06-07T14:15:58.609Z"
   },
   {
    "duration": 201,
    "start_time": "2023-06-07T14:16:00.165Z"
   },
   {
    "duration": 3,
    "start_time": "2023-06-07T14:16:00.367Z"
   },
   {
    "duration": 521,
    "start_time": "2023-06-07T14:16:00.376Z"
   },
   {
    "duration": 2,
    "start_time": "2023-06-07T14:16:00.899Z"
   },
   {
    "duration": 32,
    "start_time": "2023-06-07T14:16:00.903Z"
   },
   {
    "duration": 50,
    "start_time": "2023-06-07T14:16:00.937Z"
   },
   {
    "duration": 24,
    "start_time": "2023-06-07T14:16:00.989Z"
   },
   {
    "duration": 342,
    "start_time": "2023-06-07T14:16:01.015Z"
   },
   {
    "duration": 3,
    "start_time": "2023-06-07T14:16:01.359Z"
   },
   {
    "duration": 29,
    "start_time": "2023-06-07T14:16:01.363Z"
   },
   {
    "duration": 59,
    "start_time": "2023-06-07T14:16:01.394Z"
   },
   {
    "duration": 30,
    "start_time": "2023-06-07T14:16:01.454Z"
   },
   {
    "duration": 414,
    "start_time": "2023-06-07T14:16:01.486Z"
   },
   {
    "duration": 3,
    "start_time": "2023-06-07T14:16:01.902Z"
   },
   {
    "duration": 46,
    "start_time": "2023-06-07T14:16:01.907Z"
   },
   {
    "duration": 55,
    "start_time": "2023-06-07T14:16:01.955Z"
   },
   {
    "duration": 31,
    "start_time": "2023-06-07T14:16:02.012Z"
   },
   {
    "duration": 47,
    "start_time": "2023-06-07T14:16:02.045Z"
   },
   {
    "duration": 29,
    "start_time": "2023-06-07T14:16:02.094Z"
   },
   {
    "duration": 53,
    "start_time": "2023-06-07T14:16:02.124Z"
   },
   {
    "duration": 19,
    "start_time": "2023-06-07T14:16:02.179Z"
   },
   {
    "duration": 155,
    "start_time": "2023-06-07T14:16:02.199Z"
   },
   {
    "duration": 2,
    "start_time": "2023-06-07T14:16:02.359Z"
   },
   {
    "duration": 165,
    "start_time": "2023-06-07T14:16:02.363Z"
   },
   {
    "duration": 133,
    "start_time": "2023-06-07T14:16:02.529Z"
   },
   {
    "duration": 2,
    "start_time": "2023-06-07T14:16:02.664Z"
   },
   {
    "duration": 18,
    "start_time": "2023-06-07T14:16:02.667Z"
   },
   {
    "duration": 30,
    "start_time": "2023-06-07T14:16:02.687Z"
   },
   {
    "duration": 12,
    "start_time": "2023-06-07T14:16:02.718Z"
   },
   {
    "duration": 32,
    "start_time": "2023-06-07T14:16:02.732Z"
   },
   {
    "duration": 27,
    "start_time": "2023-06-07T14:16:02.766Z"
   }
  ],
  "kernelspec": {
   "display_name": "Python 3 (ipykernel)",
   "language": "python",
   "name": "python3"
  },
  "language_info": {
   "codemirror_mode": {
    "name": "ipython",
    "version": 3
   },
   "file_extension": ".py",
   "mimetype": "text/x-python",
   "name": "python",
   "nbconvert_exporter": "python",
   "pygments_lexer": "ipython3",
   "version": "3.10.12"
  },
  "toc": {
   "base_numbering": 1,
   "nav_menu": {},
   "number_sections": true,
   "sideBar": true,
   "skip_h1_title": true,
   "title_cell": "Table of Contents",
   "title_sidebar": "Contents",
   "toc_cell": false,
   "toc_position": {
    "height": "calc(100% - 180px)",
    "left": "10px",
    "top": "150px",
    "width": "224.943px"
   },
   "toc_section_display": true,
   "toc_window_display": true
  }
 },
 "nbformat": 4,
 "nbformat_minor": 2
}
